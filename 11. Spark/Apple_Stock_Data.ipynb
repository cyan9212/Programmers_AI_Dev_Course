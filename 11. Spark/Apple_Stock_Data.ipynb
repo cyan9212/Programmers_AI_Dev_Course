{
  "nbformat": 4,
  "nbformat_minor": 0,
  "metadata": {
    "colab": {
      "name": "Apple_Stock_Data.ipynb",
      "provenance": []
    },
    "kernelspec": {
      "name": "python3",
      "display_name": "Python 3"
    },
    "language_info": {
      "name": "python"
    }
  },
  "cells": [
    {
      "cell_type": "markdown",
      "source": [
        "# 애플 주식 데이터 분석"
      ],
      "metadata": {
        "id": "aD-108UVt7kQ"
      }
    },
    {
      "cell_type": "markdown",
      "source": [
        "## PySpark와 Py4J 설치"
      ],
      "metadata": {
        "id": "ekPoy3eit9wt"
      }
    },
    {
      "cell_type": "code",
      "execution_count": 1,
      "metadata": {
        "colab": {
          "base_uri": "https://localhost:8080/"
        },
        "id": "pobWLj2Etwcf",
        "outputId": "d79fc3a0-4e0c-42e1-9084-91c7c2e4eef9"
      },
      "outputs": [
        {
          "output_type": "stream",
          "name": "stdout",
          "text": [
            "Collecting pyspark==3.0.1\n",
            "  Downloading pyspark-3.0.1.tar.gz (204.2 MB)\n",
            "\u001b[K     |████████████████████████████████| 204.2 MB 35 kB/s \n",
            "\u001b[?25hCollecting py4j==0.10.9\n",
            "  Downloading py4j-0.10.9-py2.py3-none-any.whl (198 kB)\n",
            "\u001b[K     |████████████████████████████████| 198 kB 51.6 MB/s \n",
            "\u001b[?25hBuilding wheels for collected packages: pyspark\n",
            "  Building wheel for pyspark (setup.py) ... \u001b[?25l\u001b[?25hdone\n",
            "  Created wheel for pyspark: filename=pyspark-3.0.1-py2.py3-none-any.whl size=204612243 sha256=89f05fa06480c7070b7cf6d1add5a07ec7098e7ade9790bb7f6995f9aff49e1a\n",
            "  Stored in directory: /root/.cache/pip/wheels/5e/34/fa/b37b5cef503fc5148b478b2495043ba61b079120b7ff379f9b\n",
            "Successfully built pyspark\n",
            "Installing collected packages: py4j, pyspark\n",
            "Successfully installed py4j-0.10.9 pyspark-3.0.1\n"
          ]
        }
      ],
      "source": [
        "!pip install pyspark==3.0.1 py4j==0.10.9"
      ]
    },
    {
      "cell_type": "markdown",
      "source": [
        "## SparkSession 생성"
      ],
      "metadata": {
        "id": "tVcmRBRLubuT"
      }
    },
    {
      "cell_type": "code",
      "source": [
        "from pyspark.sql import SparkSession\n",
        "\n",
        "spark = SparkSession\\\n",
        "  .builder\\\n",
        "  .appName('Python Spark DataFrame basic example')\\\n",
        "  .getOrCreate()"
      ],
      "metadata": {
        "id": "5LThuqeKt5nQ"
      },
      "execution_count": 2,
      "outputs": []
    },
    {
      "cell_type": "markdown",
      "source": [
        "## 애플 주식 CSV파일 로드"
      ],
      "metadata": {
        "id": "ofeMQVvduZV9"
      }
    },
    {
      "cell_type": "code",
      "source": [
        "import pandas as pd\n",
        "\n",
        "apple_pandas_df = pd.read_csv(\"https://pyspark-test-sj.s3-us-west-2.amazonaws.com/appl_stock.csv\")\n",
        "apple_spark_df = spark.createDataFrame(apple_pandas_df)"
      ],
      "metadata": {
        "id": "0Sg3LLKSukwp"
      },
      "execution_count": 14,
      "outputs": []
    },
    {
      "cell_type": "code",
      "source": [
        "# 칼럼의 종류 확인\n",
        "apple_spark_df.columns"
      ],
      "metadata": {
        "colab": {
          "base_uri": "https://localhost:8080/"
        },
        "id": "_nfFJbT1uw0b",
        "outputId": "cc22104f-8c41-4569-d054-e58e78f2b27a"
      },
      "execution_count": 15,
      "outputs": [
        {
          "output_type": "execute_result",
          "data": {
            "text/plain": [
              "['Date', 'Open', 'High', 'Low', 'Close', 'Volume', 'Adj Close']"
            ]
          },
          "metadata": {},
          "execution_count": 15
        }
      ]
    },
    {
      "cell_type": "code",
      "source": [
        "# 스키마를 출력\n",
        "apple_spark_df.printSchema()"
      ],
      "metadata": {
        "colab": {
          "base_uri": "https://localhost:8080/"
        },
        "id": "60Sjg14fu2T3",
        "outputId": "a9f50c12-e08a-4ba5-d007-85aba778e8f4"
      },
      "execution_count": 16,
      "outputs": [
        {
          "output_type": "stream",
          "name": "stdout",
          "text": [
            "root\n",
            " |-- Date: string (nullable = true)\n",
            " |-- Open: double (nullable = true)\n",
            " |-- High: double (nullable = true)\n",
            " |-- Low: double (nullable = true)\n",
            " |-- Close: double (nullable = true)\n",
            " |-- Volume: long (nullable = true)\n",
            " |-- Adj Close: double (nullable = true)\n",
            "\n"
          ]
        }
      ]
    },
    {
      "cell_type": "code",
      "source": [
        "# 처음 5개의 레코드 출력\n",
        "apple_spark_df.show(n=5)"
      ],
      "metadata": {
        "colab": {
          "base_uri": "https://localhost:8080/"
        },
        "id": "bEXGAWGqu4-m",
        "outputId": "b16e8006-6aa7-4c4b-dea3-07a6c403acac"
      },
      "execution_count": 17,
      "outputs": [
        {
          "output_type": "stream",
          "name": "stdout",
          "text": [
            "+----------+----------+----------+----------+----------+---------+------------------+\n",
            "|      Date|      Open|      High|       Low|     Close|   Volume|         Adj Close|\n",
            "+----------+----------+----------+----------+----------+---------+------------------+\n",
            "|2010-01-04|213.429998|214.499996|212.380001|214.009998|123432400|         27.727039|\n",
            "|2010-01-05|214.599998|215.589994|213.249994|214.379993|150476200|         27.774976|\n",
            "|2010-01-06|214.379993|    215.23|210.750004|210.969995|138040000|27.333178000000004|\n",
            "|2010-01-07|    211.75|212.000006|209.050005|    210.58|119282800|          27.28265|\n",
            "|2010-01-08|210.299994|212.000006|209.060005|211.980005|111902700|         27.464034|\n",
            "+----------+----------+----------+----------+----------+---------+------------------+\n",
            "only showing top 5 rows\n",
            "\n"
          ]
        }
      ]
    },
    {
      "cell_type": "code",
      "source": [
        "# describe를 사용하여 DataFrame의 칼럼별 통계를 확인\n",
        "apple_spark_df.describe().show()"
      ],
      "metadata": {
        "colab": {
          "base_uri": "https://localhost:8080/"
        },
        "id": "5U9JmMKUvGqC",
        "outputId": "8112c9b6-db84-4ad3-dd79-a1570137b393"
      },
      "execution_count": 18,
      "outputs": [
        {
          "output_type": "stream",
          "name": "stdout",
          "text": [
            "+-------+----------+------------------+-----------------+------------------+------------------+--------------------+------------------+\n",
            "|summary|      Date|              Open|             High|               Low|             Close|              Volume|         Adj Close|\n",
            "+-------+----------+------------------+-----------------+------------------+------------------+--------------------+------------------+\n",
            "|  count|      1762|              1762|             1762|              1762|              1762|                1762|              1762|\n",
            "|   mean|      null|313.07631115890996|315.9112880164584|309.82824050794557| 312.9270656379114| 9.422577587968218E7| 75.00174115607273|\n",
            "| stddev|      null|185.29946803981545|186.8981768648577|183.38391664370988|185.14710361709427|6.0205187765927084E7|28.574929721799037|\n",
            "|    min|2010-01-04|              90.0|        90.699997|         89.470001|         90.279999|            11475900|         24.881912|\n",
            "|    max|2016-12-30|        702.409988|       705.070023|        699.569977|        702.100021|           470249500|        127.966091|\n",
            "+-------+----------+------------------+-----------------+------------------+------------------+--------------------+------------------+\n",
            "\n"
          ]
        }
      ]
    },
    {
      "cell_type": "code",
      "source": [
        "from pyspark.sql.functions import mean\n",
        "\n",
        "# Close 칼럼의 평균값\n",
        "apple_spark_df.select(mean('Close')).show()"
      ],
      "metadata": {
        "colab": {
          "base_uri": "https://localhost:8080/"
        },
        "id": "g82RXsIYu987",
        "outputId": "9450cf6a-7280-466b-b071-c2b4dd0c8cdd"
      },
      "execution_count": 19,
      "outputs": [
        {
          "output_type": "stream",
          "name": "stdout",
          "text": [
            "+-----------------+\n",
            "|       avg(Close)|\n",
            "+-----------------+\n",
            "|312.9270656379114|\n",
            "+-----------------+\n",
            "\n"
          ]
        }
      ]
    },
    {
      "cell_type": "code",
      "source": [
        "from pyspark.sql.functions import min, max\n",
        "\n",
        "# Volume 칼럼의 최댓값과 최솟값\n",
        "apple_spark_df.select(max('Volume'), min('Volume')).show()"
      ],
      "metadata": {
        "colab": {
          "base_uri": "https://localhost:8080/"
        },
        "id": "p2ZINF_uvmR1",
        "outputId": "7df8061a-4ab9-4a48-962d-f172542171f4"
      },
      "execution_count": 20,
      "outputs": [
        {
          "output_type": "stream",
          "name": "stdout",
          "text": [
            "+-----------+-----------+\n",
            "|max(Volume)|min(Volume)|\n",
            "+-----------+-----------+\n",
            "|  470249500|   11475900|\n",
            "+-----------+-----------+\n",
            "\n"
          ]
        }
      ]
    },
    {
      "cell_type": "markdown",
      "source": [
        "## HV radio 라는 이름의 새로운 칼럼을 추가한 데이터프레임 만들기 (hv ratio = High/Volume)"
      ],
      "metadata": {
        "id": "kQP9ubMmwdLt"
      }
    },
    {
      "cell_type": "code",
      "source": [
        "apple_spark_df_with_hv = apple_spark_df.withColumn(\"hv ratio\", apple_spark_df.High/apple_spark_df.Volume)"
      ],
      "metadata": {
        "id": "63v6wd95v3yN"
      },
      "execution_count": 21,
      "outputs": []
    },
    {
      "cell_type": "code",
      "source": [
        "apple_spark_df_with_hv.show(5)"
      ],
      "metadata": {
        "colab": {
          "base_uri": "https://localhost:8080/"
        },
        "id": "9p9vp7lKwcRH",
        "outputId": "cf2c47a1-4023-4ba0-ee88-2aca805da6dc"
      },
      "execution_count": 23,
      "outputs": [
        {
          "output_type": "stream",
          "name": "stdout",
          "text": [
            "+----------+----------+----------+----------+----------+---------+------------------+--------------------+\n",
            "|      Date|      Open|      High|       Low|     Close|   Volume|         Adj Close|            hv ratio|\n",
            "+----------+----------+----------+----------+----------+---------+------------------+--------------------+\n",
            "|2010-01-04|213.429998|214.499996|212.380001|214.009998|123432400|         27.727039|1.737793286041590...|\n",
            "|2010-01-05|214.599998|215.589994|213.249994|214.379993|150476200|         27.774976|1.432718223878593...|\n",
            "|2010-01-06|214.379993|    215.23|210.750004|210.969995|138040000|27.333178000000004|1.559185743262822...|\n",
            "|2010-01-07|    211.75|212.000006|209.050005|    210.58|119282800|          27.28265|1.777288980473295...|\n",
            "|2010-01-08|210.299994|212.000006|209.060005|211.980005|111902700|         27.464034|1.894503045949740...|\n",
            "+----------+----------+----------+----------+----------+---------+------------------+--------------------+\n",
            "only showing top 5 rows\n",
            "\n"
          ]
        }
      ]
    },
    {
      "cell_type": "markdown",
      "source": [
        "## 월별 Close 칼럼의 평균값"
      ],
      "metadata": {
        "id": "-LAdDIJxwuqQ"
      }
    },
    {
      "cell_type": "code",
      "source": [
        "from pyspark.sql.functions import month \n",
        "\n",
        "monthdf = apple_spark_df.withColumn(\"Month\", month(\"Date\"))\n",
        "monthdf.show(5)"
      ],
      "metadata": {
        "colab": {
          "base_uri": "https://localhost:8080/"
        },
        "id": "s4EmOCG2xRMn",
        "outputId": "7751139d-379c-4697-f958-511b92a2efce"
      },
      "execution_count": 25,
      "outputs": [
        {
          "output_type": "stream",
          "name": "stdout",
          "text": [
            "+----------+----------+----------+----------+----------+---------+------------------+-----+\n",
            "|      Date|      Open|      High|       Low|     Close|   Volume|         Adj Close|Month|\n",
            "+----------+----------+----------+----------+----------+---------+------------------+-----+\n",
            "|2010-01-04|213.429998|214.499996|212.380001|214.009998|123432400|         27.727039|    1|\n",
            "|2010-01-05|214.599998|215.589994|213.249994|214.379993|150476200|         27.774976|    1|\n",
            "|2010-01-06|214.379993|    215.23|210.750004|210.969995|138040000|27.333178000000004|    1|\n",
            "|2010-01-07|    211.75|212.000006|209.050005|    210.58|119282800|          27.28265|    1|\n",
            "|2010-01-08|210.299994|212.000006|209.060005|211.980005|111902700|         27.464034|    1|\n",
            "+----------+----------+----------+----------+----------+---------+------------------+-----+\n",
            "only showing top 5 rows\n",
            "\n"
          ]
        }
      ]
    },
    {
      "cell_type": "code",
      "source": [
        "monthavgdf = monthdf.select(['Month', 'Close']).groupby('Month').mean()"
      ],
      "metadata": {
        "id": "1J9XQ_4YxkJe"
      },
      "execution_count": 26,
      "outputs": []
    },
    {
      "cell_type": "code",
      "source": [
        "monthavgdf.show()"
      ],
      "metadata": {
        "colab": {
          "base_uri": "https://localhost:8080/"
        },
        "id": "RUUZnS9bx5j0",
        "outputId": "2cb1abb6-a514-42c1-9b1c-5c805a387d72"
      },
      "execution_count": 27,
      "outputs": [
        {
          "output_type": "stream",
          "name": "stdout",
          "text": [
            "+-----+----------+------------------+\n",
            "|Month|avg(Month)|        avg(Close)|\n",
            "+-----+----------+------------------+\n",
            "|   12|      12.0|302.35053626845644|\n",
            "|    1|       1.0| 322.2097142571429|\n",
            "|    6|       6.0|288.12546566000003|\n",
            "|    3|       3.0| 332.9115673137254|\n",
            "|    5|       5.0|  351.621020857143|\n",
            "|    9|       9.0| 301.0763195902777|\n",
            "|    4|       4.0| 340.5104108150685|\n",
            "|    8|       8.0|300.43858096129026|\n",
            "|    7|       7.0| 281.7221621148649|\n",
            "|   10|      10.0|  308.305525631579|\n",
            "|   11|      11.0|306.27251748951056|\n",
            "|    2|       2.0| 321.3595563037037|\n",
            "+-----+----------+------------------+\n",
            "\n"
          ]
        }
      ]
    },
    {
      "cell_type": "code",
      "source": [
        "monthavgdf.select(['Month', 'avg(Close)']).orderBy('Month').show()"
      ],
      "metadata": {
        "colab": {
          "base_uri": "https://localhost:8080/"
        },
        "id": "PgDP3zrox64Y",
        "outputId": "a2631c1b-8796-4041-c123-5bc8aa5c296e"
      },
      "execution_count": 36,
      "outputs": [
        {
          "output_type": "stream",
          "name": "stdout",
          "text": [
            "+-----+------------------+\n",
            "|Month|        avg(Close)|\n",
            "+-----+------------------+\n",
            "|    1| 322.2097142571429|\n",
            "|    2| 321.3595563037037|\n",
            "|    3| 332.9115673137254|\n",
            "|    4| 340.5104108150685|\n",
            "|    5|  351.621020857143|\n",
            "|    6|288.12546566000003|\n",
            "|    7| 281.7221621148649|\n",
            "|    8|300.43858096129026|\n",
            "|    9| 301.0763195902777|\n",
            "|   10|  308.305525631579|\n",
            "|   11|306.27251748951056|\n",
            "|   12|302.35053626845644|\n",
            "+-----+------------------+\n",
            "\n"
          ]
        }
      ]
    }
  ]
}