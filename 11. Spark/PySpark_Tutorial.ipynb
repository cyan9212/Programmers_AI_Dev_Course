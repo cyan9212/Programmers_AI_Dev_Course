{
  "nbformat": 4,
  "nbformat_minor": 0,
  "metadata": {
    "colab": {
      "name": "PySpark_Tutorial.ipynb",
      "provenance": []
    },
    "kernelspec": {
      "name": "python3",
      "display_name": "Python 3"
    },
    "language_info": {
      "name": "python"
    }
  },
  "cells": [
    {
      "cell_type": "markdown",
      "source": [
        "# PySpark Tutorial"
      ],
      "metadata": {
        "id": "nENjANZitc3U"
      }
    },
    {
      "cell_type": "code",
      "execution_count": 1,
      "metadata": {
        "id": "baCPrJS6d2Mf",
        "colab": {
          "base_uri": "https://localhost:8080/"
        },
        "outputId": "b373b3d5-78a6-451c-ed0e-5e82b427972c"
      },
      "outputs": [
        {
          "output_type": "stream",
          "name": "stdout",
          "text": [
            "Collecting pyspark==3.0.1\n",
            "  Downloading pyspark-3.0.1.tar.gz (204.2 MB)\n",
            "\u001b[K     |████████████████████████████████| 204.2 MB 36 kB/s \n",
            "\u001b[?25hCollecting py4j==0.10.9\n",
            "  Downloading py4j-0.10.9-py2.py3-none-any.whl (198 kB)\n",
            "\u001b[K     |████████████████████████████████| 198 kB 53.0 MB/s \n",
            "\u001b[?25hBuilding wheels for collected packages: pyspark\n",
            "  Building wheel for pyspark (setup.py) ... \u001b[?25l\u001b[?25hdone\n",
            "  Created wheel for pyspark: filename=pyspark-3.0.1-py2.py3-none-any.whl size=204612243 sha256=e24e4191d08ef2f607e9e1fe11fc49fb43f560f3c2d21c0ffdbf2b269b285c64\n",
            "  Stored in directory: /root/.cache/pip/wheels/5e/34/fa/b37b5cef503fc5148b478b2495043ba61b079120b7ff379f9b\n",
            "Successfully built pyspark\n",
            "Installing collected packages: py4j, pyspark\n",
            "Successfully installed py4j-0.10.9 pyspark-3.0.1\n"
          ]
        }
      ],
      "source": [
        "!pip install pyspark==3.0.1 py4j==0.10.9"
      ]
    },
    {
      "cell_type": "markdown",
      "source": [
        "py4j 패키지는 python 프로그램이 자바가상머신의 오브젝트들에 접근할 수 있도록 해준다."
      ],
      "metadata": {
        "id": "QJD0yT8dmoBN"
      }
    },
    {
      "cell_type": "code",
      "source": [
        "!ls -tl"
      ],
      "metadata": {
        "colab": {
          "base_uri": "https://localhost:8080/"
        },
        "id": "z5XdP9AfmfaT",
        "outputId": "8853004c-651f-4db6-b35f-996887905cd3"
      },
      "execution_count": 2,
      "outputs": [
        {
          "output_type": "stream",
          "name": "stdout",
          "text": [
            "total 4\n",
            "drwxr-xr-x 1 root root 4096 Mar  9 14:48 sample_data\n"
          ]
        }
      ]
    },
    {
      "cell_type": "code",
      "source": [
        "!ls -tl sample_data"
      ],
      "metadata": {
        "colab": {
          "base_uri": "https://localhost:8080/"
        },
        "id": "_FlSU7Z5mzPo",
        "outputId": "8bbf8b58-4796-4a9f-aa10-85d813b086cd"
      },
      "execution_count": 3,
      "outputs": [
        {
          "output_type": "stream",
          "name": "stdout",
          "text": [
            "total 55504\n",
            "-rw-r--r-- 1 root root 18289443 Mar  9 14:48 mnist_test.csv\n",
            "-rw-r--r-- 1 root root 36523880 Mar  9 14:48 mnist_train_small.csv\n",
            "-rw-r--r-- 1 root root   301141 Mar  9 14:48 california_housing_test.csv\n",
            "-rw-r--r-- 1 root root  1706430 Mar  9 14:48 california_housing_train.csv\n",
            "-rwxr-xr-x 1 root root     1697 Jan  1  2000 anscombe.json\n",
            "-rwxr-xr-x 1 root root      930 Jan  1  2000 README.md\n"
          ]
        }
      ]
    },
    {
      "cell_type": "markdown",
      "source": [
        "**Spark Session**\n",
        "- SparkSession은 Spark 2.0부터 엔트리 포인트로 사용된다.  \n",
        "- 그 이전에는 SparkContext가 사용되었다.  \n",
        "- SparkSession을 이용해 RDD, 데이터프레임 등을 만든다.  \n",
        "- SparkSession은 SparkSession.builder를 호출하여 생성하며 다양한 세부 설정이 가능 "
      ],
      "metadata": {
        "id": "6-Fvlfygm1-d"
      }
    },
    {
      "cell_type": "code",
      "source": [
        "from pyspark.sql import SparkSession\n",
        "\n",
        "spark = SparkSession.builder.master('local[*]').appName('PySpark_Tutorial').getOrCreate()"
      ],
      "metadata": {
        "id": "is5uDCoJnZqN"
      },
      "execution_count": 9,
      "outputs": []
    },
    {
      "cell_type": "code",
      "source": [
        "spark"
      ],
      "metadata": {
        "colab": {
          "base_uri": "https://localhost:8080/",
          "height": 222
        },
        "id": "DsKN1Jw3n-fl",
        "outputId": "cd3e307c-e6be-44dd-8f15-fbf133da0ca8"
      },
      "execution_count": 10,
      "outputs": [
        {
          "output_type": "execute_result",
          "data": {
            "text/plain": [
              "<pyspark.sql.session.SparkSession at 0x7f430eedefd0>"
            ],
            "text/html": [
              "\n",
              "            <div>\n",
              "                <p><b>SparkSession - in-memory</b></p>\n",
              "                \n",
              "        <div>\n",
              "            <p><b>SparkContext</b></p>\n",
              "\n",
              "            <p><a href=\"http://baa0daedc950:4040\">Spark UI</a></p>\n",
              "\n",
              "            <dl>\n",
              "              <dt>Version</dt>\n",
              "                <dd><code>v3.0.1</code></dd>\n",
              "              <dt>Master</dt>\n",
              "                <dd><code>local[*]</code></dd>\n",
              "              <dt>AppName</dt>\n",
              "                <dd><code>PySpark_Tutorial</code></dd>\n",
              "            </dl>\n",
              "        </div>\n",
              "        \n",
              "            </div>\n",
              "        "
            ]
          },
          "metadata": {},
          "execution_count": 10
        }
      ]
    },
    {
      "cell_type": "markdown",
      "source": [
        "## Python 객체를 RDD로 변환"
      ],
      "metadata": {
        "id": "5DaeaOV7oc6k"
      }
    },
    {
      "cell_type": "markdown",
      "source": [
        "### 1. Python 리스트 생성"
      ],
      "metadata": {
        "id": "unCKot1No5pR"
      }
    },
    {
      "cell_type": "code",
      "source": [
        "name_list_json = ['{\"name\": \"keeyong\"}', '{\"name\": \"benjamin\"}', '{\"name\": \"claire\"}']"
      ],
      "metadata": {
        "id": "xQ5sOObUo_I8"
      },
      "execution_count": 19,
      "outputs": []
    },
    {
      "cell_type": "code",
      "source": [
        "for n in name_list_json:\n",
        "  print(n)"
      ],
      "metadata": {
        "colab": {
          "base_uri": "https://localhost:8080/"
        },
        "id": "bCFazAtopZKb",
        "outputId": "63c28428-eead-422e-daf8-2bb3097345a2"
      },
      "execution_count": 20,
      "outputs": [
        {
          "output_type": "stream",
          "name": "stdout",
          "text": [
            "{\"name\": \"keeyong\"}\n",
            "{\"name\": \"benjamin\"}\n",
            "{\"name\": \"claire\"}\n"
          ]
        }
      ]
    },
    {
      "cell_type": "code",
      "source": [
        "import json\n",
        "\n",
        "for n in name_list_json:\n",
        "  jn = json.loads(n)\n",
        "  print(jn['name'])"
      ],
      "metadata": {
        "colab": {
          "base_uri": "https://localhost:8080/"
        },
        "id": "vygXB2tSpcUX",
        "outputId": "66e59465-ff8f-4c90-da0a-f787a5fd6b90"
      },
      "execution_count": 23,
      "outputs": [
        {
          "output_type": "stream",
          "name": "stdout",
          "text": [
            "keeyong\n",
            "benjamin\n",
            "claire\n"
          ]
        }
      ]
    },
    {
      "cell_type": "markdown",
      "source": [
        "### 2. Python 리스트를 RDD로 변환\n",
        "- RDD로 변환되는 순간 Spark Cluster의 서버들에 데이터가 나눠 저장된다.(파티션)\n",
        "- 또한 **Lazy Execution**이 된다."
      ],
      "metadata": {
        "id": "9raxp_OTpkW0"
      }
    },
    {
      "cell_type": "code",
      "source": [
        "rdd = spark.sparkContext.parallelize(name_list_json)"
      ],
      "metadata": {
        "id": "9qvWZqpsqnl4"
      },
      "execution_count": 24,
      "outputs": []
    },
    {
      "cell_type": "markdown",
      "source": [
        "**Lazy Execution**\n",
        "- 바로 Spark Cluster에 올라가서 RDD가 되는것은 아님\n",
        "- RDD를 가지고 의미있는 일을 하는 순간 위 코드가 실행이 된다."
      ],
      "metadata": {
        "id": "BRFf2Pw9q0An"
      }
    },
    {
      "cell_type": "code",
      "source": [
        "rdd"
      ],
      "metadata": {
        "colab": {
          "base_uri": "https://localhost:8080/"
        },
        "id": "XeAXB3MVrDFu",
        "outputId": "59214c7a-0a43-40e4-a2b0-c4632e72993b"
      },
      "execution_count": 25,
      "outputs": [
        {
          "output_type": "execute_result",
          "data": {
            "text/plain": [
              "ParallelCollectionRDD[0] at readRDDFromFile at PythonRDD.scala:262"
            ]
          },
          "metadata": {},
          "execution_count": 25
        }
      ]
    },
    {
      "cell_type": "code",
      "source": [
        "rdd.count() # 여기서 실제 parallelize가 실행"
      ],
      "metadata": {
        "colab": {
          "base_uri": "https://localhost:8080/"
        },
        "id": "tocOuK4grInY",
        "outputId": "b5b0cd6b-1d8a-4982-88bc-90f2559d92f8"
      },
      "execution_count": 26,
      "outputs": [
        {
          "output_type": "execute_result",
          "data": {
            "text/plain": [
              "3"
            ]
          },
          "metadata": {},
          "execution_count": 26
        }
      ]
    },
    {
      "cell_type": "code",
      "source": [
        "parsed_rdd = rdd.map(lambda el:json.loads(el))"
      ],
      "metadata": {
        "id": "WZ900b0crKa6"
      },
      "execution_count": 27,
      "outputs": []
    },
    {
      "cell_type": "code",
      "source": [
        "parsed_rdd"
      ],
      "metadata": {
        "colab": {
          "base_uri": "https://localhost:8080/"
        },
        "id": "6mEeOY7WrkZR",
        "outputId": "1d5e04ab-a03a-409f-99fe-325d6571c2ac"
      },
      "execution_count": 29,
      "outputs": [
        {
          "output_type": "execute_result",
          "data": {
            "text/plain": [
              "PythonRDD[2] at RDD at PythonRDD.scala:53"
            ]
          },
          "metadata": {},
          "execution_count": 29
        }
      ]
    },
    {
      "cell_type": "code",
      "source": [
        "parsed_rdd.collect()"
      ],
      "metadata": {
        "colab": {
          "base_uri": "https://localhost:8080/"
        },
        "id": "oVyqkqd4rlOe",
        "outputId": "04e309f5-7816-4147-ce83-92b8bfaea860"
      },
      "execution_count": 30,
      "outputs": [
        {
          "output_type": "execute_result",
          "data": {
            "text/plain": [
              "[{'name': 'keeyong'}, {'name': 'benjamin'}, {'name': 'claire'}]"
            ]
          },
          "metadata": {},
          "execution_count": 30
        }
      ]
    },
    {
      "cell_type": "code",
      "source": [
        "parsed_name_rdd = rdd.map(lambda el:json.loads(el)['name'])"
      ],
      "metadata": {
        "id": "5djx_LPBrx36"
      },
      "execution_count": 32,
      "outputs": []
    },
    {
      "cell_type": "code",
      "source": [
        "parsed_name_rdd.collect()"
      ],
      "metadata": {
        "colab": {
          "base_uri": "https://localhost:8080/"
        },
        "id": "jmFOKhSRr8Ru",
        "outputId": "619e694e-74ae-4fc7-a520-0f6c3c1fb7d9"
      },
      "execution_count": 34,
      "outputs": [
        {
          "output_type": "execute_result",
          "data": {
            "text/plain": [
              "['keeyong', 'benjamin', 'claire']"
            ]
          },
          "metadata": {},
          "execution_count": 34
        }
      ]
    },
    {
      "cell_type": "markdown",
      "source": [
        "### 3. Python 리스트를 데이터프레임으로 변환"
      ],
      "metadata": {
        "id": "3NL3dzsvr9la"
      }
    },
    {
      "cell_type": "code",
      "source": [
        "from pyspark.sql.types import StringType\n",
        "\n",
        "df = spark.createDataFrame(name_list_json, StringType()) # 데이터의 타입을 명시해 주어야 한다."
      ],
      "metadata": {
        "id": "-Rh4p9APsM_1"
      },
      "execution_count": 35,
      "outputs": []
    },
    {
      "cell_type": "code",
      "source": [
        "df.count()"
      ],
      "metadata": {
        "colab": {
          "base_uri": "https://localhost:8080/"
        },
        "id": "NvPQyq0QsgSX",
        "outputId": "627dc35f-39a7-4f36-b886-c43ec279cdc5"
      },
      "execution_count": 36,
      "outputs": [
        {
          "output_type": "execute_result",
          "data": {
            "text/plain": [
              "3"
            ]
          },
          "metadata": {},
          "execution_count": 36
        }
      ]
    },
    {
      "cell_type": "code",
      "source": [
        "df.printSchema()"
      ],
      "metadata": {
        "colab": {
          "base_uri": "https://localhost:8080/"
        },
        "id": "Bmjy1ZwVsigJ",
        "outputId": "f5a0bda5-ba9a-4efc-948c-099dfe2a3484"
      },
      "execution_count": 37,
      "outputs": [
        {
          "output_type": "stream",
          "name": "stdout",
          "text": [
            "root\n",
            " |-- value: string (nullable = true)\n",
            "\n"
          ]
        }
      ]
    },
    {
      "cell_type": "markdown",
      "source": [
        "필드명을 따로 설정해 주지 않아 필드 이름이 value가 된다."
      ],
      "metadata": {
        "id": "a1oEWfjrsw8R"
      }
    },
    {
      "cell_type": "code",
      "source": [
        "df.select('*').collect()"
      ],
      "metadata": {
        "colab": {
          "base_uri": "https://localhost:8080/"
        },
        "id": "oFKu8MenslTa",
        "outputId": "b593abea-4153-4de4-c0d4-05a05f1a244c"
      },
      "execution_count": 41,
      "outputs": [
        {
          "output_type": "execute_result",
          "data": {
            "text/plain": [
              "[Row(value='{\"name\": \"keeyong\"}'),\n",
              " Row(value='{\"name\": \"benjamin\"}'),\n",
              " Row(value='{\"name\": \"claire\"}')]"
            ]
          },
          "metadata": {},
          "execution_count": 41
        }
      ]
    },
    {
      "cell_type": "code",
      "source": [
        "df.select('value').collect()"
      ],
      "metadata": {
        "colab": {
          "base_uri": "https://localhost:8080/"
        },
        "id": "GTe_04d6spHO",
        "outputId": "5faa520f-dec1-4ca0-e238-6010022fa116"
      },
      "execution_count": 42,
      "outputs": [
        {
          "output_type": "execute_result",
          "data": {
            "text/plain": [
              "[Row(value='{\"name\": \"keeyong\"}'),\n",
              " Row(value='{\"name\": \"benjamin\"}'),\n",
              " Row(value='{\"name\": \"claire\"}')]"
            ]
          },
          "metadata": {},
          "execution_count": 42
        }
      ]
    },
    {
      "cell_type": "code",
      "source": [
        "from pyspark.sql import Row\n",
        "\n",
        "row = Row(\"name\")\n",
        "df_name = parsed_name_rdd.map(row).toDF()"
      ],
      "metadata": {
        "id": "sj_3yQwus4Ya"
      },
      "execution_count": 43,
      "outputs": []
    },
    {
      "cell_type": "code",
      "source": [
        "df_name.printSchema()"
      ],
      "metadata": {
        "colab": {
          "base_uri": "https://localhost:8080/"
        },
        "id": "nTECGS17tSt3",
        "outputId": "7a625d44-1141-40fc-b6ee-cc31afe67fda"
      },
      "execution_count": 45,
      "outputs": [
        {
          "output_type": "stream",
          "name": "stdout",
          "text": [
            "root\n",
            " |-- name: string (nullable = true)\n",
            "\n"
          ]
        }
      ]
    },
    {
      "cell_type": "code",
      "source": [
        "df_name.select('name').collect()"
      ],
      "metadata": {
        "colab": {
          "base_uri": "https://localhost:8080/"
        },
        "id": "-E0JQWVltKoM",
        "outputId": "788dd32d-2c78-4e19-c97e-49b66b004f04"
      },
      "execution_count": 44,
      "outputs": [
        {
          "output_type": "execute_result",
          "data": {
            "text/plain": [
              "[Row(name='keeyong'), Row(name='benjamin'), Row(name='claire')]"
            ]
          },
          "metadata": {},
          "execution_count": 44
        }
      ]
    },
    {
      "cell_type": "code",
      "source": [
        ""
      ],
      "metadata": {
        "id": "IEoSlFvKtN6H"
      },
      "execution_count": null,
      "outputs": []
    }
  ]
}