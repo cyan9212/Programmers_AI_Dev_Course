{
  "nbformat": 4,
  "nbformat_minor": 0,
  "metadata": {
    "colab": {
      "name": "GradientTape/MLP_ Tensorflow.ipynb",
      "provenance": []
    },
    "kernelspec": {
      "name": "python3",
      "display_name": "Python 3"
    },
    "language_info": {
      "name": "python"
    }
  },
  "cells": [
    {
      "cell_type": "markdown",
      "source": [
        "## 자동 미분과 그래디언트 테이프\n",
        "### 그래디언트 테이프\n",
        "- 텐서플로우는 자동미분을 위한 tf.GradientTape API를 제공\n",
        "- tf.GradientTape는 컨텍스트 안에서 실행된 모든 연산을 테이프에 기록\n",
        "- 후진 방식 자동 미분(reverse mode differetiation)을 사용하여 테이프에 기록된 연산 그레이언트를 계산"
      ],
      "metadata": {
        "id": "0wLvDkpFzpHg"
      }
    },
    {
      "cell_type": "code",
      "source": [
        "import tensorflow as tf\n",
        "\n",
        "tf.__version__"
      ],
      "metadata": {
        "colab": {
          "base_uri": "https://localhost:8080/",
          "height": 35
        },
        "id": "y7lKHpOI0ndE",
        "outputId": "92d3f170-ef77-45fa-dd43-2b0016c4f021"
      },
      "execution_count": 1,
      "outputs": [
        {
          "output_type": "execute_result",
          "data": {
            "application/vnd.google.colaboratory.intrinsic+json": {
              "type": "string"
            },
            "text/plain": [
              "'2.7.0'"
            ]
          },
          "metadata": {},
          "execution_count": 1
        }
      ]
    },
    {
      "cell_type": "code",
      "source": [
        "x = tf.ones((2, 2))\n",
        "\n",
        "with tf.GradientTape() as t:\n",
        "  t.watch(x)\n",
        "  y = tf.reduce_sum(x)\n",
        "  print('y: ',y)\n",
        "  z = tf.multiply(y, y)\n",
        "  print('z: ',z)\n",
        "\n",
        "# 입력 텐서 x에 대한 z의 도함수\n",
        "dz_dx = t.gradient(z, x)\n",
        "print(dz_dx)\n",
        "for i in [0, 1]:\n",
        "  for j in [0, 1]:\n",
        "    # Assertion error가 발생하지 않음\n",
        "    assert dz_dx[i][j].numpy() == 8.0"
      ],
      "metadata": {
        "colab": {
          "base_uri": "https://localhost:8080/"
        },
        "id": "YNxnPMl00q-q",
        "outputId": "8ffadb0e-37b4-4d78-cb1f-0a2f674abd8d"
      },
      "execution_count": 4,
      "outputs": [
        {
          "output_type": "stream",
          "name": "stdout",
          "text": [
            "y:  tf.Tensor(4.0, shape=(), dtype=float32)\n",
            "z:  tf.Tensor(16.0, shape=(), dtype=float32)\n",
            "tf.Tensor(\n",
            "[[8. 8.]\n",
            " [8. 8.]], shape=(2, 2), dtype=float32)\n"
          ]
        }
      ]
    },
    {
      "cell_type": "code",
      "source": [
        "x = tf.ones((2, 2))\n",
        "\n",
        "with tf.GradientTape() as t:\n",
        "  t.watch(x)\n",
        "  y = tf.reduce_sum(x)\n",
        "  z = tf.multiply(y, y)\n",
        "\n",
        "# tf.GradientTape() 안에서 계산된 중간 값에 대한 그래디언트도 구할 수 있다.\n",
        "# 테이프를 사용하여 중간값 y에 대한 도함수를 계산\n",
        "\n",
        "dz_dy = t.gradient(z, y) # GradientTape에 포함된 모든 리소스 해제\n",
        "assert dz_dy.numpy() == 8.0"
      ],
      "metadata": {
        "id": "225S9DIY1OeM"
      },
      "execution_count": 5,
      "outputs": []
    },
    {
      "cell_type": "markdown",
      "source": [
        "- GradientTape.gradient() 메소드가 호출되면 GradientTape에 포함된 모든 리소스가 해제된다.\n",
        "- 동일한 연산에 대해 여러 그래디언트를 계산하려면 지속성 있는(persistent=True)그래디언트 테이프를 생성하면 된다.\n",
        "- 이렇게 생성한 그래디언트 테이프를 gradient() 메소드의 다중 호출을 허용"
      ],
      "metadata": {
        "id": "t5lCVwtg2edV"
      }
    },
    {
      "cell_type": "code",
      "source": [
        "x = tf.constant(3.0)\n",
        "\n",
        "with tf.GradientTape(persistent=True) as t:\n",
        "  t.watch(x)\n",
        "  y = x * x\n",
        "  z = y * y # z = x ^ 4\n",
        "\n",
        "dz_dx = t.gradient(z, x) # GradientTape의 persistent=True로 설정했기 때문에 GradientTape의 리소스가 해제되지 않음\n",
        "print(dz_dx)\n",
        "dy_dx = t.gradient(y, x) \n",
        "print(dy_dx)\n",
        "\n",
        "del t # 테이프에 대한 참조를 해제한다."
      ],
      "metadata": {
        "colab": {
          "base_uri": "https://localhost:8080/"
        },
        "id": "yvd1I5KQ3YYa",
        "outputId": "720b5a8d-3300-47ef-ad5b-7277b464c1b3"
      },
      "execution_count": 10,
      "outputs": [
        {
          "output_type": "stream",
          "name": "stdout",
          "text": [
            "tf.Tensor(108.0, shape=(), dtype=float32)\n",
            "tf.Tensor(6.0, shape=(), dtype=float32)\n"
          ]
        }
      ]
    },
    {
      "cell_type": "markdown",
      "source": [
        "### 제어 흐름 기록\n",
        "- 연산이 실행되는 순서대로 테이프에 기록되기 때문에 python 제어흐름이 자연스럽게 처리된다."
      ],
      "metadata": {
        "id": "So-QCit64Ajj"
      }
    },
    {
      "cell_type": "code",
      "source": [
        "def f(x, y):\n",
        "  output = 1.0\n",
        "  for i in range(y):\n",
        "    if i>1 and i<5:\n",
        "      output = tf.multiply(output, x)\n",
        "  return output\n",
        "\n",
        "def grad(x, y):\n",
        "  with tf.GradientTape() as t:\n",
        "    t.watch(x)\n",
        "    out = f(x, y)\n",
        "  return t.gradient(out, x)\n",
        "\n",
        "x = tf.convert_to_tensor(2.0)\n",
        "\n",
        "print(grad(x, 6).numpy())\n",
        "print(grad(x, 5).numpy())\n",
        "print(grad(x, 4).numpy())"
      ],
      "metadata": {
        "colab": {
          "base_uri": "https://localhost:8080/"
        },
        "id": "ldRbwXLg4rMy",
        "outputId": "9e81bef7-ad8e-41e9-886a-460f41847905"
      },
      "execution_count": 12,
      "outputs": [
        {
          "output_type": "stream",
          "name": "stdout",
          "text": [
            "12.0\n",
            "12.0\n",
            "4.0\n"
          ]
        }
      ]
    },
    {
      "cell_type": "markdown",
      "source": [
        "### 고계도(Higher-order) 그래디언트\n",
        "- GradientTape 컨텍스트 매니저 안에 있는 연산들은 자동미분을 위해 기록된다.\n",
        "- 만약 이 컨텍스트 안에서 그래디언트를 계산하면 해당 그래디언트 연산 또한 기록된다."
      ],
      "metadata": {
        "id": "6VbpYVOe5stz"
      }
    },
    {
      "cell_type": "code",
      "source": [
        "x = tf.Variable(1.0)\n",
        "\n",
        "with tf.GradientTape() as t1:\n",
        "  with tf.GradientTape() as t2:\n",
        "    y = x * x * x\n",
        "    # t1은 컨텍스트 매니저 안의 그래디언트를 계산\n",
        "    # 이것은 또한 그래디언트 연산 자체도 미분이 가능하다는 것을 의미한다.\n",
        "    dy_dx = t2.gradient(y, x) # dy_dx = 3 * x^2 at x = 1\n",
        "dy2_dx2 = t1.gradient(dy_dx, x) # dy2_dx2 = 6 * x at x = 1\n",
        "\n",
        "assert dy_dx.numpy() == 3.0\n",
        "assert dy2_dx2.numpy() == 6.0"
      ],
      "metadata": {
        "id": "budEyrPQ5_7Z"
      },
      "execution_count": 18,
      "outputs": []
    },
    {
      "cell_type": "markdown",
      "source": [
        "## ANN(Artificial Neural Network)"
      ],
      "metadata": {
        "id": "01OINdi76lDS"
      }
    },
    {
      "cell_type": "markdown",
      "source": [
        "### Sequential 모델을 사용하는 경우\n",
        "- sequential 모델은 각 레이어에 정확히 하나의 입력 텐서와 하나의 출력 텐서가 있는 일반 레이어 스택에 적합"
      ],
      "metadata": {
        "id": "sTL16yYr7Fxo"
      }
    },
    {
      "cell_type": "code",
      "source": [
        "import tensorflow as tf\n",
        "from tensorflow import keras\n",
        "from tensorflow.keras import layers"
      ],
      "metadata": {
        "id": "3Zf5q0wj7Zor"
      },
      "execution_count": 1,
      "outputs": []
    },
    {
      "cell_type": "code",
      "source": [
        "# Define Sequential model with 3 layers\n",
        "model = keras.Sequential(\n",
        "    [\n",
        "      layers.Dense(2, activation='relu', name='layer1'), ## Pytorch - nn.Linear \n",
        "      layers.Dense(3, activation='relu', name='layer2'),\n",
        "      layers.Dense(4, name='layer3'),\n",
        "    ]\n",
        ")\n",
        "# Call model on a test input\n",
        "x = tf.ones((3, 3))\n",
        "# [1, 1, 1] -> [o, o] -> [o, o, o] -> [o, o, o, o]\n",
        "y = model(x)\n",
        "print(y)"
      ],
      "metadata": {
        "colab": {
          "base_uri": "https://localhost:8080/"
        },
        "id": "kxlZPGcm7qww",
        "outputId": "9213655f-1b16-4a24-ad9c-840b33705814"
      },
      "execution_count": 2,
      "outputs": [
        {
          "output_type": "stream",
          "name": "stdout",
          "text": [
            "tf.Tensor(\n",
            "[[0. 0. 0. 0.]\n",
            " [0. 0. 0. 0.]\n",
            " [0. 0. 0. 0.]], shape=(3, 4), dtype=float32)\n"
          ]
        }
      ]
    },
    {
      "cell_type": "code",
      "source": [
        "# Create 3 layers \n",
        "# 위의 함수와 동일\n",
        "layer1 = layers.Dense(2, activation='relu', name='layer1')\n",
        "layer2 = layers.Dense(3, activation='relu', name='layer2')\n",
        "layer3 = layers.Dense(4, name='layer3')\n",
        "\n",
        "# Call layers on a test input\n",
        "x = tf.ones((3, 3))\n",
        "y = layer3(layer2(layer1(x)))\n",
        "print(y)"
      ],
      "metadata": {
        "colab": {
          "base_uri": "https://localhost:8080/"
        },
        "id": "kXtSNcoZ8asP",
        "outputId": "bd8504fd-49b1-4a5b-d4c7-501a87bddf4f"
      },
      "execution_count": 4,
      "outputs": [
        {
          "output_type": "stream",
          "name": "stdout",
          "text": [
            "tf.Tensor(\n",
            "[[-0.6741732  -0.46793675  0.7200943  -0.7732981 ]\n",
            " [-0.6741732  -0.46793675  0.7200943  -0.7732981 ]\n",
            " [-0.6741732  -0.46793675  0.7200943  -0.7732981 ]], shape=(3, 4), dtype=float32)\n"
          ]
        }
      ]
    },
    {
      "cell_type": "code",
      "source": [
        "# layers 속성을 사용하여 레이어에 대해 접근할 수 있다.\n",
        "model.layers"
      ],
      "metadata": {
        "colab": {
          "base_uri": "https://localhost:8080/"
        },
        "id": "4ZM_tRa49dc5",
        "outputId": "f05c27f9-494a-4e99-a37a-c201a6f03c1e"
      },
      "execution_count": 5,
      "outputs": [
        {
          "output_type": "execute_result",
          "data": {
            "text/plain": [
              "[<keras.layers.core.dense.Dense at 0x7f6d0ef7f410>,\n",
              " <keras.layers.core.dense.Dense at 0x7f6d0ef93bd0>,\n",
              " <keras.layers.core.dense.Dense at 0x7f6d0ef0d190>]"
            ]
          },
          "metadata": {},
          "execution_count": 5
        }
      ]
    },
    {
      "cell_type": "code",
      "source": [
        "# add() 메서드를 통하여 Sequential 모델을 점진적으로 작성할 수 있다.\n",
        "model = keras.Sequential()\n",
        "model.add(layers.Dense(2, activation='relu'))\n",
        "model.add(layers.Dense(3, activation='relu'))\n",
        "model.add(layers.Dense(4))"
      ],
      "metadata": {
        "id": "mbEG1Gid-zMv"
      },
      "execution_count": 10,
      "outputs": []
    },
    {
      "cell_type": "code",
      "source": [
        "model.layers"
      ],
      "metadata": {
        "colab": {
          "base_uri": "https://localhost:8080/"
        },
        "id": "2eCm7R-k_IAv",
        "outputId": "1111a13c-afa1-4693-fe56-fb0cb9459817"
      },
      "execution_count": 11,
      "outputs": [
        {
          "output_type": "execute_result",
          "data": {
            "text/plain": [
              "[<keras.layers.core.dense.Dense at 0x7f6d0a5ca4d0>,\n",
              " <keras.layers.core.dense.Dense at 0x7f6d0a5ca150>,\n",
              " <keras.layers.core.dense.Dense at 0x7f6d0a64fc10>]"
            ]
          },
          "metadata": {},
          "execution_count": 11
        }
      ]
    },
    {
      "cell_type": "code",
      "source": [
        "# pop 메서드를 사용하면 레이어를 제거할 수 있다.\n",
        "model.pop()\n",
        "model.layers"
      ],
      "metadata": {
        "colab": {
          "base_uri": "https://localhost:8080/"
        },
        "id": "xB-id93n_KG_",
        "outputId": "70b55ce8-bde6-42a4-ff66-3ffc56fab811"
      },
      "execution_count": 12,
      "outputs": [
        {
          "output_type": "execute_result",
          "data": {
            "text/plain": [
              "[<keras.layers.core.dense.Dense at 0x7f6d0a5ca4d0>,\n",
              " <keras.layers.core.dense.Dense at 0x7f6d0a5ca150>]"
            ]
          },
          "metadata": {},
          "execution_count": 12
        }
      ]
    },
    {
      "cell_type": "markdown",
      "source": [
        "## 패션 MNIST 데이터를 사용한 분류 문제 "
      ],
      "metadata": {
        "id": "8PTDff4B_QFQ"
      }
    },
    {
      "cell_type": "code",
      "source": [
        "import tensorflow as tf\n",
        "from tensorflow import keras\n",
        "import numpy as np\n",
        "import matplotlib.pyplot as plt"
      ],
      "metadata": {
        "id": "I0EGdNJD_Xs_"
      },
      "execution_count": 43,
      "outputs": []
    },
    {
      "cell_type": "code",
      "source": [
        "fashion_mnist = keras.datasets.fashion_mnist\n",
        "\n",
        "(train_images, train_labels) ,(test_images, test_labels) = fashion_mnist.load_data()"
      ],
      "metadata": {
        "id": "omzIzki0ABE1"
      },
      "execution_count": 57,
      "outputs": []
    },
    {
      "cell_type": "code",
      "source": [
        "class_names = ['T-shirt/top', 'Trouser', 'Pullover', 'Dress', 'Coat', 'Sandal', 'Shirt','Sneaker', 'Bag', 'Ankle boot']"
      ],
      "metadata": {
        "id": "v6wXymi__ixX"
      },
      "execution_count": 58,
      "outputs": []
    },
    {
      "cell_type": "code",
      "source": [
        "train_images.shape, train_labels.shape"
      ],
      "metadata": {
        "colab": {
          "base_uri": "https://localhost:8080/"
        },
        "id": "OxbstLLT_7p3",
        "outputId": "c36bfb04-1381-4c32-9593-b395f3eb9790"
      },
      "execution_count": 59,
      "outputs": [
        {
          "output_type": "execute_result",
          "data": {
            "text/plain": [
              "((60000, 28, 28), (60000,))"
            ]
          },
          "metadata": {},
          "execution_count": 59
        }
      ]
    },
    {
      "cell_type": "code",
      "source": [
        "train_labels"
      ],
      "metadata": {
        "colab": {
          "base_uri": "https://localhost:8080/"
        },
        "id": "wFkz0Dk9_8jW",
        "outputId": "fc2da122-729f-451e-caea-e1cfe4c1726c"
      },
      "execution_count": 60,
      "outputs": [
        {
          "output_type": "execute_result",
          "data": {
            "text/plain": [
              "array([9, 0, 0, ..., 3, 0, 5], dtype=uint8)"
            ]
          },
          "metadata": {},
          "execution_count": 60
        }
      ]
    },
    {
      "cell_type": "markdown",
      "source": [
        "### 데이터 전처리"
      ],
      "metadata": {
        "id": "n_NX_WsHAVwu"
      }
    },
    {
      "cell_type": "code",
      "source": [
        "# 훈련 데이터셋의 첫번째 이미지\n",
        "plt.figure()\n",
        "plt.imshow(train_images[0])\n",
        "plt.colorbar()\n",
        "plt.grid(False)\n",
        "plt.show()"
      ],
      "metadata": {
        "colab": {
          "base_uri": "https://localhost:8080/",
          "height": 265
        },
        "id": "Er9C63joAY4v",
        "outputId": "c27b165f-e75b-42a6-d733-50c786efb636"
      },
      "execution_count": 48,
      "outputs": [
        {
          "output_type": "display_data",
          "data": {
            "image/png": "[encoded data removed]",
            "text/plain": [
              "<Figure size 432x288 with 2 Axes>"
            ]
          },
          "metadata": {
            "needs_background": "light"
          }
        }
      ]
    },
    {
      "cell_type": "code",
      "source": [
        "# 신경망 모델에 값을 주입하기 전에 값의 범위를 0~1로 조정\n",
        "trian_images = train_images / 255.0\n",
        "\n",
        "test_images = test_images / 255.0"
      ],
      "metadata": {
        "id": "8-c9YVjlAfRP"
      },
      "execution_count": 49,
      "outputs": []
    },
    {
      "cell_type": "code",
      "source": [
        "plt.figure(figsize=(10, 10))\n",
        "for i in range(25):\n",
        "  plt.subplot(5, 5, i+1)\n",
        "  plt.xticks([])\n",
        "  plt.yticks([])\n",
        "  plt.grid(False)\n",
        "  plt.imshow(train_images[i], cmap=plt.cm.binary)\n",
        "  plt.xlabel(class_names[train_labels[i]])\n",
        "  \n",
        "plt.show()"
      ],
      "metadata": {
        "colab": {
          "base_uri": "https://localhost:8080/",
          "height": 589
        },
        "id": "7Wm7N-wbA2Vm",
        "outputId": "31c4d0b2-c5a5-4db2-d343-7e291c1716d8"
      },
      "execution_count": 50,
      "outputs": [
        {
          "output_type": "display_data",
          "data": {
            "image/png": "[encoded data removed]",
            "text/plain": [
              "<Figure size 720x720 with 25 Axes>"
            ]
          },
          "metadata": {}
        }
      ]
    },
    {
      "cell_type": "markdown",
      "source": [
        "### 모델 구성"
      ],
      "metadata": {
        "id": "uFNcEC9WBQwG"
      }
    },
    {
      "cell_type": "code",
      "source": [
        "model = keras.Sequential(\n",
        "    [\n",
        "      keras.layers.Flatten(input_shape=(28, 28)),\n",
        "      keras.layers.Dense(128, activation='relu'),\n",
        "      keras.layers.Dense(10, activation='softmax'),\n",
        "    ]\n",
        ")"
      ],
      "metadata": {
        "id": "ufiaJCYuBykm"
      },
      "execution_count": 61,
      "outputs": []
    },
    {
      "cell_type": "code",
      "source": [
        "model.summary()"
      ],
      "metadata": {
        "colab": {
          "base_uri": "https://localhost:8080/"
        },
        "id": "6BnbA0k-CTbN",
        "outputId": "49fa8f43-3368-4e35-fb44-b47c4882641a"
      },
      "execution_count": 62,
      "outputs": [
        {
          "output_type": "stream",
          "name": "stdout",
          "text": [
            "Model: \"sequential_5\"\n",
            "_________________________________________________________________\n",
            " Layer (type)                Output Shape              Param #   \n",
            "=================================================================\n",
            " flatten_2 (Flatten)         (None, 784)               0         \n",
            "                                                                 \n",
            " dense_10 (Dense)            (None, 128)               100480    \n",
            "                                                                 \n",
            " dense_11 (Dense)            (None, 10)                1290      \n",
            "                                                                 \n",
            "=================================================================\n",
            "Total params: 101,770\n",
            "Trainable params: 101,770\n",
            "Non-trainable params: 0\n",
            "_________________________________________________________________\n"
          ]
        }
      ]
    },
    {
      "cell_type": "code",
      "source": [
        "keras.utils.plot_model(model, show_shapes=True)"
      ],
      "metadata": {
        "colab": {
          "base_uri": "https://localhost:8080/",
          "height": 422
        },
        "id": "4UEXTq9aCW_V",
        "outputId": "53560688-c8b4-410b-fde6-44737415616f"
      },
      "execution_count": 63,
      "outputs": [
        {
          "output_type": "execute_result",
          "data": {
            "image/png": "[encoded data removed]",
            "text/plain": [
              "<IPython.core.display.Image object>"
            ]
          },
          "metadata": {},
          "execution_count": 63
        }
      ]
    },
    {
      "cell_type": "code",
      "source": [
        "model.compile(optimizer='adam', # SGD, SGD + momentum\n",
        "              loss='sparse_categorical_crossentropy', # 예측값이 특정한 정수값으로 나오는 경우 사용\n",
        "              metrics=['accuracy'])"
      ],
      "metadata": {
        "id": "5ilM402hChpn"
      },
      "execution_count": 64,
      "outputs": []
    },
    {
      "cell_type": "code",
      "source": [
        "model.fit(train_images, train_labels, epochs=5)"
      ],
      "metadata": {
        "colab": {
          "base_uri": "https://localhost:8080/"
        },
        "id": "fzulYYhGC8Hs",
        "outputId": "7c5e8896-f4ae-4bd7-ff7e-f7253bf872fa"
      },
      "execution_count": 65,
      "outputs": [
        {
          "output_type": "stream",
          "name": "stdout",
          "text": [
            "Epoch 1/5\n",
            "1875/1875 [==============================] - 6s 3ms/step - loss: 2.4269 - accuracy: 0.6856\n",
            "Epoch 2/5\n",
            "1875/1875 [==============================] - 6s 3ms/step - loss: 0.6846 - accuracy: 0.7437\n",
            "Epoch 3/5\n",
            "1875/1875 [==============================] - 6s 3ms/step - loss: 0.5863 - accuracy: 0.7841\n",
            "Epoch 4/5\n",
            "1875/1875 [==============================] - 6s 3ms/step - loss: 0.5320 - accuracy: 0.8103\n",
            "Epoch 5/5\n",
            "1875/1875 [==============================] - 6s 3ms/step - loss: 0.5153 - accuracy: 0.8187\n"
          ]
        },
        {
          "output_type": "execute_result",
          "data": {
            "text/plain": [
              "<keras.callbacks.History at 0x7f6d08169e50>"
            ]
          },
          "metadata": {},
          "execution_count": 65
        }
      ]
    },
    {
      "cell_type": "code",
      "source": [
        "test_loss, test_acc = model.evaluate(test_images, test_labels, verbose=2)\n",
        "\n",
        "print('Test loss:',test_loss)\n",
        "print('Test accuracy: ', test_acc)"
      ],
      "metadata": {
        "colab": {
          "base_uri": "https://localhost:8080/"
        },
        "id": "T314FEj9aNm5",
        "outputId": "9ca3f712-5a04-433f-dc65-d62bba5dba4b"
      },
      "execution_count": 66,
      "outputs": [
        {
          "output_type": "stream",
          "name": "stdout",
          "text": [
            "313/313 - 1s - loss: 0.6535 - accuracy: 0.7903 - 591ms/epoch - 2ms/step\n",
            "Test loss: 0.6534611582756042\n",
            "Test accuracy:  0.7903000116348267\n"
          ]
        }
      ]
    },
    {
      "cell_type": "code",
      "source": [
        "# 훈련된 모델을 사용하여 이미지에 대한 예측 만들기\n",
        "predictions = model.predict(test_images) "
      ],
      "metadata": {
        "id": "oOAGqQkRant5"
      },
      "execution_count": 67,
      "outputs": []
    },
    {
      "cell_type": "code",
      "source": [
        "# 10개의 옷 품목에 상응하는 모델의 신뢰도(confidence)를 나타냄\n",
        "predictions[0]"
      ],
      "metadata": {
        "colab": {
          "base_uri": "https://localhost:8080/"
        },
        "id": "h2nLNi96dlMh",
        "outputId": "ac048a14-a302-455b-bed4-b5b3ff9a05a1"
      },
      "execution_count": 68,
      "outputs": [
        {
          "output_type": "execute_result",
          "data": {
            "text/plain": [
              "array([3.5246053e-22, 5.0368872e-25, 0.0000000e+00, 1.7243488e-20,\n",
              "       5.4728981e-31, 1.0868925e-01, 6.4135809e-27, 1.3495304e-02,\n",
              "       5.8927094e-09, 8.7781543e-01], dtype=float32)"
            ]
          },
          "metadata": {},
          "execution_count": 68
        }
      ]
    },
    {
      "cell_type": "code",
      "source": [
        "# 가장 높은 신뢰도를 가진 레이블 출력\n",
        "np.argmax(predictions[0])"
      ],
      "metadata": {
        "colab": {
          "base_uri": "https://localhost:8080/"
        },
        "id": "7X9AKvQDdoEp",
        "outputId": "61b60abd-956f-46d5-b209-4668a5fff567"
      },
      "execution_count": 71,
      "outputs": [
        {
          "output_type": "execute_result",
          "data": {
            "text/plain": [
              "9"
            ]
          },
          "metadata": {},
          "execution_count": 71
        }
      ]
    },
    {
      "cell_type": "code",
      "source": [
        "# 실제 테스트 데이터의 0번째 값\n",
        "test_labels[0]"
      ],
      "metadata": {
        "colab": {
          "base_uri": "https://localhost:8080/"
        },
        "id": "J8WXPz3Ld3Y5",
        "outputId": "1a6036b3-addd-4c8a-eb3e-3b2db8c3c376"
      },
      "execution_count": 72,
      "outputs": [
        {
          "output_type": "execute_result",
          "data": {
            "text/plain": [
              "9"
            ]
          },
          "metadata": {},
          "execution_count": 72
        }
      ]
    },
    {
      "cell_type": "code",
      "source": [
        "# 10개의 클래스에 대한 예측을 모두 그래프로 표현\n",
        "# 올바르게 예측된 레이블은 파란색으로, 잘못 예측된 레이블은 빨간색으로 표현\n",
        "# 숫자는 예측 레이블의 신뢰도\n",
        "\n",
        "def plot_image(i, predictions_array, true_label, img):\n",
        "  predictions_array, true_label, img = predictions_array[i], true_label[i], img[i]\n",
        "  plt.grid(False)\n",
        "  plt.xticks([])\n",
        "  plt.yticks([])\n",
        "\n",
        "  plt.imshow(img, cmap=plt.cm.binary)\n",
        "\n",
        "  predicted_label = np.argmax(predictions_array)\n",
        "  if predicted_label == true_label:\n",
        "    color='blue'\n",
        "  else:\n",
        "    color='red'\n",
        "  \n",
        "  plt.xlabel('{} {:2.0f}% {{}}'.format(class_names[predicted_label], 100*np.max(predictions_array), class_names[true_label], color=color))\n",
        "\n",
        "def plot_value_array(i, predictions_array, true_label):\n",
        "  predictions_array, true_label = predictions_array[i], true_label[i]\n",
        "  plt.grid(False)\n",
        "  plt.xticks([])\n",
        "  plt.yticks([])\n",
        "  thisplot = plt.bar(range(10), predictions_array, color='#777777')\n",
        "  plt.ylim([0,1])\n",
        "  predicted_label = np.argmax(predictions_array)\n",
        "\n",
        "  thisplot[predicted_label].set_color('red')\n",
        "  thisplot[true_label].set_color('blue')\n"
      ],
      "metadata": {
        "id": "3gVdYjPjd_QA"
      },
      "execution_count": 73,
      "outputs": []
    },
    {
      "cell_type": "code",
      "source": [
        "# 0번째 원소의 이미지, 예측, 신뢰도 점수 배열\n",
        "\n",
        "i=0\n",
        "plt.figure(figsize=(6,3))\n",
        "plt.subplot(1,2,1)\n",
        "plot_image(i, predictions, test_labels, test_images)\n",
        "plt.subplot(1,2,2)\n",
        "plot_value_array(i, predictions, test_labels)\n",
        "plt.show()"
      ],
      "metadata": {
        "colab": {
          "base_uri": "https://localhost:8080/",
          "height": 203
        },
        "id": "_wr5a6fJp5bK",
        "outputId": "1ab58c47-d981-475c-b161-3ff1835256a4"
      },
      "execution_count": 75,
      "outputs": [
        {
          "output_type": "display_data",
          "data": {
            "image/png": "[encoded data removed]",
            "text/plain": [
              "<Figure size 432x216 with 2 Axes>"
            ]
          },
          "metadata": {}
        }
      ]
    },
    {
      "cell_type": "code",
      "source": [
        "i = 21\n",
        "plt.figure(figsize=(6,3))\n",
        "plt.subplot(1,2,1)\n",
        "plot_image(i, predictions, test_labels, test_images)\n",
        "plt.subplot(1,2,2)\n",
        "plot_value_array(i, predictions, test_labels)\n",
        "plt.show()"
      ],
      "metadata": {
        "colab": {
          "base_uri": "https://localhost:8080/",
          "height": 203
        },
        "id": "n8AJJw8XqTNr",
        "outputId": "c54ba65d-ba4f-44c4-c020-15f089e91932"
      },
      "execution_count": 95,
      "outputs": [
        {
          "output_type": "display_data",
          "data": {
            "image/png": "[encoded data removed]",
            "text/plain": [
              "<Figure size 432x216 with 2 Axes>"
            ]
          },
          "metadata": {}
        }
      ]
    }
  ]
}