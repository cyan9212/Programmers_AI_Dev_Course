{
  "nbformat": 4,
  "nbformat_minor": 0,
  "metadata": {
    "colab": {
      "name": "추정.ipynb",
      "provenance": []
    },
    "kernelspec": {
      "name": "python3",
      "display_name": "Python 3"
    },
    "language_info": {
      "name": "python"
    }
  },
  "cells": [
    {
      "cell_type": "code",
      "execution_count": 6,
      "metadata": {
        "id": "j55ypCWG8dtC"
      },
      "outputs": [],
      "source": [
        "import numpy as np\n",
        "import random\n",
        "import scipy.stats"
      ]
    },
    {
      "cell_type": "code",
      "source": [
        "samples = [9, 4, 0, 8, 1, 3, 7, 8, 4, 2]\n",
        "print(np.mean(samples))"
      ],
      "metadata": {
        "colab": {
          "base_uri": "https://localhost:8080/"
        },
        "id": "RoPK0AMK8iXF",
        "outputId": "74a21b0e-a0af-4352-d705-59cb6c0a7192"
      },
      "execution_count": 5,
      "outputs": [
        {
          "output_type": "stream",
          "name": "stdout",
          "text": [
            "4.6\n"
          ]
        }
      ]
    },
    {
      "cell_type": "code",
      "source": [
        "w = [10.7, 11.7, 9.8, 11.4, 10.8, 9.9, 10.1, 8.8, 12.2, 11.0, 11.3, 11.1, 10.3, 10.0, 9.9, 11.1, 11.7, 11.5, 9.1, 10.3, 8.6, 12.1, 10.0, 13.0, 9.2, 9.8, 9.3, 9.4, 9.6, 9.2]\n",
        "xbar = np.mean(w)\n",
        "sd = np.std(w, ddof=1)\n",
        "print('mean %.2f, std %.2f' %(xbar, sd))\n",
        "alpha = 0.5\n",
        "zalpha = scipy.stats.norm.ppf(1-alpha/2)\n",
        "print('zalpha = ',zalpha)"
      ],
      "metadata": {
        "colab": {
          "base_uri": "https://localhost:8080/"
        },
        "id": "ivC0X9Sg_K6H",
        "outputId": "b9dc007b-2c13-443f-cbca-d6cb68c37b70"
      },
      "execution_count": 8,
      "outputs": [
        {
          "output_type": "stream",
          "name": "stdout",
          "text": [
            "mean 10.43, std 1.11\n",
            "zalpha =  0.6744897501960817\n"
          ]
        }
      ]
    },
    {
      "cell_type": "code",
      "source": [
        "x = 48\n",
        "n = 150\n",
        "phat = x/n\n",
        "alpha = 0.05\n",
        "zalpha = scipy.stats.norm.ppf(1-alpha/2)\n",
        "sd = np.sqrt(phat*(1-phat)/n)\n",
        "print('phat %.3f, zalpha %.3f, sd %.3f' %(phat, zalpha, sd))\n",
        "ci = [phat - zalpha * sd, phat + zalpha * sd]\n",
        "print(ci)"
      ],
      "metadata": {
        "colab": {
          "base_uri": "https://localhost:8080/"
        },
        "id": "Xb6QueHjCh0f",
        "outputId": "037b6250-4e5f-47db-e309-a13c0d105fb1"
      },
      "execution_count": 10,
      "outputs": [
        {
          "output_type": "stream",
          "name": "stdout",
          "text": [
            "phat 0.320, zalpha 1.960, sd 0.038\n",
            "[0.24534963990338954, 0.3946503600966105]\n"
          ]
        }
      ]
    }
  ]
}