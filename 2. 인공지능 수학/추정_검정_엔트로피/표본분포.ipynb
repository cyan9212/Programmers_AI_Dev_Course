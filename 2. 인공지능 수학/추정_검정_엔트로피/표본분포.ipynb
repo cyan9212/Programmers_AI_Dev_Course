{
  "nbformat": 4,
  "nbformat_minor": 0,
  "metadata": {
    "colab": {
      "name": "표본분포.ipynb",
      "provenance": [],
      "collapsed_sections": []
    },
    "kernelspec": {
      "name": "python3",
      "display_name": "Python 3"
    },
    "language_info": {
      "name": "python"
    }
  },
  "cells": [
    {
      "cell_type": "code",
      "execution_count": 16,
      "metadata": {
        "id": "X0eSc7fOzELR"
      },
      "outputs": [],
      "source": [
        "import random\n",
        "import numpy as np\n",
        "import matplotlib.pyplot as plt"
      ]
    },
    {
      "cell_type": "code",
      "source": [
        "[random.randint(1,10) for i in range(10)]"
      ],
      "metadata": {
        "colab": {
          "base_uri": "https://localhost:8080/"
        },
        "id": "lI5-KSLOzFdq",
        "outputId": "05e66786-faff-4008-a221-2fa32dadf1e8"
      },
      "execution_count": 3,
      "outputs": [
        {
          "output_type": "execute_result",
          "data": {
            "text/plain": [
              "[2, 5, 8, 8, 8, 3, 10, 10, 7, 3]"
            ]
          },
          "metadata": {},
          "execution_count": 3
        }
      ]
    },
    {
      "cell_type": "code",
      "source": [
        "xbars = [np.mean(np.random.normal(size=10)) for i in range(10000)]\n",
        "print('mean %f, var %f' %(np.mean(xbars), np.var(xbars)))"
      ],
      "metadata": {
        "colab": {
          "base_uri": "https://localhost:8080/"
        },
        "id": "FIFttcQx09LN",
        "outputId": "40785ebb-8e61-4331-8df4-e440b1df7ed8"
      },
      "execution_count": 12,
      "outputs": [
        {
          "output_type": "stream",
          "name": "stdout",
          "text": [
            "mean -0.004904, var 0.101475\n"
          ]
        }
      ]
    },
    {
      "cell_type": "code",
      "source": [
        "xbars = [np.mean(np.random.normal(loc=10, scale=3, size=10)) for i in range(10000)] #loc = 평균 / scale = 표준편차\n",
        "print('mean %f, var %f' %(np.mean(xbars), np.var(xbars)))\n",
        "h = plt.hist(xbars, bins=30, range=(5,15)) #bins = 칸수"
      ],
      "metadata": {
        "colab": {
          "base_uri": "https://localhost:8080/",
          "height": 283
        },
        "id": "u-9kzPqF2JiD",
        "outputId": "b66b4222-5e5f-46a0-f1ee-71cf88a93162"
      },
      "execution_count": 22,
      "outputs": [
        {
          "output_type": "stream",
          "name": "stdout",
          "text": [
            "mean 9.991754, var 0.897256\n"
          ]
        },
        {
          "output_type": "display_data",
          "data": {
            "image/png": "[encoded data removed]",
            "text/plain": [
              "<Figure size 432x288 with 1 Axes>"
            ]
          },
          "metadata": {
            "needs_background": "light"
          }
        }
      ]
    },
    {
      "cell_type": "code",
      "source": [
        "n=30\n",
        "xbars = [np.mean(np.random.rand(n) * 10) for i in range(10000)]\n",
        "print('mean %f, var %f' %(np.mean(xbars), np.var(xbars)))\n",
        "h = plt.hist(xbars, range=(0,10), bins=100)"
      ],
      "metadata": {
        "colab": {
          "base_uri": "https://localhost:8080/",
          "height": 283
        },
        "id": "mdFNqE5C22xB",
        "outputId": "3ead9d8f-ae7f-4970-cbd3-1c3213d52e07"
      },
      "execution_count": 29,
      "outputs": [
        {
          "output_type": "stream",
          "name": "stdout",
          "text": [
            "mean 4.990290, var 0.278971\n"
          ]
        },
        {
          "output_type": "display_data",
          "data": {
            "image/png": "[encoded data removed]",
            "text/plain": [
              "<Figure size 432x288 with 1 Axes>"
            ]
          },
          "metadata": {
            "needs_background": "light"
          }
        }
      ]
    },
    {
      "cell_type": "code",
      "source": [
        "n=30\n",
        "xbars = [np.mean(np.random.exponential(scale=3, size=n)) for i in range(10000)]\n",
        "print('mean %f, var %f' %(np.mean(xbars), np.var(xbars)))\n",
        "h = plt.hist(xbars, range=(0,10), bins=100)"
      ],
      "metadata": {
        "colab": {
          "base_uri": "https://localhost:8080/",
          "height": 283
        },
        "id": "jsTgcoYa5ysk",
        "outputId": "1db7c9b1-0a8c-43fe-9f71-ddb5695f3719"
      },
      "execution_count": 38,
      "outputs": [
        {
          "output_type": "stream",
          "name": "stdout",
          "text": [
            "mean 2.989073, var 0.296413\n"
          ]
        },
        {
          "output_type": "display_data",
          "data": {
            "image/png": "[encoded data removed]",
            "text/plain": [
              "<Figure size 432x288 with 1 Axes>"
            ]
          },
          "metadata": {
            "needs_background": "light"
          }
        }
      ]
    },
    {
      "cell_type": "code",
      "source": [
        ""
      ],
      "metadata": {
        "id": "dqy-iFuU7huk"
      },
      "execution_count": null,
      "outputs": []
    }
  ]
}