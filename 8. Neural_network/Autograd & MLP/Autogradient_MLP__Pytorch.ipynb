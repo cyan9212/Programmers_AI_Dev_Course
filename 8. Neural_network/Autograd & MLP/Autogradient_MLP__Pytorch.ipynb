{
  "nbformat": 4,
  "nbformat_minor": 0,
  "metadata": {
    "colab": {
      "name": "Autogradient/MLP_ Pytorch.ipynb",
      "provenance": []
    },
    "kernelspec": {
      "name": "python3",
      "display_name": "Python 3"
    },
    "language_info": {
      "name": "python"
    }
  },
  "cells": [
    {
      "cell_type": "markdown",
      "source": [
        "## Autograd\n",
        "- autograd 패키지는 텐서의 모든 연산에 대한 자동 미분을 제공\n",
        "- 실행 기반 정의(define-by-run) 패키지로, 코드를 어떻게 작성하여 실행하느냐에  따라 역전파가 정의된다\n",
        "- 역전파는 학습의 매 단계마다 달라진다."
      ],
      "metadata": {
        "id": "R4_0Vnv7Og4p"
      }
    },
    {
      "cell_type": "markdown",
      "source": [
        "## Tensor\n",
        "- `torch.Tensor` 클래스의 `.requires_grad` 속성을 `True`로 설정하면, 해당 텐서에서 이루어지는 모든 연산을 추적하기 시작\n",
        "- 계산이 완료된 후 `backward()`를 호출하여 모든 변화도(gradient)를 자동으로 계산할 수 있으며 이 tensor의 변화도는 `.grad` 속성에 누적된다.\n",
        "- Tensor가 기록을 추적하는 것을 중단하게 하려면, `.detach()`를 호출하여 연산기록으로 부터 분리하여 연산이 추적되는 것을 방지할 수 있다.\n",
        "- 기록을 추적하는것(과 메모리를 사용하는것)을 방지하기 위하여 코드 블럭을 `with torch.no_grad`로 감쌀 수 있다.\n",
        "- 이는 변화도(gradient)는 필요 없지만, `requires_grad-True` 가 설정되어 학습 가능한 매개변수를 갖는 모델을 평가할 때 유용하다.\n",
        "- `Audograd` 구현에서 `Function` 클래스는 매우 중요한 역할을 수행한다.\n",
        "- `Tensor`와 `Function`은 서로 연결되어 있고 모든 연산 과정을 부호화하여 순환하지 않는 그래프를 생성한다.\n",
        "- 각 `tensor`는 `.grad._fn` 속성을 가지고 있는데, 이는 `Tensor`를 생성한 `Function`을 참조한다.( 단, 사용하자 만든 `Tensor`는 예외이며, 사용자가 만든 `Tensor`가 아닌 연산에 의해서 생긴 텐서와 같은 경우에는 모두 `Function`을 참조)\n",
        "- 도함수를 계산하기 위해서는 `Tensor`의 `.backward`를 호출하면 된다.\n"
      ],
      "metadata": {
        "id": "Yfs6SSpuPF2d"
      }
    },
    {
      "cell_type": "code",
      "source": [
        "import torch\n",
        "\n",
        "torch.__version__"
      ],
      "metadata": {
        "colab": {
          "base_uri": "https://localhost:8080/",
          "height": 35
        },
        "id": "bjoDCpGkQoGl",
        "outputId": "72d69f17-2271-4d9e-8d01-1f49600a5064"
      },
      "execution_count": null,
      "outputs": [
        {
          "output_type": "execute_result",
          "data": {
            "application/vnd.google.colaboratory.intrinsic+json": {
              "type": "string"
            },
            "text/plain": [
              "'1.10.0+cu111'"
            ]
          },
          "metadata": {},
          "execution_count": 2
        }
      ]
    },
    {
      "cell_type": "code",
      "source": [
        "# x의 연산 과적을 추적하귀 위해 requires_grad=True로 설정\n",
        "\n",
        "x = torch.ones(2, 2, requires_grad=True)\n",
        "print(x)\n",
        "\n",
        "# 직접 생산한 Tensor이기 때문에 grad_fn이 None으로 설정되었음을 확인할 수 있다.\n",
        "print(x.grad_fn)"
      ],
      "metadata": {
        "colab": {
          "base_uri": "https://localhost:8080/"
        },
        "id": "LP_69ChRRJcc",
        "outputId": "1f74cb36-e596-4808-d1ca-b9bdd93b5f0d"
      },
      "execution_count": null,
      "outputs": [
        {
          "output_type": "stream",
          "name": "stdout",
          "text": [
            "tensor([[1., 1.],\n",
            "        [1., 1.]], requires_grad=True)\n",
            "None\n"
          ]
        }
      ]
    },
    {
      "cell_type": "code",
      "source": [
        "# y는 연산의 결과로 생성된 것이기 때문에 grad_fn을 가지고 있는것을 확인할 수 있다.\n",
        "\n",
        "y = x + 2\n",
        "y"
      ],
      "metadata": {
        "colab": {
          "base_uri": "https://localhost:8080/"
        },
        "id": "DlY4WozpRXxW",
        "outputId": "87f3be5c-ada5-40de-c29b-ebbe4bb39458"
      },
      "execution_count": null,
      "outputs": [
        {
          "output_type": "execute_result",
          "data": {
            "text/plain": [
              "tensor([[3., 3.],\n",
              "        [3., 3.]], grad_fn=<AddBackward0>)"
            ]
          },
          "metadata": {},
          "execution_count": 55
        }
      ]
    },
    {
      "cell_type": "code",
      "source": [
        "z = y * y * 3\n",
        "out = z.mean()\n",
        "\n",
        "# 각각 사용한 func에 맞게 grad_fn이 생성된 것을 확인할 수 있다.\n",
        "z, out"
      ],
      "metadata": {
        "colab": {
          "base_uri": "https://localhost:8080/"
        },
        "id": "6vSFo61VRwGE",
        "outputId": "cb8904f6-ae11-431a-fcf6-afa0a03a006f"
      },
      "execution_count": null,
      "outputs": [
        {
          "output_type": "execute_result",
          "data": {
            "text/plain": [
              "(tensor([[27., 27.],\n",
              "         [27., 27.]], grad_fn=<MulBackward0>),\n",
              " tensor(27., grad_fn=<MeanBackward0>))"
            ]
          },
          "metadata": {},
          "execution_count": 56
        }
      ]
    },
    {
      "cell_type": "markdown",
      "source": [
        "- `requires_grad()`를 사용하면 기존 Tensor의 requires_grad값을 변경할 수 있다.\n",
        "- 입력값이 지정되지 않으면 기본값은 False"
      ],
      "metadata": {
        "id": "Xp8joTzcR48N"
      }
    },
    {
      "cell_type": "code",
      "source": [
        "a = torch.randn(2, 2)\n",
        "a"
      ],
      "metadata": {
        "colab": {
          "base_uri": "https://localhost:8080/"
        },
        "id": "aUrgiHc3Sa-E",
        "outputId": "c2238f06-a78a-4175-c22c-166fe851147a"
      },
      "execution_count": null,
      "outputs": [
        {
          "output_type": "execute_result",
          "data": {
            "text/plain": [
              "tensor([[ 0.0910, -0.2396],\n",
              "        [-0.6218,  0.2738]])"
            ]
          },
          "metadata": {},
          "execution_count": 57
        }
      ]
    },
    {
      "cell_type": "code",
      "source": [
        "a = (a * 3) / (a - 1)\n",
        "print(a)\n",
        "print(a.requires_grad)"
      ],
      "metadata": {
        "colab": {
          "base_uri": "https://localhost:8080/"
        },
        "id": "Ch7MDqKwSeq0",
        "outputId": "367eb2ff-0fa8-4d84-8501-9d50eaad5cd4"
      },
      "execution_count": null,
      "outputs": [
        {
          "output_type": "stream",
          "name": "stdout",
          "text": [
            "tensor([[-0.3005,  0.5798],\n",
            "        [ 1.1502, -1.1308]])\n",
            "False\n"
          ]
        }
      ]
    },
    {
      "cell_type": "code",
      "source": [
        "a.requires_grad_ = True\n",
        "a.requires_grad"
      ],
      "metadata": {
        "colab": {
          "base_uri": "https://localhost:8080/"
        },
        "id": "0P7K59M1Sppz",
        "outputId": "a2ef9b73-590b-4778-94ea-054ec1d351aa"
      },
      "execution_count": null,
      "outputs": [
        {
          "output_type": "execute_result",
          "data": {
            "text/plain": [
              "False"
            ]
          },
          "metadata": {},
          "execution_count": 59
        }
      ]
    },
    {
      "cell_type": "code",
      "source": [
        "b = (a*a).sum()\n",
        "print(b)\n",
        "print(b.requires_grad)"
      ],
      "metadata": {
        "colab": {
          "base_uri": "https://localhost:8080/"
        },
        "id": "wQ8GOK2FSws0",
        "outputId": "bddb506b-7fde-4c1f-ba10-5f4ffe3f45f7"
      },
      "execution_count": null,
      "outputs": [
        {
          "output_type": "stream",
          "name": "stdout",
          "text": [
            "tensor(3.0282)\n",
            "False\n"
          ]
        }
      ]
    },
    {
      "cell_type": "markdown",
      "source": [
        "## 변화도(Gradient)"
      ],
      "metadata": {
        "id": "EvFQroj4SxJT"
      }
    },
    {
      "cell_type": "code",
      "source": [
        "print(out)\n",
        "\n",
        "# 이전에 만든 out을 사용해서 역전파 진행\n",
        "\n",
        "# 중간값에 대한 미분값을 보고 싶다면 해당 값에 대한 retain_grad()를 호출해야 한다.\n",
        "y.retain_grad()\n",
        "z.retain_grad()\n",
        "\n",
        "# 여러번 미분을 수행하기 위해서는 retain_graph=True로 설정해줘야 한다.\n",
        "out.backward() \n",
        "\n",
        "# out.backward(torch.tensor(1.0))을 진행하는 것과 동일\n",
        "print(x.grad)\n",
        "print(y.grad)\n",
        "print(z.grad)\n",
        "print(z.is_leaf)\n",
        "\n",
        "out.backward()\n",
        "print(x.grad)\n",
        "print(y.grad)"
      ],
      "metadata": {
        "colab": {
          "base_uri": "https://localhost:8080/",
          "height": 565
        },
        "id": "VuZJ4ZpETK3F",
        "outputId": "8c3e65e5-d718-4e45-f5e8-bd8d10259779"
      },
      "execution_count": null,
      "outputs": [
        {
          "output_type": "stream",
          "name": "stdout",
          "text": [
            "tensor(27., grad_fn=<MeanBackward0>)\n",
            "tensor([[4.5000, 4.5000],\n",
            "        [4.5000, 4.5000]])\n",
            "tensor([[4.5000, 4.5000],\n",
            "        [4.5000, 4.5000]])\n",
            "tensor([[0.2500, 0.2500],\n",
            "        [0.2500, 0.2500]])\n",
            "False\n"
          ]
        },
        {
          "output_type": "error",
          "ename": "RuntimeError",
          "evalue": "ignored",
          "traceback": [
            "\u001b[0;31m---------------------------------------------------------------------------\u001b[0m",
            "\u001b[0;31mRuntimeError\u001b[0m                              Traceback (most recent call last)",
            "\u001b[0;32m<ipython-input-40-d59252697ab2>\u001b[0m in \u001b[0;36m<module>\u001b[0;34m()\u001b[0m\n\u001b[1;32m     16\u001b[0m \u001b[0mprint\u001b[0m\u001b[0;34m(\u001b[0m\u001b[0mz\u001b[0m\u001b[0;34m.\u001b[0m\u001b[0mis_leaf\u001b[0m\u001b[0;34m)\u001b[0m\u001b[0;34m\u001b[0m\u001b[0;34m\u001b[0m\u001b[0m\n\u001b[1;32m     17\u001b[0m \u001b[0;34m\u001b[0m\u001b[0m\n\u001b[0;32m---> 18\u001b[0;31m \u001b[0mout\u001b[0m\u001b[0;34m.\u001b[0m\u001b[0mbackward\u001b[0m\u001b[0;34m(\u001b[0m\u001b[0;34m)\u001b[0m\u001b[0;34m\u001b[0m\u001b[0;34m\u001b[0m\u001b[0m\n\u001b[0m\u001b[1;32m     19\u001b[0m \u001b[0mprint\u001b[0m\u001b[0;34m(\u001b[0m\u001b[0mx\u001b[0m\u001b[0;34m.\u001b[0m\u001b[0mgrad\u001b[0m\u001b[0;34m)\u001b[0m\u001b[0;34m\u001b[0m\u001b[0;34m\u001b[0m\u001b[0m\n\u001b[1;32m     20\u001b[0m \u001b[0mprint\u001b[0m\u001b[0;34m(\u001b[0m\u001b[0my\u001b[0m\u001b[0;34m.\u001b[0m\u001b[0mgrad\u001b[0m\u001b[0;34m)\u001b[0m\u001b[0;34m\u001b[0m\u001b[0;34m\u001b[0m\u001b[0m\n",
            "\u001b[0;32m/usr/local/lib/python3.7/dist-packages/torch/_tensor.py\u001b[0m in \u001b[0;36mbackward\u001b[0;34m(self, gradient, retain_graph, create_graph, inputs)\u001b[0m\n\u001b[1;32m    305\u001b[0m                 \u001b[0mcreate_graph\u001b[0m\u001b[0;34m=\u001b[0m\u001b[0mcreate_graph\u001b[0m\u001b[0;34m,\u001b[0m\u001b[0;34m\u001b[0m\u001b[0;34m\u001b[0m\u001b[0m\n\u001b[1;32m    306\u001b[0m                 inputs=inputs)\n\u001b[0;32m--> 307\u001b[0;31m         \u001b[0mtorch\u001b[0m\u001b[0;34m.\u001b[0m\u001b[0mautograd\u001b[0m\u001b[0;34m.\u001b[0m\u001b[0mbackward\u001b[0m\u001b[0;34m(\u001b[0m\u001b[0mself\u001b[0m\u001b[0;34m,\u001b[0m \u001b[0mgradient\u001b[0m\u001b[0;34m,\u001b[0m \u001b[0mretain_graph\u001b[0m\u001b[0;34m,\u001b[0m \u001b[0mcreate_graph\u001b[0m\u001b[0;34m,\u001b[0m \u001b[0minputs\u001b[0m\u001b[0;34m=\u001b[0m\u001b[0minputs\u001b[0m\u001b[0;34m)\u001b[0m\u001b[0;34m\u001b[0m\u001b[0;34m\u001b[0m\u001b[0m\n\u001b[0m\u001b[1;32m    308\u001b[0m \u001b[0;34m\u001b[0m\u001b[0m\n\u001b[1;32m    309\u001b[0m     \u001b[0;32mdef\u001b[0m \u001b[0mregister_hook\u001b[0m\u001b[0;34m(\u001b[0m\u001b[0mself\u001b[0m\u001b[0;34m,\u001b[0m \u001b[0mhook\u001b[0m\u001b[0;34m)\u001b[0m\u001b[0;34m:\u001b[0m\u001b[0;34m\u001b[0m\u001b[0;34m\u001b[0m\u001b[0m\n",
            "\u001b[0;32m/usr/local/lib/python3.7/dist-packages/torch/autograd/__init__.py\u001b[0m in \u001b[0;36mbackward\u001b[0;34m(tensors, grad_tensors, retain_graph, create_graph, grad_variables, inputs)\u001b[0m\n\u001b[1;32m    154\u001b[0m     Variable._execution_engine.run_backward(\n\u001b[1;32m    155\u001b[0m         \u001b[0mtensors\u001b[0m\u001b[0;34m,\u001b[0m \u001b[0mgrad_tensors_\u001b[0m\u001b[0;34m,\u001b[0m \u001b[0mretain_graph\u001b[0m\u001b[0;34m,\u001b[0m \u001b[0mcreate_graph\u001b[0m\u001b[0;34m,\u001b[0m \u001b[0minputs\u001b[0m\u001b[0;34m,\u001b[0m\u001b[0;34m\u001b[0m\u001b[0;34m\u001b[0m\u001b[0m\n\u001b[0;32m--> 156\u001b[0;31m         allow_unreachable=True, accumulate_grad=True)  # allow_unreachable flag\n\u001b[0m\u001b[1;32m    157\u001b[0m \u001b[0;34m\u001b[0m\u001b[0m\n\u001b[1;32m    158\u001b[0m \u001b[0;34m\u001b[0m\u001b[0m\n",
            "\u001b[0;31mRuntimeError\u001b[0m: Trying to backward through the graph a second time (or directly access saved tensors after they have already been freed). Saved intermediate values of the graph are freed when you call .backward() or autograd.grad(). Specify retain_graph=True if you need to backward through the graph a second time or if you need to access saved tensors after calling backward."
          ]
        }
      ]
    },
    {
      "cell_type": "code",
      "source": [
        "x = torch.ones(2, 2, requires_grad=True)\n",
        "y = x + 2\n",
        "z = y * y * 3\n",
        "out = z.mean()\n",
        "\n",
        "print(out)\n",
        "\n",
        "y.retain_grad()\n",
        "out.backward(retain_graph=True)\n",
        "\n",
        "print(x.grad)\n",
        "print(y.grad)\n",
        "print(z.grad) # z.retain_grad()를 호출하지 않으면 grad값을 저장하지 않기 때문에 grad 속성을 볼 수 없다.\n",
        "print(z.is_leaf)\n",
        "\n",
        "out.backward()\n",
        "print(x.grad)\n",
        "print(y.grad)"
      ],
      "metadata": {
        "colab": {
          "base_uri": "https://localhost:8080/"
        },
        "id": "aNORkDGVUU00",
        "outputId": "4aab7c98-b6ae-4139-ddaf-b59148c78ed9"
      },
      "execution_count": null,
      "outputs": [
        {
          "output_type": "stream",
          "name": "stdout",
          "text": [
            "tensor(27., grad_fn=<MeanBackward0>)\n",
            "tensor([[4.5000, 4.5000],\n",
            "        [4.5000, 4.5000]])\n",
            "tensor([[4.5000, 4.5000],\n",
            "        [4.5000, 4.5000]])\n",
            "None\n",
            "False\n",
            "tensor([[9., 9.],\n",
            "        [9., 9.]])\n",
            "tensor([[9., 9.],\n",
            "        [9., 9.]])\n"
          ]
        },
        {
          "output_type": "stream",
          "name": "stderr",
          "text": [
            "/usr/local/lib/python3.7/dist-packages/torch/_tensor.py:1013: UserWarning: The .grad attribute of a Tensor that is not a leaf Tensor is being accessed. Its .grad attribute won't be populated during autograd.backward(). If you indeed want the .grad field to be populated for a non-leaf Tensor, use .retain_grad() on the non-leaf Tensor. If you access the non-leaf Tensor by mistake, make sure you access the leaf Tensor instead. See github.com/pytorch/pytorch/pull/30531 for more informations. (Triggered internally at  aten/src/ATen/core/TensorBody.h:417.)\n",
            "  return self._grad\n"
          ]
        }
      ]
    },
    {
      "cell_type": "markdown",
      "source": [
        "- 일반적으로 `torch.autograd`는 벡터-야코비안 곱을 계산하는 엔진\n",
        "- torch.autograd를 사용하면 전체 야코비안을 직접 계산할 수는 없지만, 벡터-야코비안 곱은 backward에 해당 벡터를 인자로 제공하여 얻을 수 있다."
      ],
      "metadata": {
        "id": "3A9jqtl3WK1T"
      }
    },
    {
      "cell_type": "code",
      "source": [
        "x = torch.randn(3, requires_grad=True)\n",
        "\n",
        "y = x + 2\n",
        "\n",
        "while y.data.norm() < 1000:\n",
        "  y = y * 2\n",
        "\n",
        "print(y)"
      ],
      "metadata": {
        "colab": {
          "base_uri": "https://localhost:8080/"
        },
        "id": "dqj5VDSUab1A",
        "outputId": "a8c713f1-3886-4f14-8d0e-18dc712049f2"
      },
      "execution_count": null,
      "outputs": [
        {
          "output_type": "stream",
          "name": "stdout",
          "text": [
            "tensor([-165.6401,  472.9279, 1167.4133], grad_fn=<MulBackward0>)\n"
          ]
        }
      ]
    },
    {
      "cell_type": "code",
      "source": [
        "# scalar값이 아닌 y의 벡터 야코비안 곱을 구하는 과정\n",
        "\n",
        "v = torch.tensor([0.1, 1.0, 0.001], dtype=torch.float)\n",
        "y.backward(v)\n",
        "\n",
        "print(x.grad)"
      ],
      "metadata": {
        "colab": {
          "base_uri": "https://localhost:8080/"
        },
        "id": "txkRlMyYatnA",
        "outputId": "983e3600-67ae-4025-e849-ca4db8d9b404"
      },
      "execution_count": null,
      "outputs": [
        {
          "output_type": "stream",
          "name": "stdout",
          "text": [
            "tensor([ 51.2000, 512.0000,   0.5120])\n"
          ]
        }
      ]
    },
    {
      "cell_type": "markdown",
      "source": [
        "- with torch.no_grad()로 코드 블럭을 감싸서 autograd가 .requires_grad=True 인 Tensor의 연산 기록을 추적하는 것을 멈출 수 있다."
      ],
      "metadata": {
        "id": "oWFEN4unbQoY"
      }
    },
    {
      "cell_type": "code",
      "source": [
        "print(x.requires_grad)\n",
        "print((x**2).requires_grad)\n",
        "\n",
        "with torch.no_grad():\n",
        "  print((x**2).requires_grad)"
      ],
      "metadata": {
        "colab": {
          "base_uri": "https://localhost:8080/"
        },
        "id": "M9y_tJA5d8_O",
        "outputId": "89bcef15-e650-41d5-e6c4-5873f35f87b6"
      },
      "execution_count": null,
      "outputs": [
        {
          "output_type": "stream",
          "name": "stdout",
          "text": [
            "True\n",
            "True\n",
            "False\n"
          ]
        }
      ]
    },
    {
      "cell_type": "markdown",
      "source": [
        "- 또는 .detach()를 호출하여 내용은 같지만 requires_grad가 다른 새로운 텐서를 가져올 수 있다.\n",
        "\n"
      ],
      "metadata": {
        "id": "t7ZPHG3AeCx_"
      }
    },
    {
      "cell_type": "code",
      "source": [
        "print(x.requires_grad)\n",
        "y = x.detach()\n",
        "print(y.requires_grad)\n",
        "x.eq(y).all()"
      ],
      "metadata": {
        "colab": {
          "base_uri": "https://localhost:8080/"
        },
        "id": "C6q1WIigedP-",
        "outputId": "4ba10f52-e7f5-44cd-a744-f9727a2639c0"
      },
      "execution_count": null,
      "outputs": [
        {
          "output_type": "stream",
          "name": "stdout",
          "text": [
            "True\n",
            "False\n"
          ]
        },
        {
          "output_type": "execute_result",
          "data": {
            "text/plain": [
              "tensor(True)"
            ]
          },
          "metadata": {},
          "execution_count": 19
        }
      ]
    },
    {
      "cell_type": "markdown",
      "source": [
        "## ANN(Artificial Neural Networks)\n",
        "- 신경망은 torch.nn 패키지를 사용하여 생성할 수 있다.\n",
        "- nn 모델을 정의하고 미분하기 위해서 위에서 살펴본 autograd를 사용\n",
        "- nn.Moduled은 계층(layer)과 output을 반환하는 forward(input) 메소드를 포함"
      ],
      "metadata": {
        "id": "ZLFZrVzeeipe"
      }
    },
    {
      "cell_type": "markdown",
      "source": [
        "- 간단한 순전파 네트워크(feed-forward-network)\n",
        "- 입력을 받아 여러 계층에 전달한 후 최종 출력을 제공\n",
        "- 신경망의 일반적인 학습 과정\n",
        "  - 학습 가능한 매개변수(가중치)를 갖는 신경망을 정의\n",
        "  - 데이터 셋 입력을 반복\n",
        "  - 입력을 신경망에서 전파\n",
        "  - 손실을 계산\n",
        "  - 변화도(gradient)를 신경망의 매개변수들에 역전파\n",
        "  - 신경망의 가중치를 갱신\n",
        "    - `새로운 가중치(weight) = 가중치(weight) - 학습률(learning_rate) * 변화도(gradient)`"
      ],
      "metadata": {
        "id": "30mOofstes3d"
      }
    },
    {
      "cell_type": "code",
      "source": [
        "import pandas as pd\n",
        "from sklearn.datasets import load_iris\n",
        "import torch\n",
        "import torch.nn as nn\n",
        "from torch.utils.data import DataLoader, TensorDataset"
      ],
      "metadata": {
        "id": "pU9AwYbxfp1-"
      },
      "execution_count": 21,
      "outputs": []
    },
    {
      "cell_type": "code",
      "source": [
        "class Net(nn.Module):\n",
        "\n",
        "  def __init__(self):\n",
        "    super(Net, self).__init__()\n",
        "\n",
        "    self.layer0 = nn.Linear(4, 128)\n",
        "    self.layer1 = nn.Linear(128, 64)\n",
        "    self.layer2 = nn.Linear(64, 32)\n",
        "    self.layer3 = nn.Linear(32, 16)\n",
        "    self.layer4 = nn.Linear(16, 3)\n",
        "\n",
        "    self.bn0 = nn.BatchNorm1d(128)\n",
        "    self.bn1 = nn.BatchNorm1d(64)\n",
        "    self.bn2 = nn.BatchNorm1d(32)\n",
        "\n",
        "    self.act = nn.ReLU()\n",
        "  \n",
        "  def forward(self, x):\n",
        "    x = self.act(self.bn0(self.layer0(x)))\n",
        "    x = self.act(self.bn1(self.layer1(x)))\n",
        "    x = self.act(self.bn2(self.layer2(x)))\n",
        "    x = self.act(self.layer3(x))\n",
        "    x = self.layer4(x)\n",
        "\n",
        "    return x"
      ],
      "metadata": {
        "id": "K_RsfQpTgkdt"
      },
      "execution_count": 22,
      "outputs": []
    },
    {
      "cell_type": "markdown",
      "source": [
        "## 손실함수(Loss Function)\n",
        "- 손실함수는 (output, target)값을 한 쌍으로 입력 받아, 출력이 정답으로 부터 얼마나 떨어져 있는지를 추정하는 값을 계산한다.\n",
        "- forward 함수만 정의하고나면 backward 함수는 autograd를 사용하여 자동으로 정의가 된다.\n",
        "- 모델의 학습 가능한 매개 변수는 `net.parameters()`에 의해 변환된다."
      ],
      "metadata": {
        "id": "Hn50FoOIiar2"
      }
    },
    {
      "cell_type": "code",
      "source": [
        "# 랜덤 값 생성\n",
        "criterion = nn.CrossEntropyLoss()\n",
        "\n",
        "ex_X, ex_y = torch.randn([4, 4]), torch.tensor([1, 0, 2, 0])\n",
        "\n",
        "net = Net()\n",
        "output = net(ex_X)\n",
        "loss = criterion(output, ex_y)\n",
        "print('loss:', loss.item())\n",
        "\n",
        "net.zero_grad()\n",
        "\n",
        "print('layer4.bias.grad before backward')\n",
        "print(net.layer4.bias.grad)\n",
        "\n",
        "print(net.layer4.bias.is_leaf)\n",
        "\n",
        "loss.backward()\n",
        "\n",
        "print('layer4.bias.grad after backward')\n",
        "print(net.layer4.bias.grad)"
      ],
      "metadata": {
        "colab": {
          "base_uri": "https://localhost:8080/"
        },
        "id": "IHiLZTKPid78",
        "outputId": "5a90aa39-8223-4298-9aa8-6584f3d2e69f"
      },
      "execution_count": 32,
      "outputs": [
        {
          "output_type": "stream",
          "name": "stdout",
          "text": [
            "loss: 1.213205099105835\n",
            "layer0.bias.grad before backward\n",
            "None\n",
            "True\n",
            "layer0.bias.grad after backward\n",
            "tensor([-0.2056,  0.0956,  0.1100])\n"
          ]
        }
      ]
    },
    {
      "cell_type": "code",
      "source": [
        "params = list(net.parameters())\n",
        "print(len(params))\n",
        "print(params[0].size()) # layer0의 weight"
      ],
      "metadata": {
        "colab": {
          "base_uri": "https://localhost:8080/"
        },
        "id": "Xew6sQ2HjWem",
        "outputId": "5cc1add8-10ce-4af3-ea31-d8c3194628b3"
      },
      "execution_count": 34,
      "outputs": [
        {
          "output_type": "stream",
          "name": "stdout",
          "text": [
            "16\n",
            "torch.Size([128, 4])\n"
          ]
        }
      ]
    },
    {
      "cell_type": "markdown",
      "source": [
        "## 가중치 갱신\n",
        "- 가장 단순한 갱신 규칙은 확률적 경사 하강법(SGD)\n",
        "- `새로운 가중치 = 가중치weight) - 학습률(learning_rate) * 변화도(gradient)`"
      ],
      "metadata": {
        "id": "0UhOkf3cnT0b"
      }
    },
    {
      "cell_type": "code",
      "source": [
        "# torch.optim 패키지에 다양한 갱신 규칙들이 구현되어 있다.\n",
        "\n",
        "import torch.optim as optim\n",
        "\n",
        "optimizer =optim.SGD(net.parameters(), lr=0.001)\n",
        "\n",
        "optimizer.zero_grad()\n",
        "output = net(ex_X)\n",
        "loss = criterion(output, ex_y)\n",
        "loss.backward()\n",
        "optimizer.step() # 가중치 업데이트 진행"
      ],
      "metadata": {
        "id": "O65I371lqrAj"
      },
      "execution_count": 36,
      "outputs": []
    },
    {
      "cell_type": "markdown",
      "source": [
        "## MLP 모델"
      ],
      "metadata": {
        "id": "xL7vDGTereZB"
      }
    },
    {
      "cell_type": "code",
      "source": [
        "dataset = load_iris()\n",
        "\n",
        "data = dataset.data\n",
        "label = dataset.target\n",
        "\n",
        "print(dataset.DESCR)"
      ],
      "metadata": {
        "colab": {
          "base_uri": "https://localhost:8080/"
        },
        "id": "Wwox_35eri3J",
        "outputId": "f6527467-707e-4c33-81af-19cff549d61d"
      },
      "execution_count": 38,
      "outputs": [
        {
          "output_type": "stream",
          "name": "stdout",
          "text": [
            ".. _iris_dataset:\n",
            "\n",
            "Iris plants dataset\n",
            "--------------------\n",
            "\n",
            "**Data Set Characteristics:**\n",
            "\n",
            "    :Number of Instances: 150 (50 in each of three classes)\n",
            "    :Number of Attributes: 4 numeric, predictive attributes and the class\n",
            "    :Attribute Information:\n",
            "        - sepal length in cm\n",
            "        - sepal width in cm\n",
            "        - petal length in cm\n",
            "        - petal width in cm\n",
            "        - class:\n",
            "                - Iris-Setosa\n",
            "                - Iris-Versicolour\n",
            "                - Iris-Virginica\n",
            "                \n",
            "    :Summary Statistics:\n",
            "\n",
            "    ============== ==== ==== ======= ===== ====================\n",
            "                    Min  Max   Mean    SD   Class Correlation\n",
            "    ============== ==== ==== ======= ===== ====================\n",
            "    sepal length:   4.3  7.9   5.84   0.83    0.7826\n",
            "    sepal width:    2.0  4.4   3.05   0.43   -0.4194\n",
            "    petal length:   1.0  6.9   3.76   1.76    0.9490  (high!)\n",
            "    petal width:    0.1  2.5   1.20   0.76    0.9565  (high!)\n",
            "    ============== ==== ==== ======= ===== ====================\n",
            "\n",
            "    :Missing Attribute Values: None\n",
            "    :Class Distribution: 33.3% for each of 3 classes.\n",
            "    :Creator: R.A. Fisher\n",
            "    :Donor: Michael Marshall (MARSHALL%PLU@io.arc.nasa.gov)\n",
            "    :Date: July, 1988\n",
            "\n",
            "The famous Iris database, first used by Sir R.A. Fisher. The dataset is taken\n",
            "from Fisher's paper. Note that it's the same as in R, but not as in the UCI\n",
            "Machine Learning Repository, which has two wrong data points.\n",
            "\n",
            "This is perhaps the best known database to be found in the\n",
            "pattern recognition literature.  Fisher's paper is a classic in the field and\n",
            "is referenced frequently to this day.  (See Duda & Hart, for example.)  The\n",
            "data set contains 3 classes of 50 instances each, where each class refers to a\n",
            "type of iris plant.  One class is linearly separable from the other 2; the\n",
            "latter are NOT linearly separable from each other.\n",
            "\n",
            ".. topic:: References\n",
            "\n",
            "   - Fisher, R.A. \"The use of multiple measurements in taxonomic problems\"\n",
            "     Annual Eugenics, 7, Part II, 179-188 (1936); also in \"Contributions to\n",
            "     Mathematical Statistics\" (John Wiley, NY, 1950).\n",
            "   - Duda, R.O., & Hart, P.E. (1973) Pattern Classification and Scene Analysis.\n",
            "     (Q327.D83) John Wiley & Sons.  ISBN 0-471-22361-1.  See page 218.\n",
            "   - Dasarathy, B.V. (1980) \"Nosing Around the Neighborhood: A New System\n",
            "     Structure and Classification Rule for Recognition in Partially Exposed\n",
            "     Environments\".  IEEE Transactions on Pattern Analysis and Machine\n",
            "     Intelligence, Vol. PAMI-2, No. 1, 67-71.\n",
            "   - Gates, G.W. (1972) \"The Reduced Nearest Neighbor Rule\".  IEEE Transactions\n",
            "     on Information Theory, May 1972, 431-433.\n",
            "   - See also: 1988 MLC Proceedings, 54-64.  Cheeseman et al\"s AUTOCLASS II\n",
            "     conceptual clustering system finds 3 classes in the data.\n",
            "   - Many, many more ...\n"
          ]
        }
      ]
    },
    {
      "cell_type": "code",
      "source": [
        "from sklearn.model_selection import train_test_split\n",
        "\n",
        "X_train, X_test, y_train, y_test = train_test_split(data, label, test_size=0.25)\n",
        "X_train.shape, X_test.shape"
      ],
      "metadata": {
        "colab": {
          "base_uri": "https://localhost:8080/"
        },
        "id": "4pTAHN9LruXg",
        "outputId": "0b584784-ec66-41cc-d654-c4539f198917"
      },
      "execution_count": 48,
      "outputs": [
        {
          "output_type": "execute_result",
          "data": {
            "text/plain": [
              "((112, 4), (38, 4))"
            ]
          },
          "metadata": {},
          "execution_count": 48
        }
      ]
    },
    {
      "cell_type": "code",
      "source": [
        "#DataLoader 생성\n",
        "\n",
        "X_train = torch.from_numpy(X_train).float()\n",
        "y_train = torch.from_numpy(y_train).long()\n",
        "\n",
        "X_test = torch.from_numpy(X_test).float()\n",
        "y_test = torch.from_numpy(y_test).long()\n",
        "\n",
        "train_set = TensorDataset(X_train, y_train)\n",
        "\n",
        "train_loader = DataLoader(train_set, batch_size=4, shuffle=True)"
      ],
      "metadata": {
        "id": "Rvu-eqq6sPZQ"
      },
      "execution_count": 49,
      "outputs": []
    },
    {
      "cell_type": "code",
      "source": [
        "class Net(nn.Module):\n",
        "\n",
        "  def __init__(self):\n",
        "    super(Net, self).__init__()\n",
        "\n",
        "    self.layer0 = nn.Linear(4, 128)\n",
        "    self.layer1 = nn.Linear(128, 64)\n",
        "    self.layer2 = nn.Linear(64, 32)\n",
        "    self.layer3 = nn.Linear(32, 16)\n",
        "    self.layer4 = nn.Linear(16, 3)\n",
        "\n",
        "    self.bn0 = nn.BatchNorm1d(128)\n",
        "    self.bn1 = nn.BatchNorm1d(64)\n",
        "    self.bn2 = nn.BatchNorm1d(32)\n",
        "\n",
        "    self.act = nn.ReLU()\n",
        "  \n",
        "  def forward(self, x):\n",
        "    x = self.act(self.bn0(self.layer0(x)))\n",
        "    x = self.act(self.bn1(self.layer1(x)))\n",
        "    x = self.act(self.bn2(self.layer2(x)))\n",
        "    x = self.act(self.layer3(x))\n",
        "    x = self.layer4(x)\n",
        "\n",
        "    return x"
      ],
      "metadata": {
        "id": "4_Vn_Lh9snqH"
      },
      "execution_count": 50,
      "outputs": []
    },
    {
      "cell_type": "code",
      "source": [
        "net = Net()\n",
        "print(net)"
      ],
      "metadata": {
        "colab": {
          "base_uri": "https://localhost:8080/"
        },
        "id": "7Vn_jXiwtPxY",
        "outputId": "a4464e4d-f52c-4d0e-f523-8dd56d49e278"
      },
      "execution_count": 51,
      "outputs": [
        {
          "output_type": "stream",
          "name": "stdout",
          "text": [
            "Net(\n",
            "  (layer0): Linear(in_features=4, out_features=128, bias=True)\n",
            "  (layer1): Linear(in_features=128, out_features=64, bias=True)\n",
            "  (layer2): Linear(in_features=64, out_features=32, bias=True)\n",
            "  (layer3): Linear(in_features=32, out_features=16, bias=True)\n",
            "  (layer4): Linear(in_features=16, out_features=3, bias=True)\n",
            "  (bn0): BatchNorm1d(128, eps=1e-05, momentum=0.1, affine=True, track_running_stats=True)\n",
            "  (bn1): BatchNorm1d(64, eps=1e-05, momentum=0.1, affine=True, track_running_stats=True)\n",
            "  (bn2): BatchNorm1d(32, eps=1e-05, momentum=0.1, affine=True, track_running_stats=True)\n",
            "  (act): ReLU()\n",
            ")\n"
          ]
        }
      ]
    },
    {
      "cell_type": "code",
      "source": [
        "optimizer = torch.optim.SGD(net.parameters(), lr=0.001)\n",
        "criterion = nn.CrossEntropyLoss()\n",
        "epochs = 200"
      ],
      "metadata": {
        "id": "LMBYdrADtTKH"
      },
      "execution_count": 52,
      "outputs": []
    },
    {
      "cell_type": "code",
      "source": [
        "losses = list()\n",
        "accuracies = list()\n",
        "\n",
        "for epoch in range(epochs):\n",
        "  epoch_loss = 0\n",
        "  epoch_accuracy = 0\n",
        "\n",
        "  for X, y in train_loader:\n",
        "    optimizer.zero_grad() # grad값 초기화\n",
        "\n",
        "    output = net(X)\n",
        "\n",
        "    loss = criterion(output, y)\n",
        "    loss.backward() # 오류역전파 수행\n",
        "\n",
        "    optimizer.step() # 가중치 업데이트\n",
        "    \n",
        "    # output = [0.1, 0.5, 0.8] --> 예측 클래스 값\n",
        "    _, predicted = torch.max(output, dim=1)\n",
        "    accuracy = (predicted == y).sum().item()\n",
        "    epoch_loss += loss.item()\n",
        "    epoch_accuracy += accuracy\n",
        "\n",
        "  epoch_loss /= len(train_loader)\n",
        "  epoch_accuracy /= len(X_train)\n",
        "  print('epoch :{}, \\tloss :{}, \\taccuracy :{}'.format(str(epoch+1).zfill(3), round(epoch_loss, 4), round(epoch_accuracy, 4)))\n",
        "\n",
        "  losses.append(epoch_loss)\n",
        "  accuracies.append(epoch_accuracy)\n",
        "\n"
      ],
      "metadata": {
        "colab": {
          "base_uri": "https://localhost:8080/"
        },
        "id": "dV56iOYGti7g",
        "outputId": "dc0d1763-7135-44dc-d4b4-44e6f03abcfb"
      },
      "execution_count": 55,
      "outputs": [
        {
          "output_type": "stream",
          "name": "stdout",
          "text": [
            "epoch :001, \tloss :0.3635, \taccuracy :0.8661\n",
            "epoch :002, \tloss :0.4209, \taccuracy :0.8125\n",
            "epoch :003, \tloss :0.4186, \taccuracy :0.8304\n",
            "epoch :004, \tloss :0.5083, \taccuracy :0.7857\n",
            "epoch :005, \tloss :0.4782, \taccuracy :0.8036\n",
            "epoch :006, \tloss :0.4077, \taccuracy :0.8571\n",
            "epoch :007, \tloss :0.3187, \taccuracy :0.9018\n",
            "epoch :008, \tloss :0.4415, \taccuracy :0.8393\n",
            "epoch :009, \tloss :0.3973, \taccuracy :0.8482\n",
            "epoch :010, \tloss :0.4658, \taccuracy :0.8304\n",
            "epoch :011, \tloss :0.3866, \taccuracy :0.8661\n",
            "epoch :012, \tloss :0.5102, \taccuracy :0.8036\n",
            "epoch :013, \tloss :0.457, \taccuracy :0.7768\n",
            "epoch :014, \tloss :0.3802, \taccuracy :0.875\n",
            "epoch :015, \tloss :0.3644, \taccuracy :0.8839\n",
            "epoch :016, \tloss :0.3441, \taccuracy :0.875\n",
            "epoch :017, \tloss :0.465, \taccuracy :0.8036\n",
            "epoch :018, \tloss :0.5581, \taccuracy :0.7679\n",
            "epoch :019, \tloss :0.3486, \taccuracy :0.8661\n",
            "epoch :020, \tloss :0.4555, \taccuracy :0.7768\n",
            "epoch :021, \tloss :0.4024, \taccuracy :0.8214\n",
            "epoch :022, \tloss :0.5026, \taccuracy :0.8125\n",
            "epoch :023, \tloss :0.3565, \taccuracy :0.875\n",
            "epoch :024, \tloss :0.4543, \taccuracy :0.8393\n",
            "epoch :025, \tloss :0.4176, \taccuracy :0.8304\n",
            "epoch :026, \tloss :0.4146, \taccuracy :0.8661\n",
            "epoch :027, \tloss :0.4413, \taccuracy :0.8304\n",
            "epoch :028, \tloss :0.3805, \taccuracy :0.8661\n",
            "epoch :029, \tloss :0.5001, \taccuracy :0.8482\n",
            "epoch :030, \tloss :0.3286, \taccuracy :0.9018\n",
            "epoch :031, \tloss :0.3766, \taccuracy :0.8393\n",
            "epoch :032, \tloss :0.2846, \taccuracy :0.9018\n",
            "epoch :033, \tloss :0.342, \taccuracy :0.8929\n",
            "epoch :034, \tloss :0.3901, \taccuracy :0.875\n",
            "epoch :035, \tloss :0.3288, \taccuracy :0.8839\n",
            "epoch :036, \tloss :0.363, \taccuracy :0.8839\n",
            "epoch :037, \tloss :0.357, \taccuracy :0.8839\n",
            "epoch :038, \tloss :0.4189, \taccuracy :0.8571\n",
            "epoch :039, \tloss :0.5251, \taccuracy :0.7857\n",
            "epoch :040, \tloss :0.3816, \taccuracy :0.875\n",
            "epoch :041, \tloss :0.3467, \taccuracy :0.9018\n",
            "epoch :042, \tloss :0.3783, \taccuracy :0.875\n",
            "epoch :043, \tloss :0.4104, \taccuracy :0.8393\n",
            "epoch :044, \tloss :0.3336, \taccuracy :0.9018\n",
            "epoch :045, \tloss :0.4586, \taccuracy :0.8304\n",
            "epoch :046, \tloss :0.4158, \taccuracy :0.8482\n",
            "epoch :047, \tloss :0.3557, \taccuracy :0.8839\n",
            "epoch :048, \tloss :0.433, \taccuracy :0.8214\n",
            "epoch :049, \tloss :0.3668, \taccuracy :0.8482\n",
            "epoch :050, \tloss :0.3562, \taccuracy :0.8661\n",
            "epoch :051, \tloss :0.4273, \taccuracy :0.8036\n",
            "epoch :052, \tloss :0.4974, \taccuracy :0.7946\n",
            "epoch :053, \tloss :0.403, \taccuracy :0.8482\n",
            "epoch :054, \tloss :0.3495, \taccuracy :0.8571\n",
            "epoch :055, \tloss :0.4966, \taccuracy :0.8036\n",
            "epoch :056, \tloss :0.4431, \taccuracy :0.7946\n",
            "epoch :057, \tloss :0.3904, \taccuracy :0.8661\n",
            "epoch :058, \tloss :0.3857, \taccuracy :0.8661\n",
            "epoch :059, \tloss :0.5348, \taccuracy :0.7946\n",
            "epoch :060, \tloss :0.4299, \taccuracy :0.8571\n",
            "epoch :061, \tloss :0.3259, \taccuracy :0.8929\n",
            "epoch :062, \tloss :0.327, \taccuracy :0.8661\n",
            "epoch :063, \tloss :0.2823, \taccuracy :0.9107\n",
            "epoch :064, \tloss :0.3751, \taccuracy :0.8571\n",
            "epoch :065, \tloss :0.4024, \taccuracy :0.8393\n",
            "epoch :066, \tloss :0.386, \taccuracy :0.8393\n",
            "epoch :067, \tloss :0.4707, \taccuracy :0.7946\n",
            "epoch :068, \tloss :0.3521, \taccuracy :0.8482\n",
            "epoch :069, \tloss :0.3252, \taccuracy :0.8839\n",
            "epoch :070, \tloss :0.2878, \taccuracy :0.9018\n",
            "epoch :071, \tloss :0.4167, \taccuracy :0.8482\n",
            "epoch :072, \tloss :0.3822, \taccuracy :0.8482\n",
            "epoch :073, \tloss :0.4433, \taccuracy :0.7946\n",
            "epoch :074, \tloss :0.2946, \taccuracy :0.9107\n",
            "epoch :075, \tloss :0.3766, \taccuracy :0.8839\n",
            "epoch :076, \tloss :0.398, \taccuracy :0.8571\n",
            "epoch :077, \tloss :0.4408, \taccuracy :0.8214\n",
            "epoch :078, \tloss :0.3279, \taccuracy :0.8839\n",
            "epoch :079, \tloss :0.2964, \taccuracy :0.9196\n",
            "epoch :080, \tloss :0.3763, \taccuracy :0.8036\n",
            "epoch :081, \tloss :0.3191, \taccuracy :0.875\n",
            "epoch :082, \tloss :0.3922, \taccuracy :0.8661\n",
            "epoch :083, \tloss :0.3357, \taccuracy :0.8571\n",
            "epoch :084, \tloss :0.4395, \taccuracy :0.8304\n",
            "epoch :085, \tloss :0.3555, \taccuracy :0.8661\n",
            "epoch :086, \tloss :0.4342, \taccuracy :0.8393\n",
            "epoch :087, \tloss :0.3274, \taccuracy :0.8839\n",
            "epoch :088, \tloss :0.412, \taccuracy :0.8304\n",
            "epoch :089, \tloss :0.5093, \taccuracy :0.7768\n",
            "epoch :090, \tloss :0.3807, \taccuracy :0.8661\n",
            "epoch :091, \tloss :0.3239, \taccuracy :0.9107\n",
            "epoch :092, \tloss :0.4343, \taccuracy :0.8214\n",
            "epoch :093, \tloss :0.388, \taccuracy :0.8839\n",
            "epoch :094, \tloss :0.2713, \taccuracy :0.9018\n",
            "epoch :095, \tloss :0.3222, \taccuracy :0.8929\n",
            "epoch :096, \tloss :0.4268, \taccuracy :0.8214\n",
            "epoch :097, \tloss :0.3528, \taccuracy :0.8571\n",
            "epoch :098, \tloss :0.2685, \taccuracy :0.9107\n",
            "epoch :099, \tloss :0.2786, \taccuracy :0.9286\n",
            "epoch :100, \tloss :0.326, \taccuracy :0.8661\n",
            "epoch :101, \tloss :0.2768, \taccuracy :0.8929\n",
            "epoch :102, \tloss :0.3435, \taccuracy :0.9018\n",
            "epoch :103, \tloss :0.3951, \taccuracy :0.8482\n",
            "epoch :104, \tloss :0.3927, \taccuracy :0.8304\n",
            "epoch :105, \tloss :0.3604, \taccuracy :0.875\n",
            "epoch :106, \tloss :0.3434, \taccuracy :0.8839\n",
            "epoch :107, \tloss :0.4248, \taccuracy :0.8482\n",
            "epoch :108, \tloss :0.3176, \taccuracy :0.8929\n",
            "epoch :109, \tloss :0.3171, \taccuracy :0.8661\n",
            "epoch :110, \tloss :0.3086, \taccuracy :0.8839\n",
            "epoch :111, \tloss :0.4037, \taccuracy :0.8393\n",
            "epoch :112, \tloss :0.3446, \taccuracy :0.8661\n",
            "epoch :113, \tloss :0.252, \taccuracy :0.9018\n",
            "epoch :114, \tloss :0.1973, \taccuracy :0.9464\n",
            "epoch :115, \tloss :0.4993, \taccuracy :0.8036\n",
            "epoch :116, \tloss :0.5715, \taccuracy :0.7411\n",
            "epoch :117, \tloss :0.3449, \taccuracy :0.8571\n",
            "epoch :118, \tloss :0.2855, \taccuracy :0.8661\n",
            "epoch :119, \tloss :0.2977, \taccuracy :0.8571\n",
            "epoch :120, \tloss :0.3736, \taccuracy :0.8214\n",
            "epoch :121, \tloss :0.271, \taccuracy :0.9286\n",
            "epoch :122, \tloss :0.2701, \taccuracy :0.9286\n",
            "epoch :123, \tloss :0.45, \taccuracy :0.8214\n",
            "epoch :124, \tloss :0.3175, \taccuracy :0.9018\n",
            "epoch :125, \tloss :0.2881, \taccuracy :0.8839\n",
            "epoch :126, \tloss :0.3441, \taccuracy :0.8661\n",
            "epoch :127, \tloss :0.4488, \taccuracy :0.8036\n",
            "epoch :128, \tloss :0.408, \taccuracy :0.8304\n",
            "epoch :129, \tloss :0.3306, \taccuracy :0.875\n",
            "epoch :130, \tloss :0.4537, \taccuracy :0.8393\n",
            "epoch :131, \tloss :0.3641, \taccuracy :0.8571\n",
            "epoch :132, \tloss :0.2465, \taccuracy :0.9196\n",
            "epoch :133, \tloss :0.2195, \taccuracy :0.9286\n",
            "epoch :134, \tloss :0.3296, \taccuracy :0.9018\n",
            "epoch :135, \tloss :0.4001, \taccuracy :0.875\n",
            "epoch :136, \tloss :0.3877, \taccuracy :0.8482\n",
            "epoch :137, \tloss :0.2632, \taccuracy :0.9107\n",
            "epoch :138, \tloss :0.2978, \taccuracy :0.8839\n",
            "epoch :139, \tloss :0.3665, \taccuracy :0.8661\n",
            "epoch :140, \tloss :0.271, \taccuracy :0.9018\n",
            "epoch :141, \tloss :0.3695, \taccuracy :0.8661\n",
            "epoch :142, \tloss :0.358, \taccuracy :0.8482\n",
            "epoch :143, \tloss :0.3838, \taccuracy :0.8661\n",
            "epoch :144, \tloss :0.4251, \taccuracy :0.8393\n",
            "epoch :145, \tloss :0.4256, \taccuracy :0.8393\n",
            "epoch :146, \tloss :0.3341, \taccuracy :0.875\n",
            "epoch :147, \tloss :0.3408, \taccuracy :0.875\n",
            "epoch :148, \tloss :0.3251, \taccuracy :0.8929\n",
            "epoch :149, \tloss :0.436, \taccuracy :0.8304\n",
            "epoch :150, \tloss :0.3502, \taccuracy :0.875\n",
            "epoch :151, \tloss :0.373, \taccuracy :0.8482\n",
            "epoch :152, \tloss :0.3825, \taccuracy :0.8304\n",
            "epoch :153, \tloss :0.298, \taccuracy :0.8661\n",
            "epoch :154, \tloss :0.2349, \taccuracy :0.9286\n",
            "epoch :155, \tloss :0.3597, \taccuracy :0.8661\n",
            "epoch :156, \tloss :0.4502, \taccuracy :0.8125\n",
            "epoch :157, \tloss :0.3279, \taccuracy :0.8839\n",
            "epoch :158, \tloss :0.3726, \taccuracy :0.8482\n",
            "epoch :159, \tloss :0.3428, \taccuracy :0.8482\n",
            "epoch :160, \tloss :0.3023, \taccuracy :0.8929\n",
            "epoch :161, \tloss :0.356, \taccuracy :0.875\n",
            "epoch :162, \tloss :0.2478, \taccuracy :0.9286\n",
            "epoch :163, \tloss :0.2996, \taccuracy :0.875\n",
            "epoch :164, \tloss :0.3302, \taccuracy :0.875\n",
            "epoch :165, \tloss :0.3411, \taccuracy :0.8304\n",
            "epoch :166, \tloss :0.2641, \taccuracy :0.9107\n",
            "epoch :167, \tloss :0.3148, \taccuracy :0.8839\n",
            "epoch :168, \tloss :0.3406, \taccuracy :0.875\n",
            "epoch :169, \tloss :0.3364, \taccuracy :0.9018\n",
            "epoch :170, \tloss :0.3876, \taccuracy :0.8482\n",
            "epoch :171, \tloss :0.2589, \taccuracy :0.9107\n",
            "epoch :172, \tloss :0.4039, \taccuracy :0.8839\n",
            "epoch :173, \tloss :0.4508, \taccuracy :0.8571\n",
            "epoch :174, \tloss :0.2869, \taccuracy :0.9107\n",
            "epoch :175, \tloss :0.3038, \taccuracy :0.8929\n",
            "epoch :176, \tloss :0.3019, \taccuracy :0.8839\n",
            "epoch :177, \tloss :0.3769, \taccuracy :0.8661\n",
            "epoch :178, \tloss :0.5283, \taccuracy :0.8214\n",
            "epoch :179, \tloss :0.3058, \taccuracy :0.9107\n",
            "epoch :180, \tloss :0.2889, \taccuracy :0.875\n",
            "epoch :181, \tloss :0.2701, \taccuracy :0.9107\n",
            "epoch :182, \tloss :0.2911, \taccuracy :0.8839\n",
            "epoch :183, \tloss :0.3469, \taccuracy :0.8839\n",
            "epoch :184, \tloss :0.296, \taccuracy :0.8839\n",
            "epoch :185, \tloss :0.3203, \taccuracy :0.8839\n",
            "epoch :186, \tloss :0.2898, \taccuracy :0.875\n",
            "epoch :187, \tloss :0.3686, \taccuracy :0.8571\n",
            "epoch :188, \tloss :0.4131, \taccuracy :0.8036\n",
            "epoch :189, \tloss :0.3309, \taccuracy :0.875\n",
            "epoch :190, \tloss :0.2718, \taccuracy :0.8929\n",
            "epoch :191, \tloss :0.2786, \taccuracy :0.9018\n",
            "epoch :192, \tloss :0.4853, \taccuracy :0.8482\n",
            "epoch :193, \tloss :0.4309, \taccuracy :0.8304\n",
            "epoch :194, \tloss :0.4052, \taccuracy :0.8214\n",
            "epoch :195, \tloss :0.4552, \taccuracy :0.8304\n",
            "epoch :196, \tloss :0.4529, \taccuracy :0.8214\n",
            "epoch :197, \tloss :0.3543, \taccuracy :0.8929\n",
            "epoch :198, \tloss :0.3261, \taccuracy :0.9018\n",
            "epoch :199, \tloss :0.3327, \taccuracy :0.8839\n",
            "epoch :200, \tloss :0.343, \taccuracy :0.8839\n"
          ]
        }
      ]
    },
    {
      "cell_type": "code",
      "source": [
        "import matplotlib.pyplot as plt\n",
        "\n",
        "plt.figure(figsize=(20,5))\n",
        "plt.subplots_adjust(wspace=0.2)\n",
        "\n",
        "plt.subplot(1, 2, 1)\n",
        "plt.title('$Loss$', fontsize=18)\n",
        "plt.plot(losses)\n",
        "plt.grid()\n",
        "plt.xlabel('$Epochs$', fontsize=16)\n",
        "plt.xticks(fontsize=14)\n",
        "plt.yticks(fontsize=14)\n",
        "\n",
        "plt.subplot(1, 2, 2)\n",
        "plt.title('$accuracy$', fontsize=18)\n",
        "plt.plot(accuracies)\n",
        "plt.grid()\n",
        "plt.xlabel('$Epochs$', fontsize=16)\n",
        "plt.xticks(fontsize=14)\n",
        "plt.yticks(fontsize=14)\n",
        "\n",
        "plt.show()"
      ],
      "metadata": {
        "colab": {
          "base_uri": "https://localhost:8080/",
          "height": 367
        },
        "id": "3iaQWencuLPP",
        "outputId": "5b49bb49-0833-4709-b654-e05648337322"
      },
      "execution_count": 58,
      "outputs": [
        {
          "output_type": "display_data",
          "data": {
            "image/png": "[encoded data removed]",
            "text/plain": [
              "<Figure size 1440x360 with 2 Axes>"
            ]
          },
          "metadata": {
            "needs_background": "light"
          }
        }
      ]
    },
    {
      "cell_type": "code",
      "source": [
        "# Test\n",
        "\n",
        "output = net(X_test)\n",
        "print(torch.max(output, dim=1))\n",
        "_, predicted = torch.max(output, dim=1)\n",
        "accuracy = round((predicted == y_test).sum().item() / len(y_test), 4)\n",
        "\n",
        "print('test_set_accuracy: ', round(accuracy, 4))"
      ],
      "metadata": {
        "colab": {
          "base_uri": "https://localhost:8080/"
        },
        "id": "0PwdoKMLxlZO",
        "outputId": "efff7d9b-a8dd-4b39-ca11-eb4daa8ecd48"
      },
      "execution_count": 73,
      "outputs": [
        {
          "output_type": "stream",
          "name": "stdout",
          "text": [
            "torch.return_types.max(\n",
            "values=tensor([2.6525, 1.5210, 2.1009, 2.9778, 3.1515, 1.4679, 1.8967, 1.9802, 2.1478,\n",
            "        2.8087, 5.7294, 2.8138, 1.5024, 4.9334, 1.7573, 1.5563, 3.9233, 3.8885,\n",
            "        2.8584, 1.2433, 2.7851, 2.9996, 4.9927, 1.9415, 2.3389, 3.2491, 0.9987,\n",
            "        3.6929, 2.6654, 2.9560, 2.5689, 2.2511, 1.3794, 1.9115, 2.3302, 1.7259,\n",
            "        0.7375, 2.8981], grad_fn=<MaxBackward0>),\n",
            "indices=tensor([0, 2, 1, 2, 1, 1, 1, 1, 2, 1, 0, 2, 2, 0, 1, 1, 2, 0, 0, 2, 0, 0, 0, 2,\n",
            "        2, 0, 2, 0, 2, 1, 2, 1, 1, 1, 1, 1, 1, 2]))\n",
            "test_set_accuracy:  0.9474\n"
          ]
        }
      ]
    }
  ]
}