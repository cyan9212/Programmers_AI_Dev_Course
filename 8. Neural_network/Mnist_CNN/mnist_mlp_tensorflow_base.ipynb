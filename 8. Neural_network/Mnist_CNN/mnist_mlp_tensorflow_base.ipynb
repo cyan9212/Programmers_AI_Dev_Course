{
  "nbformat": 4,
  "nbformat_minor": 0,
  "metadata": {
    "colab": {
      "name": "mnist_mlp_tensorflow_base.ipynb",
      "provenance": []
    },
    "kernelspec": {
      "name": "python3",
      "display_name": "Python 3"
    },
    "language_info": {
      "name": "python"
    },
    "accelerator": "GPU"
  },
  "cells": [
    {
      "cell_type": "code",
      "execution_count": 1,
      "metadata": {
        "id": "4kddXnsuY4Uh"
      },
      "outputs": [],
      "source": [
        "import tensorflow as tf\n",
        "import numpy as np"
      ]
    },
    {
      "cell_type": "code",
      "source": [
        "from tensorflow import keras\n",
        "\n",
        "(train_data, train_target), (test_data, test_target) = keras.datasets.mnist.load_data()"
      ],
      "metadata": {
        "colab": {
          "base_uri": "https://localhost:8080/"
        },
        "id": "p3cKKrasZD4o",
        "outputId": "c822314c-fe4c-4830-8aee-bb4e9283e81b"
      },
      "execution_count": 2,
      "outputs": [
        {
          "output_type": "stream",
          "name": "stdout",
          "text": [
            "Downloading data from https://storage.googleapis.com/tensorflow/tf-keras-datasets/mnist.npz\n",
            "11493376/11490434 [==============================] - 0s 0us/step\n",
            "11501568/11490434 [==============================] - 0s 0us/step\n"
          ]
        }
      ]
    },
    {
      "cell_type": "code",
      "source": [
        "train_data.shape, train_target.shape"
      ],
      "metadata": {
        "colab": {
          "base_uri": "https://localhost:8080/"
        },
        "id": "xpQi7GTkaLAr",
        "outputId": "55880366-e602-4c75-9cd8-d398433b0e51"
      },
      "execution_count": 3,
      "outputs": [
        {
          "output_type": "execute_result",
          "data": {
            "text/plain": [
              "((60000, 28, 28), (60000,))"
            ]
          },
          "metadata": {},
          "execution_count": 3
        }
      ]
    },
    {
      "cell_type": "code",
      "source": [
        "test_data.shape, test_target.shape"
      ],
      "metadata": {
        "colab": {
          "base_uri": "https://localhost:8080/"
        },
        "id": "fJY_2OiBanAT",
        "outputId": "649afe2a-9b3d-454c-c4c8-d3f84ec24fe8"
      },
      "execution_count": 4,
      "outputs": [
        {
          "output_type": "execute_result",
          "data": {
            "text/plain": [
              "((10000, 28, 28), (10000,))"
            ]
          },
          "metadata": {},
          "execution_count": 4
        }
      ]
    },
    {
      "cell_type": "code",
      "source": [
        "tf.test.is_gpu_available()"
      ],
      "metadata": {
        "colab": {
          "base_uri": "https://localhost:8080/"
        },
        "id": "B1OsIYbMa-NA",
        "outputId": "09039ed1-f7ef-4a02-a9af-a382b13e3182"
      },
      "execution_count": 6,
      "outputs": [
        {
          "output_type": "stream",
          "name": "stdout",
          "text": [
            "WARNING:tensorflow:From <ipython-input-6-17bb7203622b>:1: is_gpu_available (from tensorflow.python.framework.test_util) is deprecated and will be removed in a future version.\n",
            "Instructions for updating:\n",
            "Use `tf.config.list_physical_devices('GPU')` instead.\n"
          ]
        },
        {
          "output_type": "execute_result",
          "data": {
            "text/plain": [
              "True"
            ]
          },
          "metadata": {},
          "execution_count": 6
        }
      ]
    },
    {
      "cell_type": "code",
      "source": [
        "def Net():\n",
        "  model = keras.Sequential()\n",
        "\n",
        "  model.add(keras.layers.Input(shape=(28, 28, 1)))\n",
        "  model.add(keras.layers.Conv2D(64, kernel_size=7, strides=2, padding='same'))\n",
        "  model.add(keras.layers.BatchNormalization(epsilon=0.001))\n",
        "  model.add(keras.layers.Activation('relu'))\n",
        "  model.add(keras.layers.MaxPool2D(3, strides=2, padding='same'))\n",
        "\n",
        "  model.add(keras.layers.Conv2D(64, kernel_size=1))\n",
        "  model.add(keras.layers.BatchNormalization(epsilon=0.001))\n",
        "\n",
        "  model.add(keras.layers.Conv2D(192, kernel_size=3, padding='same'))\n",
        "  model.add(keras.layers.BatchNormalization(epsilon=0.001))\n",
        "  model.add(keras.layers.MaxPool2D(2, strides=1, padding='same'))\n",
        "\n",
        "  model.add(keras.layers.AveragePooling2D(1,1))\n",
        "  model.add(keras.layers.Flatten())\n",
        "  model.add(keras.layers.Dropout(0.2))\n",
        "  model.add(keras.layers.Dense(10, activation='softmax'))\n",
        "  return model"
      ],
      "metadata": {
        "id": "2t735cFPbcdP"
      },
      "execution_count": 60,
      "outputs": []
    },
    {
      "cell_type": "code",
      "source": [
        "model = Net()\n",
        "model.summary()"
      ],
      "metadata": {
        "colab": {
          "base_uri": "https://localhost:8080/"
        },
        "id": "7ZCZZbW6dcna",
        "outputId": "d6a331f7-b12c-44df-88ca-3eb559490790"
      },
      "execution_count": 61,
      "outputs": [
        {
          "output_type": "stream",
          "name": "stdout",
          "text": [
            "Model: \"sequential_25\"\n",
            "_________________________________________________________________\n",
            " Layer (type)                Output Shape              Param #   \n",
            "=================================================================\n",
            " conv2d_49 (Conv2D)          (None, 14, 14, 64)        3200      \n",
            "                                                                 \n",
            " batch_normalization_47 (Bat  (None, 14, 14, 64)       256       \n",
            " chNormalization)                                                \n",
            "                                                                 \n",
            " activation_21 (Activation)  (None, 14, 14, 64)        0         \n",
            "                                                                 \n",
            " max_pooling2d_31 (MaxPoolin  (None, 7, 7, 64)         0         \n",
            " g2D)                                                            \n",
            "                                                                 \n",
            " conv2d_50 (Conv2D)          (None, 7, 7, 64)          4160      \n",
            "                                                                 \n",
            " batch_normalization_48 (Bat  (None, 7, 7, 64)         256       \n",
            " chNormalization)                                                \n",
            "                                                                 \n",
            " conv2d_51 (Conv2D)          (None, 7, 7, 192)         110784    \n",
            "                                                                 \n",
            " batch_normalization_49 (Bat  (None, 7, 7, 192)        768       \n",
            " chNormalization)                                                \n",
            "                                                                 \n",
            " max_pooling2d_32 (MaxPoolin  (None, 7, 7, 192)        0         \n",
            " g2D)                                                            \n",
            "                                                                 \n",
            " average_pooling2d_12 (Avera  (None, 7, 7, 192)        0         \n",
            " gePooling2D)                                                    \n",
            "                                                                 \n",
            " flatten_12 (Flatten)        (None, 9408)              0         \n",
            "                                                                 \n",
            " dropout_12 (Dropout)        (None, 9408)              0         \n",
            "                                                                 \n",
            " dense_12 (Dense)            (None, 10)                94090     \n",
            "                                                                 \n",
            "=================================================================\n",
            "Total params: 213,514\n",
            "Trainable params: 212,874\n",
            "Non-trainable params: 640\n",
            "_________________________________________________________________\n"
          ]
        }
      ]
    },
    {
      "cell_type": "code",
      "source": [
        "model.compile(loss='sparse_categorical_crossentropy', metrics='accuracy')\n",
        "history = model.fit(train_data, train_target, epochs=10, verbose=1)"
      ],
      "metadata": {
        "colab": {
          "base_uri": "https://localhost:8080/"
        },
        "id": "OpvhGpGBdjxA",
        "outputId": "d9c2cfe8-1ec6-430c-d5af-809e969e2f82"
      },
      "execution_count": 62,
      "outputs": [
        {
          "output_type": "stream",
          "name": "stdout",
          "text": [
            "Epoch 1/10\n",
            "1875/1875 [==============================] - 29s 10ms/step - loss: 0.3192 - accuracy: 0.9520\n",
            "Epoch 2/10\n",
            "1875/1875 [==============================] - 19s 10ms/step - loss: 0.1176 - accuracy: 0.9793\n",
            "Epoch 3/10\n",
            "1875/1875 [==============================] - 19s 10ms/step - loss: 0.0754 - accuracy: 0.9845\n",
            "Epoch 4/10\n",
            "1875/1875 [==============================] - 19s 10ms/step - loss: 0.0561 - accuracy: 0.9872\n",
            "Epoch 5/10\n",
            "1875/1875 [==============================] - 19s 10ms/step - loss: 0.0406 - accuracy: 0.9897\n",
            "Epoch 6/10\n",
            "1875/1875 [==============================] - 19s 10ms/step - loss: 0.0354 - accuracy: 0.9915\n",
            "Epoch 7/10\n",
            "1875/1875 [==============================] - 19s 10ms/step - loss: 0.0309 - accuracy: 0.9924\n",
            "Epoch 8/10\n",
            "1875/1875 [==============================] - 19s 10ms/step - loss: 0.0239 - accuracy: 0.9935\n",
            "Epoch 9/10\n",
            "1875/1875 [==============================] - 19s 10ms/step - loss: 0.0218 - accuracy: 0.9943\n",
            "Epoch 10/10\n",
            "1875/1875 [==============================] - 19s 10ms/step - loss: 0.0175 - accuracy: 0.9952\n"
          ]
        }
      ]
    },
    {
      "cell_type": "code",
      "source": [
        "model.evaluate(test_data, test_target)"
      ],
      "metadata": {
        "colab": {
          "base_uri": "https://localhost:8080/"
        },
        "id": "dyY-7UkCgoAS",
        "outputId": "8b404c15-c8cb-4354-ebce-9f5f6fe3a4ec"
      },
      "execution_count": 63,
      "outputs": [
        {
          "output_type": "stream",
          "name": "stdout",
          "text": [
            "313/313 [==============================] - 2s 5ms/step - loss: 0.0439 - accuracy: 0.9914\n"
          ]
        },
        {
          "output_type": "execute_result",
          "data": {
            "text/plain": [
              "[0.04387880861759186, 0.9914000034332275]"
            ]
          },
          "metadata": {},
          "execution_count": 63
        }
      ]
    }
  ]
} 
