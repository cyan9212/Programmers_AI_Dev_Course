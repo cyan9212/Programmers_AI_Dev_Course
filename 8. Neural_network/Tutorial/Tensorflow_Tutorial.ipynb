{
  "nbformat": 4,
  "nbformat_minor": 0,
  "metadata": {
    "colab": {
      "name": "Tensorflow_Tutorial.ipynb",
      "provenance": [],
      "collapsed_sections": []
    },
    "kernelspec": {
      "name": "python3",
      "display_name": "Python 3"
    },
    "language_info": {
      "name": "python"
    }
  },
  "cells": [
    {
      "cell_type": "code",
      "execution_count": 1,
      "metadata": {
        "id": "gBn4q_M47WWk"
      },
      "outputs": [],
      "source": [
        "import tensorflow as tf"
      ]
    },
    {
      "cell_type": "code",
      "source": [
        "tf.__version__"
      ],
      "metadata": {
        "colab": {
          "base_uri": "https://localhost:8080/",
          "height": 35
        },
        "id": "Q4ZeqmXK7cQc",
        "outputId": "89e429ad-8e12-42d4-ad55-ddbd63643b5c"
      },
      "execution_count": 2,
      "outputs": [
        {
          "output_type": "execute_result",
          "data": {
            "application/vnd.google.colaboratory.intrinsic+json": {
              "type": "string"
            },
            "text/plain": [
              "'2.7.0'"
            ]
          },
          "metadata": {},
          "execution_count": 2
        }
      ]
    },
    {
      "cell_type": "markdown",
      "source": [
        "### 변수 생성"
      ],
      "metadata": {
        "id": "wxUdzUEN7fdB"
      }
    },
    {
      "cell_type": "code",
      "source": [
        "# 모양이 [1, 2, 3] 이고 값은 0으로 채워진 3차원 tensor를 생성\n",
        "\n",
        "my_variable = tf.Variable(tf.zeros([1,2,3]))\n",
        "my_variable"
      ],
      "metadata": {
        "colab": {
          "base_uri": "https://localhost:8080/"
        },
        "id": "RbCaIgmt7hzC",
        "outputId": "97f8b404-e85f-4b34-edfe-f5324cb222a1"
      },
      "execution_count": 4,
      "outputs": [
        {
          "output_type": "execute_result",
          "data": {
            "text/plain": [
              "<tf.Variable 'Variable:0' shape=(1, 2, 3) dtype=float32, numpy=\n",
              "array([[[0., 0., 0.],\n",
              "        [0., 0., 0.]]], dtype=float32)>"
            ]
          },
          "metadata": {},
          "execution_count": 4
        }
      ]
    },
    {
      "cell_type": "markdown",
      "source": [
        "### 변수의 사용"
      ],
      "metadata": {
        "id": "hOyWqlMF7u-R"
      }
    },
    {
      "cell_type": "code",
      "source": [
        "# 텐서플로우 그래프에서 tf.Variable의 값을 사용하려면 이를 단순히 tf.Tensor로 취급하면 된다.\n",
        "v = tf.Variable(0.0)\n",
        "print(v)\n",
        "\n",
        "w = v + 1 # w는 v값 기준으로 계산되는 tf.Tensor이다.\n",
        "w"
      ],
      "metadata": {
        "colab": {
          "base_uri": "https://localhost:8080/"
        },
        "id": "6A8n3n6I7yoS",
        "outputId": "085622b0-57b8-486b-8ab7-bb99ed08fc62"
      },
      "execution_count": 7,
      "outputs": [
        {
          "output_type": "stream",
          "name": "stdout",
          "text": [
            "<tf.Variable 'Variable:0' shape=() dtype=float32, numpy=0.0>\n"
          ]
        },
        {
          "output_type": "execute_result",
          "data": {
            "text/plain": [
              "<tf.Tensor: shape=(), dtype=float32, numpy=1.0>"
            ]
          },
          "metadata": {},
          "execution_count": 7
        }
      ]
    },
    {
      "cell_type": "markdown",
      "source": [
        "변수가 수식에 사용될 때 변수는 자동적으로 tf.Tensor로 변환되어 값을 표현한다."
      ],
      "metadata": {
        "id": "FLc2ziM_8IZZ"
      }
    },
    {
      "cell_type": "code",
      "source": [
        "# 값을 변수에 할당하려면 assign, assign_add 메소드와 tf.Variable 클래스에 존재하는 메소드를 사용\n",
        "a = tf.Variable(0.0)\n",
        "a.assign_add(1)\n",
        "a.read_value()"
      ],
      "metadata": {
        "colab": {
          "base_uri": "https://localhost:8080/"
        },
        "id": "f8GKg0b78PxJ",
        "outputId": "120ba8da-c97c-448b-b2d2-e52976e04ea7"
      },
      "execution_count": 9,
      "outputs": [
        {
          "output_type": "execute_result",
          "data": {
            "text/plain": [
              "<tf.Tensor: shape=(), dtype=float32, numpy=1.0>"
            ]
          },
          "metadata": {},
          "execution_count": 9
        }
      ]
    },
    {
      "cell_type": "markdown",
      "source": [
        "### tf.Tensor 객체의 랭크는 그 차원의 수"
      ],
      "metadata": {
        "id": "t0rNoO978stJ"
      }
    },
    {
      "cell_type": "code",
      "source": [
        "# 랭크 0\n",
        "mammal = tf.Variable('코끼리', tf.string)\n",
        "ignition = tf.Variable(451, tf.int16)\n",
        "floating = tf.Variable(3.145, tf.float64)\n",
        "its_complicated = tf.Variable(12.3 - 4.58j, tf.complex64)\n",
        "\n",
        "mammal, ignition, floating, its_complicated"
      ],
      "metadata": {
        "colab": {
          "base_uri": "https://localhost:8080/"
        },
        "id": "C3Ihw_3e82vZ",
        "outputId": "e8c1d47f-1309-4772-bb26-caffe0bf0bac"
      },
      "execution_count": 14,
      "outputs": [
        {
          "output_type": "execute_result",
          "data": {
            "text/plain": [
              "(<tf.Variable 'Variable:0' shape=() dtype=string, numpy=b'\\xec\\xbd\\x94\\xeb\\x81\\xbc\\xeb\\xa6\\xac'>,\n",
              " <tf.Variable 'Variable:0' shape=() dtype=int32, numpy=451>,\n",
              " <tf.Variable 'Variable:0' shape=() dtype=float32, numpy=3.145>,\n",
              " <tf.Variable 'Variable:0' shape=() dtype=complex128, numpy=(12.3-4.58j)>)"
            ]
          },
          "metadata": {},
          "execution_count": 14
        }
      ]
    },
    {
      "cell_type": "code",
      "source": [
        "# 랭크 1\n",
        "mystr = tf.Variable(['안녕하세요'], tf.string)\n",
        "cool_numbers = tf.Variable([3,13, 451234], tf.float32)\n",
        "first_primes = tf.Variable([2, 3, 5, 7, 11], tf.int32)\n",
        "its_very_complicated = tf.Variable([12.3 - 4.85j, 7.5 - 6.23j], tf.complex64)\n",
        "\n",
        "mystr, cool_numbers, first_primes, its_very_complicated"
      ],
      "metadata": {
        "colab": {
          "base_uri": "https://localhost:8080/"
        },
        "id": "KIxJq2qt9VnZ",
        "outputId": "ca322a30-2552-4ef6-b7db-af25f4c7a0d0"
      },
      "execution_count": 15,
      "outputs": [
        {
          "output_type": "execute_result",
          "data": {
            "text/plain": [
              "(<tf.Variable 'Variable:0' shape=(1,) dtype=string, numpy=\n",
              " array([b'\\xec\\x95\\x88\\xeb\\x85\\x95\\xed\\x95\\x98\\xec\\x84\\xb8\\xec\\x9a\\x94'],\n",
              "       dtype=object)>,\n",
              " <tf.Variable 'Variable:0' shape=(3,) dtype=int32, numpy=array([     3,     13, 451234], dtype=int32)>,\n",
              " <tf.Variable 'Variable:0' shape=(5,) dtype=int32, numpy=array([ 2,  3,  5,  7, 11], dtype=int32)>,\n",
              " <tf.Variable 'Variable:0' shape=(2,) dtype=complex128, numpy=array([12.3-4.85j,  7.5-6.23j])>)"
            ]
          },
          "metadata": {},
          "execution_count": 15
        }
      ]
    },
    {
      "cell_type": "code",
      "source": [
        "from re import M\n",
        "# 고차원 랭크\n",
        "mymat = tf.Variable([[11], [7]], tf.int16)\n",
        "myxor = tf.Variable([[False, True], [True, True]], tf.bool)\n",
        "linear_squares = tf.Variable([[4], [9], [16], [25]], tf.int32)\n",
        "\n",
        "# tf.rank: 객체의 랭크 구하기\n",
        "rank_of_squares = tf.rank(linear_squares)\n",
        "mymatC = tf.Variable([[7], [11]], tf.int32)\n",
        "\n",
        "print(mymat)\n",
        "print(rank_of_squares)"
      ],
      "metadata": {
        "colab": {
          "base_uri": "https://localhost:8080/"
        },
        "id": "IZmVigdi-AWR",
        "outputId": "e2de4ad0-ac42-4f49-f13e-6a7bf41404ea"
      },
      "execution_count": 19,
      "outputs": [
        {
          "output_type": "stream",
          "name": "stdout",
          "text": [
            "<tf.Variable 'Variable:0' shape=(2, 1) dtype=int32, numpy=\n",
            "array([[11],\n",
            "       [ 7]], dtype=int32)>\n",
            "tf.Tensor(2, shape=(), dtype=int32)\n"
          ]
        }
      ]
    },
    {
      "cell_type": "code",
      "source": [
        "my_image = tf.zeros([10, 299, 299, 3]) # 배치 * 높이 * 너비 * 색상\n",
        "\n",
        "# H*W = 299 * 299"
      ],
      "metadata": {
        "id": "exr5v-z7-m85"
      },
      "execution_count": 20,
      "outputs": []
    },
    {
      "cell_type": "code",
      "source": [
        "r = tf.rank(my_image)\n",
        "print(r)"
      ],
      "metadata": {
        "colab": {
          "base_uri": "https://localhost:8080/"
        },
        "id": "2cuqwpdO_SZw",
        "outputId": "fd510d2a-bc1e-47f8-bec3-f3f9b599a7ec"
      },
      "execution_count": 22,
      "outputs": [
        {
          "output_type": "stream",
          "name": "stdout",
          "text": [
            "tf.Tensor(4, shape=(), dtype=int32)\n"
          ]
        }
      ]
    },
    {
      "cell_type": "markdown",
      "source": [
        "### tf.Tensor 원소 참조하기"
      ],
      "metadata": {
        "id": "9ifaZh2r_YiQ"
      }
    },
    {
      "cell_type": "code",
      "source": [
        "my_vector = tf.Variable([1, 2, 3, 4], tf.int32)\n",
        "print(tf.rank(my_vector))"
      ],
      "metadata": {
        "colab": {
          "base_uri": "https://localhost:8080/"
        },
        "id": "F7yOv_hU_g0C",
        "outputId": "5393291a-158a-4063-b5f7-0cd168d03905"
      },
      "execution_count": 23,
      "outputs": [
        {
          "output_type": "stream",
          "name": "stdout",
          "text": [
            "tf.Tensor(1, shape=(), dtype=int32)\n"
          ]
        }
      ]
    },
    {
      "cell_type": "code",
      "source": [
        "my_scalar = my_vector[2]\n",
        "print(my_scalar)"
      ],
      "metadata": {
        "colab": {
          "base_uri": "https://localhost:8080/"
        },
        "id": "A4qO1Hqq_o7I",
        "outputId": "a0632250-bbd4-474d-b1b0-e6ca744f0fd6"
      },
      "execution_count": 24,
      "outputs": [
        {
          "output_type": "stream",
          "name": "stdout",
          "text": [
            "tf.Tensor(3, shape=(), dtype=int32)\n"
          ]
        }
      ]
    },
    {
      "cell_type": "code",
      "source": [
        "squarish_squares = tf.Variable([[4, 9], [16, 25]], tf.int32)\n",
        "my_scalar = squarish_squares[1, 0]\n",
        "\n",
        "print(squarish_squares)\n",
        "print(my_scalar)"
      ],
      "metadata": {
        "colab": {
          "base_uri": "https://localhost:8080/"
        },
        "id": "673ZpvjM_vGI",
        "outputId": "1ef1513b-1c9e-4eeb-b863-4f2322682d5a"
      },
      "execution_count": 27,
      "outputs": [
        {
          "output_type": "stream",
          "name": "stdout",
          "text": [
            "<tf.Variable 'Variable:0' shape=(2, 2) dtype=int32, numpy=\n",
            "array([[ 4,  9],\n",
            "       [16, 25]], dtype=int32)>\n",
            "tf.Tensor(16, shape=(), dtype=int32)\n"
          ]
        }
      ]
    },
    {
      "cell_type": "code",
      "source": [
        "my_row_vector = squarish_squares[1]\n",
        "my_column_vector = squarish_squares[:, 1]\n",
        "print(squarish_squares)\n",
        "print(my_row_vector)\n",
        "print(my_column_vector)"
      ],
      "metadata": {
        "colab": {
          "base_uri": "https://localhost:8080/"
        },
        "id": "I5uiEm3bAU8P",
        "outputId": "9f5af4ff-a94f-4247-809d-edda46d79a78"
      },
      "execution_count": 28,
      "outputs": [
        {
          "output_type": "stream",
          "name": "stdout",
          "text": [
            "<tf.Variable 'Variable:0' shape=(2, 2) dtype=int32, numpy=\n",
            "array([[ 4,  9],\n",
            "       [16, 25]], dtype=int32)>\n",
            "tf.Tensor([16 25], shape=(2,), dtype=int32)\n",
            "tf.Tensor([ 9 25], shape=(2,), dtype=int32)\n"
          ]
        }
      ]
    },
    {
      "cell_type": "markdown",
      "source": [
        "### tf.Tensor 객체 형태 얻기"
      ],
      "metadata": {
        "id": "gcdc8lflAxja"
      }
    },
    {
      "cell_type": "code",
      "source": [
        "zeros = tf.zeros(squarish_squares.shape) # squarish_squares의 shape로 새로운 tensor 생성\n",
        "zeros"
      ],
      "metadata": {
        "colab": {
          "base_uri": "https://localhost:8080/"
        },
        "id": "Fliz71rnA1J3",
        "outputId": "752bd862-b26f-4ad0-f2cb-17a4cec3e644"
      },
      "execution_count": 31,
      "outputs": [
        {
          "output_type": "execute_result",
          "data": {
            "text/plain": [
              "<tf.Tensor: shape=(2, 2), dtype=float32, numpy=\n",
              "array([[0., 0.],\n",
              "       [0., 0.]], dtype=float32)>"
            ]
          },
          "metadata": {},
          "execution_count": 31
        }
      ]
    },
    {
      "cell_type": "markdown",
      "source": [
        "### tf.Tensor 형태 변경"
      ],
      "metadata": {
        "id": "ze7_HgUSAFmY"
      }
    },
    {
      "cell_type": "code",
      "source": [
        "#60\n",
        "rank_three_tensor = tf.ones([3, 4, 5])\n",
        "print(rank_three_tensor.shape)\n",
        "print(rank_three_tensor)\n",
        "\n",
        "matrix = tf.reshape(rank_three_tensor, [6, 10]) # 기존 tensor를 6*10 행렬로 형태를 변경\n",
        "print(matrix.shape)\n",
        "\n",
        "matrixB = tf.reshape(matrix, [3, -1]) # 기존 내용을 3*20 형태로 변경\n",
        "print(matrixB.shape)\n",
        "\n",
        "matrixAlt = tf.reshape(matrixB, [4, 3, -1])\n",
        "print(matrixAlt.shape)"
      ],
      "metadata": {
        "colab": {
          "base_uri": "https://localhost:8080/"
        },
        "id": "Uz5xef5tARxR",
        "outputId": "ffb253ef-c4f5-47f0-cba9-15ed60633c78"
      },
      "execution_count": 36,
      "outputs": [
        {
          "output_type": "stream",
          "name": "stdout",
          "text": [
            "(3, 4, 5)\n",
            "tf.Tensor(\n",
            "[[[1. 1. 1. 1. 1.]\n",
            "  [1. 1. 1. 1. 1.]\n",
            "  [1. 1. 1. 1. 1.]\n",
            "  [1. 1. 1. 1. 1.]]\n",
            "\n",
            " [[1. 1. 1. 1. 1.]\n",
            "  [1. 1. 1. 1. 1.]\n",
            "  [1. 1. 1. 1. 1.]\n",
            "  [1. 1. 1. 1. 1.]]\n",
            "\n",
            " [[1. 1. 1. 1. 1.]\n",
            "  [1. 1. 1. 1. 1.]\n",
            "  [1. 1. 1. 1. 1.]\n",
            "  [1. 1. 1. 1. 1.]]], shape=(3, 4, 5), dtype=float32)\n",
            "(6, 10)\n",
            "(3, 20)\n",
            "(4, 3, 5)\n"
          ]
        }
      ]
    },
    {
      "cell_type": "markdown",
      "source": [
        "### 자료형"
      ],
      "metadata": {
        "id": "Ud4yR-eiCXp3"
      }
    },
    {
      "cell_type": "code",
      "source": [
        "# 정수형 tensor를 실수형으로 변환\n",
        "a = tf.constant([1, 2, 3])\n",
        "print(a)\n",
        "\n",
        "float_tensor = tf.cast(tf.constant([1, 2, 3]), dtype=tf.float32)\n",
        "float_tensor"
      ],
      "metadata": {
        "colab": {
          "base_uri": "https://localhost:8080/"
        },
        "id": "JoVg2J_aCY6y",
        "outputId": "119b4cf6-0fd6-4374-d7a7-aa66cc89ae11"
      },
      "execution_count": 40,
      "outputs": [
        {
          "output_type": "stream",
          "name": "stdout",
          "text": [
            "tf.Tensor([1 2 3], shape=(3,), dtype=int32)\n"
          ]
        },
        {
          "output_type": "execute_result",
          "data": {
            "text/plain": [
              "<tf.Tensor: shape=(3,), dtype=float32, numpy=array([1., 2., 3.], dtype=float32)>"
            ]
          },
          "metadata": {},
          "execution_count": 40
        }
      ]
    }
  ]
} 
