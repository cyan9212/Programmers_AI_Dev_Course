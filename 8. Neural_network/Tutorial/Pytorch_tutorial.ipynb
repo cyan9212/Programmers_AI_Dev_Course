{
  "nbformat": 4,
  "nbformat_minor": 0,
  "metadata": {
    "colab": {
      "name": "Pytorch_tutorial.ipynb",
      "provenance": [],
      "collapsed_sections": []
    },
    "kernelspec": {
      "name": "python3",
      "display_name": "Python 3"
    },
    "language_info": {
      "name": "python"
    },
    "accelerator": "GPU"
  },
  "cells": [
    {
      "cell_type": "code",
      "execution_count": null,
      "metadata": {
        "id": "rNTXdwvhy4P2"
      },
      "outputs": [],
      "source": [
        "import matplotlib.pyplot as plt\n",
        "%matplotlib inline"
      ]
    },
    {
      "cell_type": "markdown",
      "source": [
        "tensor는 numpy의 ndarray와 유사하며, 추가로 GPU를 사용한 연산 가속도 가능"
      ],
      "metadata": {
        "id": "yRhL2wnhznav"
      }
    },
    {
      "cell_type": "code",
      "source": [
        "from __future__ import print_function\n",
        "import torch\n",
        "\n",
        "torch.__version__"
      ],
      "metadata": {
        "colab": {
          "base_uri": "https://localhost:8080/",
          "height": 35
        },
        "id": "ny1bR5-LzISs",
        "outputId": "07ef480c-2786-40b2-d11d-be19e8d68b07"
      },
      "execution_count": null,
      "outputs": [
        {
          "output_type": "execute_result",
          "data": {
            "application/vnd.google.colaboratory.intrinsic+json": {
              "type": "string"
            },
            "text/plain": [
              "'1.10.0+cu111'"
            ]
          },
          "metadata": {},
          "execution_count": 2
        }
      ]
    },
    {
      "cell_type": "markdown",
      "source": [
        "초기화되지 않은 5x3 행렬을 생성"
      ],
      "metadata": {
        "id": "6tu9dQO50CpM"
      }
    },
    {
      "cell_type": "code",
      "source": [
        "x = torch.empty(5, 3)\n",
        "print(x)"
      ],
      "metadata": {
        "colab": {
          "base_uri": "https://localhost:8080/"
        },
        "id": "OCTBkQg4z12V",
        "outputId": "3054bb42-9cfe-464b-f216-a4239a911433"
      },
      "execution_count": null,
      "outputs": [
        {
          "output_type": "stream",
          "name": "stdout",
          "text": [
            "tensor([[-1.2241e-20,  3.0751e-41,  3.3631e-44],\n",
            "        [ 0.0000e+00,         nan,  6.4460e-44],\n",
            "        [ 1.1578e+27,  1.1362e+30,  7.1547e+22],\n",
            "        [ 4.5828e+30,  1.2121e+04,  7.1846e+22],\n",
            "        [ 9.2198e-39,  7.0374e+22,  0.0000e+00]])\n"
          ]
        }
      ]
    },
    {
      "cell_type": "markdown",
      "source": [
        "무작위로 초기화된 행렬을 생성"
      ],
      "metadata": {
        "id": "PUn-oN7U0GlF"
      }
    },
    {
      "cell_type": "code",
      "source": [
        "x = torch.randn(5, 3) # 정규분포를 따르는 값\n",
        "print(x)\n",
        "\n",
        "x = torch.rand(5, 3) # 0~1사이의 값\n",
        "print(x)"
      ],
      "metadata": {
        "colab": {
          "base_uri": "https://localhost:8080/"
        },
        "id": "LnisVBu0z_h8",
        "outputId": "0aa6fb42-048d-4cf6-c6e1-d63b08165dd0"
      },
      "execution_count": null,
      "outputs": [
        {
          "output_type": "stream",
          "name": "stdout",
          "text": [
            "tensor([[ 0.6562,  0.2831,  0.7069],\n",
            "        [-0.5802, -1.5207, -1.3746],\n",
            "        [-0.6691,  0.3186, -1.0087],\n",
            "        [-0.7056,  0.9598, -2.4161],\n",
            "        [ 0.4935, -1.0390, -1.0935]])\n",
            "tensor([[0.4034, 0.2549, 0.6420],\n",
            "        [0.0762, 0.9919, 0.9983],\n",
            "        [0.0918, 0.8062, 0.0616],\n",
            "        [0.1494, 0.5607, 0.2728],\n",
            "        [0.7415, 0.8606, 0.9963]])\n"
          ]
        }
      ]
    },
    {
      "cell_type": "markdown",
      "source": [
        "dtype가 long이고 0으로 채워진 행렬을 생성"
      ],
      "metadata": {
        "id": "aKIGjBYk0dUf"
      }
    },
    {
      "cell_type": "code",
      "source": [
        "x = torch.zeros(5, 3, dtype=torch.long)\n",
        "x"
      ],
      "metadata": {
        "colab": {
          "base_uri": "https://localhost:8080/"
        },
        "id": "Q36fGztt0RJl",
        "outputId": "26425a6b-5c26-4421-b570-c3420686555c"
      },
      "execution_count": null,
      "outputs": [
        {
          "output_type": "execute_result",
          "data": {
            "text/plain": [
              "tensor([[0, 0, 0],\n",
              "        [0, 0, 0],\n",
              "        [0, 0, 0],\n",
              "        [0, 0, 0],\n",
              "        [0, 0, 0]])"
            ]
          },
          "metadata": {},
          "execution_count": 5
        }
      ]
    },
    {
      "cell_type": "code",
      "source": [
        "x = torch.ones(5, 3, dtype=torch.long)\n",
        "x"
      ],
      "metadata": {
        "colab": {
          "base_uri": "https://localhost:8080/"
        },
        "id": "lVrFlb6r0llk",
        "outputId": "db516b3a-1713-4889-e670-e5c750d422ce"
      },
      "execution_count": null,
      "outputs": [
        {
          "output_type": "execute_result",
          "data": {
            "text/plain": [
              "tensor([[1, 1, 1],\n",
              "        [1, 1, 1],\n",
              "        [1, 1, 1],\n",
              "        [1, 1, 1],\n",
              "        [1, 1, 1]])"
            ]
          },
          "metadata": {},
          "execution_count": 8
        }
      ]
    },
    {
      "cell_type": "markdown",
      "source": [
        "데이터로부터 tensor를 직접 생성"
      ],
      "metadata": {
        "id": "691NoQxy0wjv"
      }
    },
    {
      "cell_type": "code",
      "source": [
        "x = torch.tensor([5.5, 3])\n",
        "x"
      ],
      "metadata": {
        "colab": {
          "base_uri": "https://localhost:8080/"
        },
        "id": "89aSUI-b0qeU",
        "outputId": "83d1741f-90b7-4496-853a-e39ad0e124dd"
      },
      "execution_count": null,
      "outputs": [
        {
          "output_type": "execute_result",
          "data": {
            "text/plain": [
              "tensor([5.5000, 3.0000])"
            ]
          },
          "metadata": {},
          "execution_count": 10
        }
      ]
    },
    {
      "cell_type": "code",
      "source": [
        "x = x.new_ones(5, 3, dtype=torch.double)\n",
        "print(x)"
      ],
      "metadata": {
        "colab": {
          "base_uri": "https://localhost:8080/"
        },
        "id": "gq9ewyul03jL",
        "outputId": "9c2c8671-4641-45f8-dee9-2c72bef6a9a0"
      },
      "execution_count": null,
      "outputs": [
        {
          "output_type": "stream",
          "name": "stdout",
          "text": [
            "tensor([[1., 1., 1.],\n",
            "        [1., 1., 1.],\n",
            "        [1., 1., 1.],\n",
            "        [1., 1., 1.],\n",
            "        [1., 1., 1.]], dtype=torch.float64)\n"
          ]
        }
      ]
    },
    {
      "cell_type": "code",
      "source": [
        "x = torch.randn_like(x, dtype=torch.float)\n",
        "x"
      ],
      "metadata": {
        "colab": {
          "base_uri": "https://localhost:8080/"
        },
        "id": "FkMiq1pF1G0T",
        "outputId": "3b938098-7197-4dfc-8b5c-5cd68825c88d"
      },
      "execution_count": null,
      "outputs": [
        {
          "output_type": "execute_result",
          "data": {
            "text/plain": [
              "tensor([[ 0.2827, -1.1278, -1.0413],\n",
              "        [-0.6309,  0.6726, -1.7871],\n",
              "        [-1.3497,  0.2741, -0.1825],\n",
              "        [-2.0894,  2.1170, -1.0108],\n",
              "        [ 1.6670, -0.4657, -0.6231]])"
            ]
          },
          "metadata": {},
          "execution_count": 13
        }
      ]
    },
    {
      "cell_type": "code",
      "source": [
        "# 행렬의 크기를 출력\n",
        "x.size(), x.shape"
      ],
      "metadata": {
        "colab": {
          "base_uri": "https://localhost:8080/"
        },
        "id": "CdVs6XwF1Z_c",
        "outputId": "277c2064-99d0-4639-f6a7-42727554724e"
      },
      "execution_count": null,
      "outputs": [
        {
          "output_type": "execute_result",
          "data": {
            "text/plain": [
              "(torch.Size([5, 3]), torch.Size([5, 3]))"
            ]
          },
          "metadata": {},
          "execution_count": 14
        }
      ]
    },
    {
      "cell_type": "code",
      "source": [
        "# 행렬의 합 구하기\n",
        "y = torch.rand(5, 3)\n",
        "x, y, x + y"
      ],
      "metadata": {
        "colab": {
          "base_uri": "https://localhost:8080/"
        },
        "id": "nb3y5vNm1gh8",
        "outputId": "def6ed48-b66c-4b12-8b48-79f6e9914564"
      },
      "execution_count": null,
      "outputs": [
        {
          "output_type": "execute_result",
          "data": {
            "text/plain": [
              "(tensor([[ 0.2827, -1.1278, -1.0413],\n",
              "         [-0.6309,  0.6726, -1.7871],\n",
              "         [-1.3497,  0.2741, -0.1825],\n",
              "         [-2.0894,  2.1170, -1.0108],\n",
              "         [ 1.6670, -0.4657, -0.6231]]), tensor([[0.7480, 0.1530, 0.6381],\n",
              "         [0.6785, 0.0325, 0.8692],\n",
              "         [0.2949, 0.9499, 0.6935],\n",
              "         [0.0390, 0.8910, 0.3269],\n",
              "         [0.6236, 0.2055, 0.6192]]), tensor([[ 1.0307, -0.9749, -0.4032],\n",
              "         [ 0.0475,  0.7051, -0.9179],\n",
              "         [-1.0548,  1.2240,  0.5110],\n",
              "         [-2.0504,  3.0080, -0.6839],\n",
              "         [ 2.2906, -0.2601, -0.0038]]))"
            ]
          },
          "metadata": {},
          "execution_count": 15
        }
      ]
    },
    {
      "cell_type": "code",
      "source": [
        "# add함수를 이용해 행렬의 합 구하기\n",
        "torch.add(x, y)"
      ],
      "metadata": {
        "colab": {
          "base_uri": "https://localhost:8080/"
        },
        "id": "qJ1PEqzG1per",
        "outputId": "02adb0ee-f3f2-4c96-cde8-be17fd5c6ff1"
      },
      "execution_count": null,
      "outputs": [
        {
          "output_type": "execute_result",
          "data": {
            "text/plain": [
              "tensor([[ 1.0307, -0.9749, -0.4032],\n",
              "        [ 0.0475,  0.7051, -0.9179],\n",
              "        [-1.0548,  1.2240,  0.5110],\n",
              "        [-2.0504,  3.0080, -0.6839],\n",
              "        [ 2.2906, -0.2601, -0.0038]])"
            ]
          },
          "metadata": {},
          "execution_count": 17
        }
      ]
    },
    {
      "cell_type": "code",
      "source": [
        "result = torch.empty(5, 3)\n",
        "print(result)\n",
        "\n",
        "torch.add(x, y, out=result)\n",
        "print(result)"
      ],
      "metadata": {
        "colab": {
          "base_uri": "https://localhost:8080/"
        },
        "id": "28pxLsQv1uJ8",
        "outputId": "0e771ac2-4f0d-4375-c407-b9876838267c"
      },
      "execution_count": null,
      "outputs": [
        {
          "output_type": "stream",
          "name": "stdout",
          "text": [
            "tensor([[-2.0642e-20,  3.0751e-41,  4.4842e-44],\n",
            "        [ 0.0000e+00,         nan,  0.0000e+00],\n",
            "        [ 1.0948e+21,  9.2868e-04,  1.3556e-19],\n",
            "        [ 9.8864e-33,  1.0008e+01,  1.4790e+20],\n",
            "        [ 9.3175e-39,  0.0000e+00,  0.0000e+00]])\n",
            "tensor([[ 1.0307, -0.9749, -0.4032],\n",
            "        [ 0.0475,  0.7051, -0.9179],\n",
            "        [-1.0548,  1.2240,  0.5110],\n",
            "        [-2.0504,  3.0080, -0.6839],\n",
            "        [ 2.2906, -0.2601, -0.0038]])\n"
          ]
        }
      ]
    },
    {
      "cell_type": "markdown",
      "source": [
        "덧셈 in-place 방식"
      ],
      "metadata": {
        "id": "M23i51R22Jqo"
      }
    },
    {
      "cell_type": "code",
      "source": [
        "# adds x to y\n",
        "print(y)\n",
        "y.add_(x)\n",
        "y"
      ],
      "metadata": {
        "colab": {
          "base_uri": "https://localhost:8080/"
        },
        "id": "WneHzo0n2Dks",
        "outputId": "4ffced59-9242-452b-9cb8-d44294336b2e"
      },
      "execution_count": null,
      "outputs": [
        {
          "output_type": "stream",
          "name": "stdout",
          "text": [
            "tensor([[0.7480, 0.1530, 0.6381],\n",
            "        [0.6785, 0.0325, 0.8692],\n",
            "        [0.2949, 0.9499, 0.6935],\n",
            "        [0.0390, 0.8910, 0.3269],\n",
            "        [0.6236, 0.2055, 0.6192]])\n"
          ]
        },
        {
          "output_type": "execute_result",
          "data": {
            "text/plain": [
              "tensor([[ 1.0307, -0.9749, -0.4032],\n",
              "        [ 0.0475,  0.7051, -0.9179],\n",
              "        [-1.0548,  1.2240,  0.5110],\n",
              "        [-2.0504,  3.0080, -0.6839],\n",
              "        [ 2.2906, -0.2601, -0.0038]])"
            ]
          },
          "metadata": {},
          "execution_count": 20
        }
      ]
    },
    {
      "cell_type": "markdown",
      "source": [
        "In-place방식으로 tensor의 값을 변경하는 경우 연산은 _를 접미사로 갖는다.  \n",
        "ex) x.copy_(y), x.t_()는 x를 변경한다.  \n",
        "Numpy스러운 인덱싱 표기 방법을 사용할 수도 있다."
      ],
      "metadata": {
        "id": "OSDvnW-52hrm"
      }
    },
    {
      "cell_type": "code",
      "source": [
        "print(x)\n",
        "print(x[:, 1])"
      ],
      "metadata": {
        "colab": {
          "base_uri": "https://localhost:8080/"
        },
        "id": "2b8VzyiL2PAs",
        "outputId": "2638f8fc-8eb0-4948-dbf8-9034f448d6ef"
      },
      "execution_count": null,
      "outputs": [
        {
          "output_type": "stream",
          "name": "stdout",
          "text": [
            "tensor([[ 0.2827, -1.1278, -1.0413],\n",
            "        [-0.6309,  0.6726, -1.7871],\n",
            "        [-1.3497,  0.2741, -0.1825],\n",
            "        [-2.0894,  2.1170, -1.0108],\n",
            "        [ 1.6670, -0.4657, -0.6231]])\n",
            "tensor([-1.1278,  0.6726,  0.2741,  2.1170, -0.4657])\n"
          ]
        }
      ]
    },
    {
      "cell_type": "markdown",
      "source": [
        "크기 변경: tensor의 크기나 모양을 변경하고 싶다면 torch.view를 사용"
      ],
      "metadata": {
        "id": "PsORWxyT3AF-"
      }
    },
    {
      "cell_type": "code",
      "source": [
        "x = torch.randn(4, 4)\n",
        "print(x,'\\n')\n",
        "\n",
        "y = x.view(16) # 16개의 차원을 가진 벡터의 형태로 reshape\n",
        "z = x.view(-1, 2) # \n",
        "print(y, '\\n\\n', z, '\\n')\n",
        "y.size(), z.size()"
      ],
      "metadata": {
        "colab": {
          "base_uri": "https://localhost:8080/"
        },
        "id": "Ze8nmABA23yb",
        "outputId": "35ea6122-159b-43ac-e205-5337ed527a7d"
      },
      "execution_count": null,
      "outputs": [
        {
          "output_type": "stream",
          "name": "stdout",
          "text": [
            "tensor([[ 0.6953,  0.3565,  1.5707,  1.3330],\n",
            "        [ 0.0472,  0.3566,  0.2431, -0.1621],\n",
            "        [ 0.5452,  0.4852, -0.7454,  1.6493],\n",
            "        [ 0.6262,  0.9306,  0.5443, -0.0787]]) \n",
            "\n",
            "tensor([ 0.6953,  0.3565,  1.5707,  1.3330,  0.0472,  0.3566,  0.2431, -0.1621,\n",
            "         0.5452,  0.4852, -0.7454,  1.6493,  0.6262,  0.9306,  0.5443, -0.0787]) \n",
            "\n",
            " tensor([[ 0.6953,  0.3565],\n",
            "        [ 1.5707,  1.3330],\n",
            "        [ 0.0472,  0.3566],\n",
            "        [ 0.2431, -0.1621],\n",
            "        [ 0.5452,  0.4852],\n",
            "        [-0.7454,  1.6493],\n",
            "        [ 0.6262,  0.9306],\n",
            "        [ 0.5443, -0.0787]]) \n",
            "\n"
          ]
        },
        {
          "output_type": "execute_result",
          "data": {
            "text/plain": [
              "(torch.Size([16]), torch.Size([8, 2]))"
            ]
          },
          "metadata": {},
          "execution_count": 30
        }
      ]
    },
    {
      "cell_type": "code",
      "source": [
        "# 만약 tensor에 하나의 값만 존재한다면, .item()을 사용하여 숫자값을 얻을 수 있다.\n",
        "\n",
        "x = torch.randn(1)\n",
        "print(x)\n",
        "print(type(x), type(x.item()))\n",
        "x.item()"
      ],
      "metadata": {
        "colab": {
          "base_uri": "https://localhost:8080/"
        },
        "id": "CNj31v6q3LIr",
        "outputId": "b1ce5538-3586-4406-8f59-b6b2ff58861b"
      },
      "execution_count": null,
      "outputs": [
        {
          "output_type": "stream",
          "name": "stdout",
          "text": [
            "tensor([-0.3052])\n",
            "<class 'torch.Tensor'> <class 'float'>\n"
          ]
        },
        {
          "output_type": "execute_result",
          "data": {
            "text/plain": [
              "-0.30522996187210083"
            ]
          },
          "metadata": {},
          "execution_count": 32
        }
      ]
    },
    {
      "cell_type": "markdown",
      "source": [
        "## Numpy 변환(Bridge)  \n",
        "Torch Tensor를 Numpy 배열로 변환하거나 그 반대로 하는것은 간단하다.  \n",
        "(CPU)상의 Torch Tensor와 Numpy배열은 저장 공간을 공유하기 때문에, 하나를 변경한다면 나머지 하나도 변경된다.\n",
        "- Torch tensor를 Numpy배열로 변경하기"
      ],
      "metadata": {
        "id": "sOHLWOb14EG9"
      }
    },
    {
      "cell_type": "code",
      "source": [
        "a = torch.ones(5)\n",
        "a"
      ],
      "metadata": {
        "colab": {
          "base_uri": "https://localhost:8080/"
        },
        "id": "pFtPwP9m34UD",
        "outputId": "855fe9ac-0b35-46eb-8eba-0a76269700b5"
      },
      "execution_count": null,
      "outputs": [
        {
          "output_type": "execute_result",
          "data": {
            "text/plain": [
              "tensor([1., 1., 1., 1., 1.])"
            ]
          },
          "metadata": {},
          "execution_count": 33
        }
      ]
    },
    {
      "cell_type": "code",
      "source": [
        "b = a.numpy()\n",
        "b"
      ],
      "metadata": {
        "colab": {
          "base_uri": "https://localhost:8080/"
        },
        "id": "1u4gA7oM4fbM",
        "outputId": "a37560a1-ccf6-43ea-b37c-320c67b1d3b4"
      },
      "execution_count": null,
      "outputs": [
        {
          "output_type": "execute_result",
          "data": {
            "text/plain": [
              "array([1., 1., 1., 1., 1.], dtype=float32)"
            ]
          },
          "metadata": {},
          "execution_count": 34
        }
      ]
    },
    {
      "cell_type": "code",
      "source": [
        "a.add_(1)\n",
        "print(a)\n",
        "print(b)"
      ],
      "metadata": {
        "colab": {
          "base_uri": "https://localhost:8080/"
        },
        "id": "AotgkjXw4iiS",
        "outputId": "1276d665-162a-43a3-c17f-e2981d585199"
      },
      "execution_count": null,
      "outputs": [
        {
          "output_type": "stream",
          "name": "stdout",
          "text": [
            "tensor([2., 2., 2., 2., 2.])\n",
            "[2. 2. 2. 2. 2.]\n"
          ]
        }
      ]
    },
    {
      "cell_type": "code",
      "source": [
        "temp = a.clone()\n",
        "temp_numpy = temp.numpy()\n",
        "\n",
        "a.add_(1)\n",
        "print(a)\n",
        "print(temp_numpy)"
      ],
      "metadata": {
        "colab": {
          "base_uri": "https://localhost:8080/"
        },
        "id": "GaWeT5aI4muy",
        "outputId": "97a31d34-6e72-492b-b8ff-013143d840eb"
      },
      "execution_count": null,
      "outputs": [
        {
          "output_type": "stream",
          "name": "stdout",
          "text": [
            "tensor([3., 3., 3., 3., 3.])\n",
            "[2. 2. 2. 2. 2.]\n"
          ]
        }
      ]
    },
    {
      "cell_type": "code",
      "source": [
        "import numpy as np\n",
        "\n",
        "a = np.ones(5)\n",
        "print(a)\n",
        "b = torch.from_numpy(a)\n",
        "np.add(a, 1, out=a)\n",
        "print(a)\n",
        "print(b)"
      ],
      "metadata": {
        "colab": {
          "base_uri": "https://localhost:8080/"
        },
        "id": "ock8vVX-4x0K",
        "outputId": "4c93bdb2-6437-48c4-9d36-00df282952ef"
      },
      "execution_count": null,
      "outputs": [
        {
          "output_type": "stream",
          "name": "stdout",
          "text": [
            "[1. 1. 1. 1. 1.]\n",
            "[2. 2. 2. 2. 2.]\n",
            "tensor([2., 2., 2., 2., 2.], dtype=torch.float64)\n"
          ]
        }
      ]
    },
    {
      "cell_type": "markdown",
      "source": [
        "CharTensor를 제외한 CPU상의 모든 Tensor는 Numpy로의 변환을 지원하며 반대의 변환 또한 가능하다."
      ],
      "metadata": {
        "id": "_8K3-nU65Bvy"
      }
    },
    {
      "cell_type": "markdown",
      "source": [
        "## CUDA Tensors\n",
        "- .to 메소드를 사용하여 Tensor를 어떤 장치로 옮길 수 있다."
      ],
      "metadata": {
        "id": "xzxeaMU_6CTi"
      }
    },
    {
      "cell_type": "code",
      "source": [
        "x = torch.rand(4, 4)\n",
        "if torch.cuda.is_available():\n",
        "  device = \"cuda:0\" # torch.device('cuda:0)\n",
        "  y = torch.ones_like(x, device=device) # GPU상에 직접적으로 tensor를 생성\n",
        "  print(y)\n",
        "\n",
        "  x = x.to(device) # to()를 사용하여 x를 GPU로 옮김\n",
        "  z = x + y\n",
        "  print(z)\n",
        "  print(z.to('cpu', torch.double)) # CPU로 옮기는 것도 가능"
      ],
      "metadata": {
        "colab": {
          "base_uri": "https://localhost:8080/"
        },
        "id": "h6jfmUZh6F8y",
        "outputId": "ac701d02-2b55-40af-bbe5-381f19d6b8b9"
      },
      "execution_count": null,
      "outputs": [
        {
          "output_type": "stream",
          "name": "stdout",
          "text": [
            "tensor([[1., 1., 1., 1.],\n",
            "        [1., 1., 1., 1.],\n",
            "        [1., 1., 1., 1.],\n",
            "        [1., 1., 1., 1.]], device='cuda:0')\n",
            "tensor([[1.5593, 1.2231, 1.6611, 1.0783],\n",
            "        [1.7037, 1.5403, 1.6234, 1.5067],\n",
            "        [1.5541, 1.9857, 1.5250, 1.7540],\n",
            "        [1.7349, 1.3010, 1.9187, 1.4776]], device='cuda:0')\n",
            "tensor([[1.5593, 1.2231, 1.6611, 1.0783],\n",
            "        [1.7037, 1.5403, 1.6234, 1.5067],\n",
            "        [1.5541, 1.9857, 1.5250, 1.7540],\n",
            "        [1.7349, 1.3010, 1.9187, 1.4776]], dtype=torch.float64)\n"
          ]
        }
      ]
    },
    {
      "cell_type": "code",
      "source": [
        "x = x.cuda()"
      ],
      "metadata": {
        "id": "n4FioB556QH6"
      },
      "execution_count": null,
      "outputs": []
    }
  ]
} 
