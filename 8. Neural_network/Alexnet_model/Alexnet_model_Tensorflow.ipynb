{
  "nbformat": 4,
  "nbformat_minor": 0,
  "metadata": {
    "colab": {
      "name": "Alexnet_model_Tensorflow.ipynb",
      "provenance": []
    },
    "kernelspec": {
      "name": "python3",
      "display_name": "Python 3"
    },
    "language_info": {
      "name": "python"
    }
  },
  "cells": [
    {
      "cell_type": "code",
      "execution_count": 1,
      "metadata": {
        "id": "w2keSvicJUDE"
      },
      "outputs": [],
      "source": [
        "import tensorflow as tf"
      ]
    },
    {
      "cell_type": "code",
      "source": [
        "def AlexNet(input_shape=None, weights=None, classes=1000, classifier_activation='softmax'):\n",
        "  model = tf.keras.Sequential([\n",
        "      # 특징 추출 부분\n",
        "      # Conv1\n",
        "      tf.keras.layers.Conv2d(filters=96, \n",
        "                             kernel_size=(11,11), \n",
        "                             stride=4, padding='valid', # padding='valid' -> zero padding을 수행하지 않음 \n",
        "                             activation_function=tf.keras.activations.relu,\n",
        "                             input_shape=input_shape), \n",
        "      # Max Pool1\n",
        "      tf.keras.layers.MaxPool2d(pool_size=(3,3), strides=2, padding='valid'),\n",
        "      # 배치 정규화 수행\n",
        "      tf.keras.layers.BatchNormalization(),\n",
        "\n",
        "      # Conv2\n",
        "      tf.keras.layers.Conv2d(filters=256,\n",
        "                             kernel_size=(5,5),\n",
        "                             strides=1,\n",
        "                             padding='same', # zero padding을 수행하며 input의 크기와 output의 크기를 동일하게 맞춰준다.\n",
        "                             activation = tf.keras.activations.relu),\n",
        "      # Max Pool2\n",
        "      tf.keras.layers.MaxPool2d(pool_size=(3,3), strides=2, padding='same'),\n",
        "      tf.keras.layers.BatchNormalization(),\n",
        "\n",
        "      # Conv3\n",
        "      tf.keras.layers.Conv2d(filters=384,\n",
        "                             kernel_size=(3,3), \n",
        "                             strides=1, \n",
        "                             padding='same',\n",
        "                             activation = tf.keras.activations.relu),\n",
        "      \n",
        "      # Conv4\n",
        "      tf.keras.layers.Conv2d(filters=384,\n",
        "                             kernel_size=(3,3), \n",
        "                             strides=1,\n",
        "                             padding='same',\n",
        "                             activation = tf.kears.activations.relu),\n",
        "      \n",
        "      # Conv5\n",
        "      tf.keras.layers.Conv2d(filters=256,\n",
        "                             kernel_size=(3,3), \n",
        "                             strides=1,\n",
        "                             padding='same',\n",
        "                             activation = tf.keras.activations.relu),\n",
        "      # Max Pool3\n",
        "      tf.keras.layers.MaxPool2d(pool_size=(3,3), strides=1, padding='same'),\n",
        "\n",
        "      tf.keras.layers.BatchNormalization(),\n",
        "\n",
        "      tf.keras.laysers.Flatten(),\n",
        "\n",
        "      # 분류 층 구분\n",
        "      tf.keras.layers.Dense(units=4096, activations=tf.keras.activations.relu),\n",
        "      tf.keras.layers.Dropout(rate=0.2),\n",
        "\n",
        "      tf.keras.layers.Dense(units=4096, activations=tf.keras.activations.relu),\n",
        "      tf.keras.layers.Dropout(rate=0.2),\n",
        "\n",
        "      tf.keras.layers.Dense(units=classes, activations=tf.keras.activations.softmax)\n",
        "  ])\n",
        "  return model"
      ],
      "metadata": {
        "id": "rg-rQBlpJah1"
      },
      "execution_count": 2,
      "outputs": []
    }
  ]
} 
