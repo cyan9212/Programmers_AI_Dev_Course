{
  "nbformat": 4,
  "nbformat_minor": 0,
  "metadata": {
    "colab": {
      "name": "LU분해.ipynb",
      "provenance": []
    },
    "kernelspec": {
      "name": "python3",
      "display_name": "Python 3"
    },
    "language_info": {
      "name": "python"
    }
  },
  "cells": [
    {
      "cell_type": "markdown",
      "source": [
        "#LU분해 (가우스 소거법), 행렬의 Rank"
      ],
      "metadata": {
        "id": "2Rn8lK_vZrIz"
      }
    },
    {
      "cell_type": "code",
      "execution_count": 1,
      "metadata": {
        "id": "LXpcteWHYHKl"
      },
      "outputs": [],
      "source": [
        "import numpy as np\n",
        "import scipy\n",
        "import scipy.linalg"
      ]
    },
    {
      "cell_type": "code",
      "source": [
        "# 행렬 A, 벡터 b 코딩\n",
        "A = np.array([[3, 1, 1], [1, -2, -1], [1, 1, 1]])\n",
        "b = np.array([4, 1, 2])\n",
        "\n",
        "print(\"A:\", A)\n",
        "print(np.shape(A))\n",
        "\n",
        "print(\"b:\", b)\n",
        "print(np.shape(b))"
      ],
      "metadata": {
        "colab": {
          "base_uri": "https://localhost:8080/"
        },
        "id": "2Tj-WrQuYM9K",
        "outputId": "040b0ac8-c835-4c9d-e536-d936b9b93280"
      },
      "execution_count": 2,
      "outputs": [
        {
          "output_type": "stream",
          "name": "stdout",
          "text": [
            "A: [[ 3  1  1]\n",
            " [ 1 -2 -1]\n",
            " [ 1  1  1]]\n",
            "(3, 3)\n",
            "b: [4 1 2]\n",
            "(3,)\n"
          ]
        }
      ]
    },
    {
      "cell_type": "code",
      "source": [
        "# LU 분해의 결과를 각각 행렬로서 확인하기\n",
        "P, L, U = scipy.linalg.lu(A)\n",
        "\n",
        "print('P:', P)\n",
        "print('L:', L)\n",
        "print('U:', U)\n",
        "\n",
        "AA = P@L@U\n",
        "print('AA:',AA)"
      ],
      "metadata": {
        "colab": {
          "base_uri": "https://localhost:8080/"
        },
        "id": "CR7BC-8xYUHf",
        "outputId": "5e1ca064-0521-4e0e-d314-dd3d38cb0cea"
      },
      "execution_count": 3,
      "outputs": [
        {
          "output_type": "stream",
          "name": "stdout",
          "text": [
            "P: [[1. 0. 0.]\n",
            " [0. 1. 0.]\n",
            " [0. 0. 1.]]\n",
            "L: [[ 1.          0.          0.        ]\n",
            " [ 0.33333333  1.          0.        ]\n",
            " [ 0.33333333 -0.28571429  1.        ]]\n",
            "U: [[ 3.          1.          1.        ]\n",
            " [ 0.         -2.33333333 -1.33333333]\n",
            " [ 0.          0.          0.28571429]]\n",
            "AA: [[ 3.  1.  1.]\n",
            " [ 1. -2. -1.]\n",
            " [ 1.  1.  1.]]\n"
          ]
        }
      ]
    },
    {
      "cell_type": "code",
      "source": [
        "# LU분해\n",
        "lu, piv = scipy.linalg.lu_factor(A)\n",
        "x = scipy.linalg.lu_solve((lu, piv), b)\n",
        "\n",
        "print('x:',x)\n",
        "print(np.shape(x))\n",
        "\n",
        "bb = A@x\n",
        "print('bb:',bb)"
      ],
      "metadata": {
        "colab": {
          "base_uri": "https://localhost:8080/"
        },
        "id": "JTG0egRCYonY",
        "outputId": "8085aca1-749d-45af-8d4f-bd0dd5db40c5"
      },
      "execution_count": 4,
      "outputs": [
        {
          "output_type": "stream",
          "name": "stdout",
          "text": [
            "x: [ 1. -1.  2.]\n",
            "(3,)\n",
            "bb: [4. 1. 2.]\n"
          ]
        }
      ]
    },
    {
      "cell_type": "markdown",
      "source": [
        "#행렬의 Rank 계산하기"
      ],
      "metadata": {
        "id": "uLPHcwAwZ0zc"
      }
    },
    {
      "cell_type": "code",
      "source": [
        "A = np.array([[1, 3], [-2, 1]])\n",
        "print(\"A:\", A)"
      ],
      "metadata": {
        "colab": {
          "base_uri": "https://localhost:8080/"
        },
        "id": "BoMAAn0AZjmK",
        "outputId": "d087c24c-f859-4e7b-dfe3-6082e987e595"
      },
      "execution_count": 5,
      "outputs": [
        {
          "output_type": "stream",
          "name": "stdout",
          "text": [
            "A: [[ 1  3]\n",
            " [-2  1]]\n"
          ]
        }
      ]
    },
    {
      "cell_type": "code",
      "source": [
        "print('rank:', np.linalg.matrix_rank(A))\n",
        "A_inv = np.linalg.inv(A)\n",
        "\n",
        "print(A_inv)"
      ],
      "metadata": {
        "colab": {
          "base_uri": "https://localhost:8080/"
        },
        "id": "wjhHnARMaBUj",
        "outputId": "443c6a03-8165-4706-bd7a-76ecfb9b0584"
      },
      "execution_count": 6,
      "outputs": [
        {
          "output_type": "stream",
          "name": "stdout",
          "text": [
            "rank: 2\n",
            "[[ 0.14285714 -0.42857143]\n",
            " [ 0.28571429  0.14285714]]\n"
          ]
        }
      ]
    },
    {
      "cell_type": "code",
      "source": [
        "A = np.array([[1, 3], [2, 6]])\n",
        "\n",
        "print(\"A:\", A)"
      ],
      "metadata": {
        "colab": {
          "base_uri": "https://localhost:8080/"
        },
        "id": "ftt1AAf-aVLF",
        "outputId": "f8d505e6-2ac9-4b14-f6c3-8ad02f6b5446"
      },
      "execution_count": 7,
      "outputs": [
        {
          "output_type": "stream",
          "name": "stdout",
          "text": [
            "A: [[1 3]\n",
            " [2 6]]\n"
          ]
        }
      ]
    },
    {
      "cell_type": "code",
      "source": [
        "print(\"rank:\", np.linalg.matrix_rank(A))\n",
        "try:\n",
        "  A_inv = np.linalg.inv(A) \n",
        "except:\n",
        "  print('Error: Singular matrix')"
      ],
      "metadata": {
        "colab": {
          "base_uri": "https://localhost:8080/"
        },
        "id": "L8-GSeY0aaCN",
        "outputId": "231369ef-dccb-4dc9-a5d2-db4c1ce580f9"
      },
      "execution_count": 11,
      "outputs": [
        {
          "output_type": "stream",
          "name": "stdout",
          "text": [
            "rank: 1\n",
            "Error: Singular matrix\n"
          ]
        }
      ]
    },
    {
      "cell_type": "code",
      "source": [
        "P, L, U = scipy.linalg.lu(A)\n",
        "\n",
        "print('P:',P)\n",
        "print('L:',L)\n",
        "print('U:',U)\n",
        "\n",
        "AA = P@L@U\n",
        "print('AA:',AA)"
      ],
      "metadata": {
        "colab": {
          "base_uri": "https://localhost:8080/"
        },
        "id": "56Jtrbz2aw4X",
        "outputId": "c356555d-c913-4356-8321-96fda6259a32"
      },
      "execution_count": 12,
      "outputs": [
        {
          "output_type": "stream",
          "name": "stdout",
          "text": [
            "P: [[0. 1.]\n",
            " [1. 0.]]\n",
            "L: [[1.  0. ]\n",
            " [0.5 1. ]]\n",
            "U: [[2. 6.]\n",
            " [0. 0.]]\n",
            "AA: [[1. 3.]\n",
            " [2. 6.]]\n"
          ]
        }
      ]
    },
    {
      "cell_type": "code",
      "source": [
        "b = np.array([2,4])\n",
        "# LU 분해\n",
        "lu, piv = scipy.linalg.lu_factor(A)\n",
        "x = scipy.linalg.lu_solve((lu, piv), b)\n",
        "\n",
        "print('x:',x)\n",
        "print(np.shape(x))"
      ],
      "metadata": {
        "colab": {
          "base_uri": "https://localhost:8080/"
        },
        "id": "V5e9oGDFa-04",
        "outputId": "644b695c-4ba4-4e5f-e438-1420391b2da9"
      },
      "execution_count": 13,
      "outputs": [
        {
          "output_type": "stream",
          "name": "stdout",
          "text": [
            "x: [nan nan]\n",
            "(2,)\n"
          ]
        },
        {
          "output_type": "stream",
          "name": "stderr",
          "text": [
            "/usr/local/lib/python3.7/dist-packages/ipykernel_launcher.py:3: LinAlgWarning: Diagonal number 2 is exactly zero. Singular matrix.\n",
            "  This is separate from the ipykernel package so we can avoid doing imports until\n"
          ]
        }
      ]
    }
  ]
}