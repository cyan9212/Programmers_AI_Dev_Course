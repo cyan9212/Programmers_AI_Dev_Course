{
 "cells": [
  {
   "cell_type": "code",
   "execution_count": 1,
   "id": "70cb59a5",
   "metadata": {},
   "outputs": [
    {
     "name": "stdout",
     "output_type": "stream",
     "text": [
      "hello\n"
     ]
    }
   ],
   "source": [
    "print('hello')"
   ]
  },
  {
   "cell_type": "markdown",
   "id": "6e1166b7",
   "metadata": {},
   "source": [
    "### Hello  World!"
   ]
  },
  {
   "cell_type": "markdown",
   "id": "8e213726",
   "metadata": {},
   "source": [
    "M ->  Markdown\n",
    "\n",
    "Y -> Code"
   ]
  },
  {
   "cell_type": "markdown",
   "id": "aedba3f1",
   "metadata": {},
   "source": [
    "A -> 현재 셀 위에 셀을 추가\n",
    "\n",
    "B -> 현재 셀 아래에 셀을 추가"
   ]
  },
  {
   "cell_type": "markdown",
   "id": "7bb1ab00",
   "metadata": {},
   "source": [
    "dd -> 현제 셀을 제거"
   ]
  },
  {
   "cell_type": "markdown",
   "id": "00a78b73",
   "metadata": {},
   "source": [
    "bold -> **Bold**\n",
    "\n",
    "# header\n",
    "\n",
    "## header\n",
    "\n",
    "### header"
   ]
  },
  {
   "cell_type": "markdown",
   "id": "f5a8b6d3",
   "metadata": {},
   "source": [
    "*italic*  \n",
    "_italic_"
   ]
  },
  {
   "cell_type": "markdown",
   "id": "ec93ad16",
   "metadata": {},
   "source": [
    "~strikethrough~"
   ]
  },
  {
   "cell_type": "markdown",
   "id": "38826e83",
   "metadata": {},
   "source": [
    "### Unordered List\n",
    "- hand\n",
    "- body\n",
    "- tail\n"
   ]
  },
  {
   "cell_type": "markdown",
   "id": "e75470d4",
   "metadata": {},
   "source": [
    "### Ordered List\n",
    "1. apple\n",
    "2. orange\n",
    "3. banana"
   ]
  },
  {
   "cell_type": "code",
   "execution_count": null,
   "id": "bd03ef54",
   "metadata": {},
   "outputs": [],
   "source": []
  }
 ],
 "metadata": {
  "kernelspec": {
   "display_name": "Python 3 (ipykernel)",
   "language": "python",
   "name": "python3"
  },
  "language_info": {
   "codemirror_mode": {
    "name": "ipython",
    "version": 3
   },
   "file_extension": ".py",
   "mimetype": "text/x-python",
   "name": "python",
   "nbconvert_exporter": "python",
   "pygments_lexer": "ipython3",
   "version": "3.9.4"
  }
 },
 "nbformat": 4,
 "nbformat_minor": 5
}
