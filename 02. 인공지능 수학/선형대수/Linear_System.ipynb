{
  "nbformat": 4,
  "nbformat_minor": 0,
  "metadata": {
    "colab": {
      "name": "Linear_System.ipynb",
      "provenance": [],
      "collapsed_sections": []
    },
    "kernelspec": {
      "name": "python3",
      "display_name": "Python 3"
    },
    "language_info": {
      "name": "python"
    }
  },
  "cells": [
    {
      "cell_type": "code",
      "execution_count": 1,
      "metadata": {
        "id": "F6h8uw-Lxcpw"
      },
      "outputs": [],
      "source": [
        "import numpy as np"
      ]
    },
    {
      "cell_type": "code",
      "source": [
        "# 행렬 코딩\n",
        "A = np.array([[3,1,1], [1,-2,-1], [1,1,1]])\n",
        "\n",
        "print(A)\n",
        "print(A.shape)"
      ],
      "metadata": {
        "colab": {
          "base_uri": "https://localhost:8080/"
        },
        "id": "B3U9f2DUxsAr",
        "outputId": "8133d18c-7d7d-44dd-9451-d1ab0633d0fd"
      },
      "execution_count": 2,
      "outputs": [
        {
          "output_type": "stream",
          "name": "stdout",
          "text": [
            "[[ 3  1  1]\n",
            " [ 1 -2 -1]\n",
            " [ 1  1  1]]\n",
            "(3, 3)\n"
          ]
        }
      ]
    },
    {
      "cell_type": "code",
      "source": [
        "# 벡터 코딩\n",
        "B = np.array([4,1,2])\n",
        "\n",
        "print(B)\n",
        "print(B.shape)"
      ],
      "metadata": {
        "colab": {
          "base_uri": "https://localhost:8080/"
        },
        "id": "UEODh7Qkx7EC",
        "outputId": "429d1f6d-6c92-46f1-d722-1db3ac30a736"
      },
      "execution_count": 3,
      "outputs": [
        {
          "output_type": "stream",
          "name": "stdout",
          "text": [
            "[4 1 2]\n",
            "(3,)\n"
          ]
        }
      ]
    },
    {
      "cell_type": "code",
      "source": [
        "# 역행렬 구하기\n",
        "A_inv = np.linalg.inv(A)\n",
        "\n",
        "print(A_inv)\n",
        "print(A_inv.shape)"
      ],
      "metadata": {
        "colab": {
          "base_uri": "https://localhost:8080/"
        },
        "id": "fc5xpCm8zKhg",
        "outputId": "d2449e1d-e734-4c61-c67d-e7d235ae319c"
      },
      "execution_count": 4,
      "outputs": [
        {
          "output_type": "stream",
          "name": "stdout",
          "text": [
            "[[ 5.00000000e-01 -7.40148683e-17 -5.00000000e-01]\n",
            " [ 1.00000000e+00 -1.00000000e+00 -2.00000000e+00]\n",
            " [-1.50000000e+00  1.00000000e+00  3.50000000e+00]]\n",
            "(3, 3)\n"
          ]
        }
      ]
    },
    {
      "cell_type": "code",
      "source": [
        "# 역행렬을 이용한 선형 시스템 Ax = B의 해 구하기\n",
        "x = A_inv @ B\n",
        "\n",
        "print(x)\n",
        "print(x.shape)"
      ],
      "metadata": {
        "colab": {
          "base_uri": "https://localhost:8080/"
        },
        "id": "upQ3T4d30D3I",
        "outputId": "0df9bad2-7ed6-4ed1-8fae-e9097ba9856b"
      },
      "execution_count": 5,
      "outputs": [
        {
          "output_type": "stream",
          "name": "stdout",
          "text": [
            "[ 1. -1.  2.]\n",
            "(3,)\n"
          ]
        }
      ]
    },
    {
      "cell_type": "code",
      "source": [
        "# 결과 검증\n",
        "bb = A @ x\n",
        "\n",
        "print(bb.shape)\n",
        "print(bb)\n",
        "\n",
        "if np.linalg.norm(B - bb) < 1e-3:\n",
        "  print('OK')\n",
        "else:\n",
        "  print('wrong')"
      ],
      "metadata": {
        "colab": {
          "base_uri": "https://localhost:8080/"
        },
        "id": "o7Zdng1A0nzh",
        "outputId": "d90304ba-a156-403b-9cb9-354609220490"
      },
      "execution_count": 6,
      "outputs": [
        {
          "output_type": "stream",
          "name": "stdout",
          "text": [
            "(3,)\n",
            "[4. 1. 2.]\n",
            "OK\n"
          ]
        }
      ]
    },
    {
      "cell_type": "code",
      "source": [
        ""
      ],
      "metadata": {
        "id": "aOFtoyGE1Jhv"
      },
      "execution_count": null,
      "outputs": []
    }
  ]
}