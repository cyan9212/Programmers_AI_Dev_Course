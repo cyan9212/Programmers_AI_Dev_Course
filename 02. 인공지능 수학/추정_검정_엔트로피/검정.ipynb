{
  "nbformat": 4,
  "nbformat_minor": 0,
  "metadata": {
    "colab": {
      "name": "검정.ipynb",
      "provenance": []
    },
    "kernelspec": {
      "name": "python3",
      "display_name": "Python 3"
    },
    "language_info": {
      "name": "python"
    }
  },
  "cells": [
    {
      "cell_type": "code",
      "execution_count": 3,
      "metadata": {
        "id": "lZr9IyVaDh5N"
      },
      "outputs": [],
      "source": [
        "import numpy as np\n",
        "import scipy.stats"
      ]
    },
    {
      "cell_type": "code",
      "source": [
        "w = [10.7, 11.7, 9.8, 11.4, 10.8, 9.9, 10.1, 8.8, 12.2, 11.0, 11.3, 11.1, 10.3, 10.0, 9.9, 11.1, 11.7, 11.5, 9.1, 10.3, 8.6, 12.1, 10.0, 13.0, 9.2, 9.8, 9.3, 9.4, 9.6, 9.2]\n",
        "mu = 10.5\n",
        "xbar = np.mean(w) # 표본평균\n",
        "sd = np.std(w, ddof=1) #표본표준편차\n",
        "print('평균: %.2f, 표준편차: %.2f'%(xbar, sd))\n",
        "z = (xbar - mu) / (sd/np.sqrt(len(w))) #Z값 (검정통계량)\n",
        "print('검정통계량:',z)\n",
        "alpha = 0.05\n",
        "cri = scipy.stats.norm.ppf(1-alpha/2)\n",
        "print('임계값:',cri)"
      ],
      "metadata": {
        "colab": {
          "base_uri": "https://localhost:8080/"
        },
        "id": "OF4XgbxlKCNi",
        "outputId": "deead69c-e19c-42ac-804c-4445aa337b2f"
      },
      "execution_count": 4,
      "outputs": [
        {
          "output_type": "stream",
          "name": "stdout",
          "text": [
            "평균: 10.43, 표준편차: 1.11\n",
            "검정통계량: -0.34544881283443796\n",
            "임계값= 1.959963984540054\n"
          ]
        }
      ]
    },
    {
      "cell_type": "code",
      "source": [
        "w = [i-0.55 for i in w]\n",
        "mu = 10.5\n",
        "xbar = np.mean(w) # 표본평균\n",
        "sd = np.std(w, ddof=1) #표본표준편차\n",
        "print('평균: %.2f, 표준편차: %.2f'%(xbar, sd))\n",
        "z = (xbar - mu) / (sd/np.sqrt(len(w))) #Z값 (검정통계량)\n",
        "print('검정통계량:',z)\n",
        "alpha = 0.05\n",
        "cri = scipy.stats.norm.ppf(1-alpha/2)\n",
        "print('임계값:',cri)"
      ],
      "metadata": {
        "colab": {
          "base_uri": "https://localhost:8080/"
        },
        "id": "yvCiD6PLLD1g",
        "outputId": "0d3ada6d-20a3-48c8-a004-07652664b184"
      },
      "execution_count": 6,
      "outputs": [
        {
          "output_type": "stream",
          "name": "stdout",
          "text": [
            "평균: 9.88, 표준편차: 1.11\n",
            "검정통계량: -3.059689485105005\n",
            "임계값: 1.959963984540054\n"
          ]
        }
      ]
    }
  ]
}