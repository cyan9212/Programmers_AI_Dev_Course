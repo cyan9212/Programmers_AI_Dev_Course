{
  "nbformat": 4,
  "nbformat_minor": 0,
  "metadata": {
    "colab": {
      "name": "교차엔트로피.ipynb",
      "provenance": []
    },
    "kernelspec": {
      "name": "python3",
      "display_name": "Python 3"
    },
    "language_info": {
      "name": "python"
    }
  },
  "cells": [
    {
      "cell_type": "code",
      "execution_count": 1,
      "metadata": {
        "id": "TSIZvAuobeNP"
      },
      "outputs": [],
      "source": [
        "import numpy as np"
      ]
    },
    {
      "cell_type": "code",
      "source": [
        "def cross_entropy(P, Q):\n",
        "  return sum([-P[i]*np.log2(Q[i]) for i in range(len(P))])\n",
        "\n",
        "P = [1,0]\n",
        "Q = [0.8, 0.2]\n",
        "print(cross_entropy(P, Q))\n",
        "Q = [0.5, 0.5]\n",
        "print(cross_entropy(P, Q))\n",
        "Q = [0.2, 0.8]\n",
        "print(cross_entropy(P, Q))"
      ],
      "metadata": {
        "colab": {
          "base_uri": "https://localhost:8080/"
        },
        "id": "d9ugiqQPFLFu",
        "outputId": "58dc22ea-14e0-4b84-c9c8-21aa71dae751"
      },
      "execution_count": 2,
      "outputs": [
        {
          "output_type": "stream",
          "name": "stdout",
          "text": [
            "0.3219280948873623\n",
            "1.0\n",
            "2.321928094887362\n"
          ]
        }
      ]
    }
  ]
}